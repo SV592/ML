{
 "cells": [
  {
   "cell_type": "markdown",
   "metadata": {
    "id": "JFXZug066bJX"
   },
   "source": [
    "# Upload files in Google Colab\n",
    "If you are running this Jupyter Notebook on Google Colab, run this cell to upload the data files (train_inputs.csv, train_targets.csv, test_inputs.csv, test_targets.csv) in the colab virtual machine.  You will be prompted to select files that you would like to upload. \n",
    "\n",
    "If you are running this Jupyter Notebook on your computer, you do not need to run this cell."
   ]
  },
  {
   "cell_type": "code",
   "execution_count": 1,
   "metadata": {
    "colab": {
     "base_uri": "https://localhost:8080/",
     "height": 212
    },
    "id": "dqBJV_Br4XeI",
    "outputId": "ca0e111b-2278-41ab-c548-d86d4efcd023"
   },
   "outputs": [
    {
     "data": {
      "text/html": [
       "\n",
       "     <input type=\"file\" id=\"files-f7f77c20-e825-4b95-bb4f-1e7e5059908c\" name=\"files[]\" multiple disabled\n",
       "        style=\"border:none\" />\n",
       "     <output id=\"result-f7f77c20-e825-4b95-bb4f-1e7e5059908c\">\n",
       "      Upload widget is only available when the cell has been executed in the\n",
       "      current browser session. Please rerun this cell to enable.\n",
       "      </output>\n",
       "      <script>// Copyright 2017 Google LLC\n",
       "//\n",
       "// Licensed under the Apache License, Version 2.0 (the \"License\");\n",
       "// you may not use this file except in compliance with the License.\n",
       "// You may obtain a copy of the License at\n",
       "//\n",
       "//      http://www.apache.org/licenses/LICENSE-2.0\n",
       "//\n",
       "// Unless required by applicable law or agreed to in writing, software\n",
       "// distributed under the License is distributed on an \"AS IS\" BASIS,\n",
       "// WITHOUT WARRANTIES OR CONDITIONS OF ANY KIND, either express or implied.\n",
       "// See the License for the specific language governing permissions and\n",
       "// limitations under the License.\n",
       "\n",
       "/**\n",
       " * @fileoverview Helpers for google.colab Python module.\n",
       " */\n",
       "(function(scope) {\n",
       "function span(text, styleAttributes = {}) {\n",
       "  const element = document.createElement('span');\n",
       "  element.textContent = text;\n",
       "  for (const key of Object.keys(styleAttributes)) {\n",
       "    element.style[key] = styleAttributes[key];\n",
       "  }\n",
       "  return element;\n",
       "}\n",
       "\n",
       "// Max number of bytes which will be uploaded at a time.\n",
       "const MAX_PAYLOAD_SIZE = 100 * 1024;\n",
       "\n",
       "function _uploadFiles(inputId, outputId) {\n",
       "  const steps = uploadFilesStep(inputId, outputId);\n",
       "  const outputElement = document.getElementById(outputId);\n",
       "  // Cache steps on the outputElement to make it available for the next call\n",
       "  // to uploadFilesContinue from Python.\n",
       "  outputElement.steps = steps;\n",
       "\n",
       "  return _uploadFilesContinue(outputId);\n",
       "}\n",
       "\n",
       "// This is roughly an async generator (not supported in the browser yet),\n",
       "// where there are multiple asynchronous steps and the Python side is going\n",
       "// to poll for completion of each step.\n",
       "// This uses a Promise to block the python side on completion of each step,\n",
       "// then passes the result of the previous step as the input to the next step.\n",
       "function _uploadFilesContinue(outputId) {\n",
       "  const outputElement = document.getElementById(outputId);\n",
       "  const steps = outputElement.steps;\n",
       "\n",
       "  const next = steps.next(outputElement.lastPromiseValue);\n",
       "  return Promise.resolve(next.value.promise).then((value) => {\n",
       "    // Cache the last promise value to make it available to the next\n",
       "    // step of the generator.\n",
       "    outputElement.lastPromiseValue = value;\n",
       "    return next.value.response;\n",
       "  });\n",
       "}\n",
       "\n",
       "/**\n",
       " * Generator function which is called between each async step of the upload\n",
       " * process.\n",
       " * @param {string} inputId Element ID of the input file picker element.\n",
       " * @param {string} outputId Element ID of the output display.\n",
       " * @return {!Iterable<!Object>} Iterable of next steps.\n",
       " */\n",
       "function* uploadFilesStep(inputId, outputId) {\n",
       "  const inputElement = document.getElementById(inputId);\n",
       "  inputElement.disabled = false;\n",
       "\n",
       "  const outputElement = document.getElementById(outputId);\n",
       "  outputElement.innerHTML = '';\n",
       "\n",
       "  const pickedPromise = new Promise((resolve) => {\n",
       "    inputElement.addEventListener('change', (e) => {\n",
       "      resolve(e.target.files);\n",
       "    });\n",
       "  });\n",
       "\n",
       "  const cancel = document.createElement('button');\n",
       "  inputElement.parentElement.appendChild(cancel);\n",
       "  cancel.textContent = 'Cancel upload';\n",
       "  const cancelPromise = new Promise((resolve) => {\n",
       "    cancel.onclick = () => {\n",
       "      resolve(null);\n",
       "    };\n",
       "  });\n",
       "\n",
       "  // Wait for the user to pick the files.\n",
       "  const files = yield {\n",
       "    promise: Promise.race([pickedPromise, cancelPromise]),\n",
       "    response: {\n",
       "      action: 'starting',\n",
       "    }\n",
       "  };\n",
       "\n",
       "  cancel.remove();\n",
       "\n",
       "  // Disable the input element since further picks are not allowed.\n",
       "  inputElement.disabled = true;\n",
       "\n",
       "  if (!files) {\n",
       "    return {\n",
       "      response: {\n",
       "        action: 'complete',\n",
       "      }\n",
       "    };\n",
       "  }\n",
       "\n",
       "  for (const file of files) {\n",
       "    const li = document.createElement('li');\n",
       "    li.append(span(file.name, {fontWeight: 'bold'}));\n",
       "    li.append(span(\n",
       "        `(${file.type || 'n/a'}) - ${file.size} bytes, ` +\n",
       "        `last modified: ${\n",
       "            file.lastModifiedDate ? file.lastModifiedDate.toLocaleDateString() :\n",
       "                                    'n/a'} - `));\n",
       "    const percent = span('0% done');\n",
       "    li.appendChild(percent);\n",
       "\n",
       "    outputElement.appendChild(li);\n",
       "\n",
       "    const fileDataPromise = new Promise((resolve) => {\n",
       "      const reader = new FileReader();\n",
       "      reader.onload = (e) => {\n",
       "        resolve(e.target.result);\n",
       "      };\n",
       "      reader.readAsArrayBuffer(file);\n",
       "    });\n",
       "    // Wait for the data to be ready.\n",
       "    let fileData = yield {\n",
       "      promise: fileDataPromise,\n",
       "      response: {\n",
       "        action: 'continue',\n",
       "      }\n",
       "    };\n",
       "\n",
       "    // Use a chunked sending to avoid message size limits. See b/62115660.\n",
       "    let position = 0;\n",
       "    do {\n",
       "      const length = Math.min(fileData.byteLength - position, MAX_PAYLOAD_SIZE);\n",
       "      const chunk = new Uint8Array(fileData, position, length);\n",
       "      position += length;\n",
       "\n",
       "      const base64 = btoa(String.fromCharCode.apply(null, chunk));\n",
       "      yield {\n",
       "        response: {\n",
       "          action: 'append',\n",
       "          file: file.name,\n",
       "          data: base64,\n",
       "        },\n",
       "      };\n",
       "\n",
       "      let percentDone = fileData.byteLength === 0 ?\n",
       "          100 :\n",
       "          Math.round((position / fileData.byteLength) * 100);\n",
       "      percent.textContent = `${percentDone}% done`;\n",
       "\n",
       "    } while (position < fileData.byteLength);\n",
       "  }\n",
       "\n",
       "  // All done.\n",
       "  yield {\n",
       "    response: {\n",
       "      action: 'complete',\n",
       "    }\n",
       "  };\n",
       "}\n",
       "\n",
       "scope.google = scope.google || {};\n",
       "scope.google.colab = scope.google.colab || {};\n",
       "scope.google.colab._files = {\n",
       "  _uploadFiles,\n",
       "  _uploadFilesContinue,\n",
       "};\n",
       "})(self);\n",
       "</script> "
      ],
      "text/plain": [
       "<IPython.core.display.HTML object>"
      ]
     },
     "metadata": {},
     "output_type": "display_data"
    },
    {
     "name": "stdout",
     "output_type": "stream",
     "text": [
      "Saving test_inputs.csv to test_inputs.csv\n",
      "Saving test_labels.csv to test_labels.csv\n",
      "Saving train_inputs.csv to train_inputs.csv\n",
      "Saving train_labels.csv to train_labels.csv\n",
      "\u001b[0m\u001b[01;34msample_data\u001b[0m/     test_labels.csv   train_labels.csv\n",
      "test_inputs.csv  train_inputs.csv\n"
     ]
    }
   ],
   "source": [
    "from google.colab import files\n",
    "uploaded = files.upload()"
   ]
  },
  {
   "cell_type": "markdown",
   "metadata": {
    "id": "LZDpxE4jmFwA"
   },
   "source": [
    "# Import libraries \n",
    "Do not use any other Python library."
   ]
  },
  {
   "cell_type": "code",
   "execution_count": 2,
   "metadata": {
    "id": "m_1d0BPfmacB"
   },
   "outputs": [],
   "source": [
    "import numpy as np\n",
    "import matplotlib.pyplot as plt\n",
    "from tqdm import tqdm"
   ]
  },
  {
   "cell_type": "markdown",
   "metadata": {
    "id": "6keYhcgi7nbf"
   },
   "source": [
    "# Function: load_logistic_regression_data\n",
    "\n",
    "This function loads the data for Logistic Regression from a local drive into RAM\n",
    "\n",
    "Outputs:\n",
    "\n",
    "*   **train_inputs**: numpy array of N training data points x M features\n",
    "*   **train_labels**: numpy array of N training labels\n",
    "*   **test_inputs**: numpy array of N' test data points x M features\n",
    "*   **test_labels**: numpy array of N' test labels"
   ]
  },
  {
   "cell_type": "code",
   "execution_count": 3,
   "metadata": {
    "id": "vcG5U2lR7utt"
   },
   "outputs": [],
   "source": [
    "def load_logistic_regression_data():\n",
    "  test_inputs = np.genfromtxt('test_inputs.csv', delimiter=',')\n",
    "  test_labels = np.genfromtxt('test_labels.csv', delimiter=',')\n",
    "  train_inputs = np.genfromtxt('train_inputs.csv', delimiter=',')\n",
    "  train_labels = np.genfromtxt('train_labels.csv', delimiter=',')\n",
    "  return train_inputs, train_labels, test_inputs, test_labels"
   ]
  },
  {
   "cell_type": "markdown",
   "metadata": {
    "id": "NZTxUMDM2PDx"
   },
   "source": [
    "# Function: sigmoid\n",
    "\n",
    "This function implements the logistic sigmoid.\n",
    "\n",
    "Input:\n",
    "*   **input**: vector of inputs (numpy array of floats)\n",
    "\n",
    "Output:\n",
    "*   **output**: vector of outputs (numpy array of floats)"
   ]
  },
  {
   "cell_type": "code",
   "execution_count": 4,
   "metadata": {
    "id": "evR9GYnV3FmM"
   },
   "outputs": [],
   "source": [
    "def sigmoid(input):\n",
    "  output = 1/(1 + np.exp(-input))\n",
    "  return output"
   ]
  },
  {
   "cell_type": "markdown",
   "metadata": {
    "id": "GwLo3p4f8bTa"
   },
   "source": [
    "# Function: predict_logistic_regression\n",
    "\n",
    "This function uses a vector of weights to make predictions for a set of inputs.  The prediction for each data point is a distribution over the labels.  Assume that there are only two possible labels {0,1}.\n",
    "\n",
    "Inputs:\n",
    "*   **inputs**: matrix of input data points for which we want to make a prediction (numpy array of N data points x M+1 features)\n",
    "*   **weights**: vector of weights (numpy array of M+1 weights)\n",
    "\n",
    "Output:\n",
    "*   **predicted_probabilities**: matrix of predicted probabilities (numpy array of N data points x 2 labels)"
   ]
  },
  {
   "cell_type": "code",
   "execution_count": 5,
   "metadata": {
    "id": "iX04_wClRqkV"
   },
   "outputs": [],
   "source": [
    "def predict_logistic_regression(inputs, weights):\n",
    "  probabilities = sigmoid(np.dot(weights, inputs.T)) \n",
    "  predicted_probabilities = np.array([probabilities, 1-probabilities]).T\n",
    "  return predicted_probabilities "
   ]
  },
  {
   "cell_type": "markdown",
   "metadata": {
    "id": "fmfPN7K0RtQ5"
   },
   "source": [
    "# Function eval_logistic_regression\n",
    "\n",
    "This function evaluates a set of predictions by computing the negative log probabilities of the labels and the accuracy (percentage of correctly predicted labels).  Assume that there are only two possible labels {0,1}.  A data point is correctly labeled when the probability of the target label is >= 0.5.\n",
    "\n",
    "Inputs:\n",
    "*   **inputs**: matrix of input data points for which we will evaluate the predictions (numpy array of N data points x M+1 features)\n",
    "*   **weights**: vector of weights (numpy array of M+1 weights)\n",
    "*   **labels**: vector of target labels associated with the inputs (numpy array of N labels)\n",
    "\n",
    "Outputs:\n",
    "*   **neg_log_prob**: negative log probability of the set of predictions (float)\n",
    "*   **accuracy**: percentage of correctly labeled data points (float)"
   ]
  },
  {
   "cell_type": "code",
   "execution_count": 26,
   "metadata": {
    "id": "wC14LEsvTxbu"
   },
   "outputs": [],
   "source": [
    "def eval_logistic_regression(inputs, weights, labels):\n",
    "  predicted_labels = np.log(predict_logistic_regression(inputs, weights))\n",
    "  accurate_labels = predict_logistic_regression(inputs, weights)\n",
    "  accuracy = (np.count_nonzero(accurate_labels >= 0.5) / len(labels)) * 100\n",
    "\n",
    "  neg_log_prob = 0\n",
    "\n",
    "  for i in range(len(labels)):\n",
    "    neg_log_prob += (labels[i]*predicted_labels[i,0]) + ((1-labels[i])* predicted_labels[i,1])\n",
    "\n",
    "  return -neg_log_prob, accuracy"
   ]
  },
  {
   "cell_type": "markdown",
   "metadata": {
    "id": "R7hZ4XVP4U4y"
   },
   "source": [
    "# Function: initialize_weights\n",
    "\n",
    "This function initializes the weights uniformly at random in the interval [-0.01,0.01]\n",
    "\n",
    "Input:\n",
    "*   **n_weights**: # of weights to be initialized (integer)\n",
    "\n",
    "Output:\n",
    "*   **random_weights**: vector of weights (numpy array of floats)"
   ]
  },
  {
   "cell_type": "code",
   "execution_count": 7,
   "metadata": {
    "id": "9OjhevpV5FBg"
   },
   "outputs": [],
   "source": [
    "def initialize_weights(n_weights):\n",
    "  random_weights = np.random.uniform(-0.01,0.01,n_weights)\n",
    "  return random_weights"
   ]
  },
  {
   "cell_type": "markdown",
   "metadata": {
    "id": "RMAzC5xXT0H-"
   },
   "source": [
    "# Function train_logistic_regression_gradient\n",
    "\n",
    "This function optimizes a set of weights for logistic regression based on a training set.  Initialize the weights with the function initialize_weights.  Implement gradient descent to optimize the weights.  Stop the algorithm when the Euclidean norm of the gradient is less than gradient_norm_threshold=0.1 or the number of iterations (i.e., gradient updates) reaches max_iters=10000.  Use learning_rate=0.0001. Assume that there are only two labels {0,1}.\n",
    "\n",
    "Inputs:\n",
    "*   **train_inputs**: matrix of input training points (numpy array of N data points x M+1 features)\n",
    "*   **train_labels**: vector of labels associated with the inputs (numpy array of N labels)\n",
    "*   **lambda_hyperparam**: lambda hyperparameter used to adjust the importance of the regularizer (scalar)\n",
    "*   **max_iters**: maximum number of iterations (i.e., number of weight updates) (default=10000)\n",
    "*   **gradient_norm_threshold**: threshold for the Euclidean norm of the gradient.  When the norm of the gradient falls below this threshold, the algorithm is stopped. (default=0.1)\n",
    "*   **learning_rate**: learning rate that that multiplies the gradient in a weight update (default=0.0001)\n",
    "\n",
    "Output:\n",
    "*   **weights**: vector of weights that have been optimized (numpy array of M+1 weights)\n",
    "*   **n_iters**: number of iterations (i.e., number of weight updates)\n",
    "\n"
   ]
  },
  {
   "cell_type": "code",
   "execution_count": 8,
   "metadata": {
    "id": "_DkzoT5QVy41"
   },
   "outputs": [],
   "source": [
    "def train_logistic_regression_gradient(train_inputs, train_labels, lambda_hyperparam, max_iters=10000, gradient_norm_threshold=0.1, learning_rate=0.0001):\n",
    "  i = 0\n",
    "  gradient_norm = gradient_norm_threshold + 1\n",
    "  weights = initialize_weights(train_inputs.shape[1])\n",
    "  \n",
    "  while i <= max_iters and gradient_norm > gradient_norm_threshold:\n",
    "    predicted_labels = predict_logistic_regression(train_inputs, weights)\n",
    "    error_margin =  predicted_labels[:, 0] - train_labels\n",
    "    \n",
    "    gradient = np.dot(error_margin.T, train_inputs) + lambda_hyperparam * weights\n",
    "    gradient_norm = np.linalg.norm(gradient)\n",
    "    \n",
    "    weights -= learning_rate * gradient\n",
    "    i += 1\n",
    "  return weights, i"
   ]
  },
  {
   "cell_type": "markdown",
   "metadata": {
    "id": "ZPmXbYggOzOf"
   },
   "source": [
    "# Function train_logistic_regression_newton\n",
    "\n",
    "This function optimizes a set of weights for logistic regression based on a training set.  Initialize the weights with the function initialize_weights.  Implement Newton's algorithm to optimize the weights.  Stop the algorithm when the Euclidean norm of the gradient is less than gradient_norm_threshold=0.1 or the number of iterations (i.e., weight updates) reaches max_iters=10000. Assume that there are only two labels {0,1}.\n",
    "\n",
    "Inputs:\n",
    "*   **train_inputs**: matrix of input training points (numpy array of N data points x M+1 features)\n",
    "*   **train_labels**: vector of labels associated with the inputs (numpy array of N labels)\n",
    "*   **lambda_hyperparam**: lambda hyperparameter used to adjust the importance of the regularizer (scalar)\n",
    "*   **max_iters**: maximum number of iterations (i.e., number of weight updates) (default=10000)\n",
    "*   **gradient_norm_threshold**: threshold for the Euclidean norm of the gradient.  When the norm of the gradient falls below this threshold, the algorithm is stopped. (default=0.1)\n",
    "\n",
    "Output:\n",
    "*   **weights**: vector of weights that have been optimized (numpy array of M+1 weights)\n",
    "*   **n_iters**: number of iterations (i.e., number of weight updates)\n",
    "\n"
   ]
  },
  {
   "cell_type": "code",
   "execution_count": 9,
   "metadata": {
    "id": "cXCPk6WRPBGw"
   },
   "outputs": [],
   "source": [
    "def train_logistic_regression_newton(train_inputs, train_labels, lambda_hyperparam, max_iters=10000, gradient_norm_threshold=0.1):\n",
    "  i = 0 \n",
    "  gradient_norm = gradient_norm_threshold + 1\n",
    "  weights = initialize_weights(train_inputs.shape[1])\n",
    "  \n",
    "  while i <= max_iters and gradient_norm > gradient_norm_threshold:\n",
    "    predicted_labels = predict_logistic_regression(train_inputs, weights)\n",
    "    error_margin =  predicted_labels[:, 0] - train_labels\n",
    "    \n",
    "    gradient =  np.dot(error_margin.T, train_inputs) + lambda_hyperparam * weights\n",
    "    gradient_norm = np.linalg.norm(gradient)\n",
    "    r = np.identity(train_inputs.shape[0])\n",
    "    \n",
    "    for i in range(train_inputs.shape[0]):\n",
    "      r[i, i] = predicted_labels[i, 0] * predicted_labels[i, 1] \n",
    "    \n",
    "    hessian = np.dot(train_inputs.T, np.dot(r, train_inputs)) + lambda_hyperparam * np.identity(train_inputs.shape[1])\n",
    "    weights -= np.dot(np.linalg.inv(hessian), gradient)\n",
    "    i += 1\n",
    "\n",
    "  return weights, i"
   ]
  },
  {
   "cell_type": "markdown",
   "metadata": {
    "id": "VYIbLxX7V2DW"
   },
   "source": [
    "# Function cross_validation_logistic_regression\n",
    "\n",
    "This function performs k-fold cross validation to determine the best lambda hyperparameter in logistic regression\n",
    "\n",
    "Inputs:\n",
    "*   **k_folds**: # of folds in cross-validation (integer)\n",
    "*   **hyperparameters**: list of hyperparameters where each hyperparameter is a different lambda value (list of floats)\n",
    "*   **inputs**: matrix of input points (numpy array of N data points by M+1 features)\n",
    "*   **labels**: vector of labels associated with the inputs (numpy array of N labels)\n",
    "*   **algorithm**: string in {'newton','gradient descent'}\n",
    "\n",
    "Outputs:\n",
    "*   **best_hyperparam**: best lambda value for logistic regression (float)\n",
    "*   **best_neg_log_prob**: negative log probabilty achieved with best_hyperparam (float)\n",
    "*   **neg_log_probabilities**: vector of negative log probabilities for the corresponding hyperparameters (numpy array of floats)\n",
    "\n"
   ]
  },
  {
   "cell_type": "code",
   "execution_count": 10,
   "metadata": {
    "id": "_ZzoiZxLZMcV"
   },
   "outputs": [],
   "source": [
    "def cross_validation_logistic_regression(k_folds, hyperparameters, inputs, labels, algorithm):\n",
    "  label = np.array_split(labels, k_folds)\n",
    "  fold = np.array_split(inputs, k_folds)\n",
    "  neg_log_prob = np.array([])\n",
    "  \n",
    "  for hyper in hyperparameters:\n",
    "    h_parameter_nl = 0\n",
    "    accuracy = 0\n",
    "\n",
    "    for i in range (k_folds):\n",
    "      test_inputs = fold[i]\n",
    "      test_labels = label[i]\n",
    "      train_inputs = np.concatenate([fold[j] for j in range (k_folds) if j != i])\n",
    "      train_labels = np.concatenate([label[j] for j in range (k_folds) if j != i])\n",
    "\n",
    "      if algorithm == \"gradient descent\":\n",
    "        [weights, n_iter] = train_logistic_regression_gradient(train_inputs, train_labels, hyper, 10000, 0.1, 0.0001)\n",
    "      elif algorithm == \"newton\":  \n",
    "        [weights, n_iter] = train_logistic_regression_newton(train_inputs, train_labels, hyper, 10000, 0.1)\n",
    "      else:\n",
    "        raise ValueError('Invalid algorithm: {}. Only \"newton\" and \"gradient descent\" are allowed.'.format(algorithm))   \n",
    "\n",
    "      [nl, accuracy] = eval_logistic_regression(test_inputs, weights, test_labels)\n",
    "      h_parameter_nl += nl\n",
    "\n",
    "    neg_log_prob = np.append(neg_log_prob, h_parameter_nl/k_folds)\n",
    "  \n",
    "  a = neg_log_prob.argmin()\n",
    "  best_hyperparam = hyperparameters[a]\n",
    "  best_neg_log_prob = neg_log_prob[a]\n",
    "  neg_log_probabilities = neg_log_prob\n",
    "  return best_hyperparam, best_neg_log_prob, neg_log_probabilities"
   ]
  },
  {
   "cell_type": "markdown",
   "metadata": {
    "id": "_ah5AAayZfVU"
   },
   "source": [
    "# Function: plot_logistic_regression_neg_log_probabilities\n",
    "\n",
    "Function that plots the negative log probabilities for different lambda values (hyperparameters) in logistic regression based on cross validation\n",
    "\n",
    "Inputs:\n",
    "*   **neg_log_probabilities**: vector of negative log probabilities for the corresponding hyperparameters (numpy array of floats)\n",
    "*   **hyperparams**: list of hyperparameters where each hyperparameter is a different lambda value (list of floats)\n",
    "*   **algorithm**: string in {'newton','gradient descent'}"
   ]
  },
  {
   "cell_type": "code",
   "execution_count": 11,
   "metadata": {
    "id": "dh9qZuzMatsZ"
   },
   "outputs": [],
   "source": [
    "def plot_logistic_regression_neg_log_probabilities(neg_log_probabilities,hyperparams,algorithm):\n",
    "  plt.plot(hyperparams,neg_log_probabilities)\n",
    "  plt.ylabel('negative log probability')\n",
    "  plt.xlabel('lambda')\n",
    "  plt.title(algorithm)\n",
    "  plt.show()"
   ]
  },
  {
   "cell_type": "markdown",
   "metadata": {
    "id": "s21LRP5Qb3m8"
   },
   "source": [
    "# Main Logistic Regression code\n",
    "\n",
    "Load data (rescale the inputs to be in the [-1,1] range, add 1 at the end of each datapoint and rename the labels 5,6 to 0,1).\n",
    "Use k-fold cross validation to find the best lambda value for logistic regression.\n",
    "Plot the negative log probabilities for different lambda values.\n",
    "Test logistic regression with the best lambda value."
   ]
  },
  {
   "cell_type": "code",
   "execution_count": 27,
   "metadata": {
    "colab": {
     "base_uri": "https://localhost:8080/",
     "height": 747
    },
    "id": "njlK2bf7sycQ",
    "outputId": "4af2b5cd-1c8d-4874-ec33-8f5d66db3457"
   },
   "outputs": [
    {
     "data": {
      "image/png": "[encoded data removed]",
      "text/plain": [
       "<Figure size 432x288 with 1 Axes>"
      ]
     },
     "metadata": {
      "needs_background": "light"
     },
     "output_type": "display_data"
    },
    {
     "name": "stdout",
     "output_type": "stream",
     "text": [
      "Gradient descent best lambda: 8\n",
      "Gradient descent best cross validation negative log probability: 37.60475915995886\n",
      "Gradient descent test accuracy: 100.0\n",
      "Gradient descent test negative log probability: 33.285738454642704\n",
      "Gradient descent # of iterations: 3101\n"
     ]
    },
    {
     "data": {
      "image/png": "[encoded data removed]",
      "text/plain": [
       "<Figure size 432x288 with 1 Axes>"
      ]
     },
     "metadata": {
      "needs_background": "light"
     },
     "output_type": "display_data"
    },
    {
     "name": "stdout",
     "output_type": "stream",
     "text": [
      "Newton best lambda: 8\n",
      "Newton best cross validation negative log probability: 37.60806442833481\n",
      "Newton test accuracy: 100.0\n",
      "Newton test negative log probability: 33.29203077371129\n",
      "Newton # of iterations: 1000\n"
     ]
    }
   ],
   "source": [
    "# load data\n",
    "train_inputs, train_labels, test_inputs, test_labels = load_logistic_regression_data()\n",
    "\n",
    "# rescale inputs in the [-1,1] range\n",
    "train_inputs = (train_inputs - 8)/8\n",
    "test_inputs = (test_inputs - 8)/8\n",
    "\n",
    "# add 1 at the end of each data point\n",
    "train_inputs = np.concatenate((train_inputs,np.ones((train_inputs.shape[0],1))),1)\n",
    "test_inputs = np.concatenate((test_inputs,np.ones((test_inputs.shape[0],1))),1)\n",
    "\n",
    "# rename the classes 5,6 to 0,1\n",
    "train_labels = train_labels.astype(int) - 5\n",
    "test_labels = test_labels.astype(int) - 5\n",
    "\n",
    "###############################################\n",
    "# logistic regression based on gradient descent\n",
    "###############################################\n",
    "\n",
    "# lambda values to be evaluated by cross validation\n",
    "hyperparams = range(26)\n",
    "k_folds = 10\n",
    "best_lambda, best_neg_log_prob, neg_log_probabilities = cross_validation_logistic_regression(k_folds,hyperparams,train_inputs,train_labels,'gradient descent')\n",
    "\n",
    "# plot results\n",
    "plot_logistic_regression_neg_log_probabilities(neg_log_probabilities,hyperparams,'gradient descent')\n",
    "print('Gradient descent best lambda: ' + str(best_lambda))\n",
    "print('Gradient descent best cross validation negative log probability: ' + str(best_neg_log_prob))\n",
    "\n",
    "# train and evaluate with best lambda\n",
    "weights, n_iters = train_logistic_regression_gradient(train_inputs,train_labels,best_lambda)\n",
    "neg_log_prob, accuracy = eval_logistic_regression(test_inputs, weights, test_labels)\n",
    "print('Gradient descent test accuracy: ' + str(accuracy))\n",
    "print('Gradient descent test negative log probability: ' + str(neg_log_prob))\n",
    "print('Gradient descent # of iterations: ' + str(n_iters))\n",
    "\n",
    "#################################################\n",
    "# logistic regression based on Newton's algorithm\n",
    "#################################################\n",
    "\n",
    "# lambda values to be evaluated by cross validation\n",
    "hyperparams = range(26)\n",
    "k_folds = 10\n",
    "best_lambda, best_neg_log_prob, neg_log_probabilities = cross_validation_logistic_regression(k_folds,hyperparams,train_inputs,train_labels,'newton')\n",
    "\n",
    "# plot results\n",
    "plot_logistic_regression_neg_log_probabilities(neg_log_probabilities,hyperparams,'newton')\n",
    "print('Newton best lambda: ' + str(best_lambda))\n",
    "print('Newton best cross validation negative log probability: ' + str(best_neg_log_prob))\n",
    "\n",
    "# train and evaluate with best lambda\n",
    "weights, n_iters = train_logistic_regression_newton(train_inputs,train_labels,best_lambda)\n",
    "neg_log_prob, accuracy = eval_logistic_regression(test_inputs, weights, test_labels)\n",
    "print('Newton test accuracy: ' + str(accuracy))\n",
    "print('Newton test negative log probability: ' + str(neg_log_prob))\n",
    "print('Newton # of iterations: ' + str(n_iters))\n"
   ]
  },
  {
   "cell_type": "markdown",
   "metadata": {
    "id": "XrZ89HrA9dBO"
   },
   "source": [
    "**Question 1:**\n",
    "Gradient Decent Algorithm has a time complexity    \n",
    "O(n) 'linear time' and a space complexity of O(1) 'constant time'. Best case applications would be for linear regression problems with large datasets because of its simplicity and computational efficency\n",
    "\n",
    "Newton's Algorithm would typically have a time complexity of O(d^3) 'cubic time' with d being the number of dimensions and a space complexity of O(d^2) 'quadratic time'. This would be best applied on linear regression problems where the cost function is smooth and the gradient and hessian can be easily computed.\n",
    "\n",
    "**Question 2:**\n",
    "Logistic regression find a linear sperator menaing it finds the best hyperplane to seperate data into classes. Where as KNN finds a non-linear seperator by using the majority class of the k nearest neighbors for a given datapoint.\n",
    "\n",
    "The performance for each seperator depends on the given dataset where logostic regression would perform best when the features and target relationship is linear. KNN does the opposite and perfroms best when the relationship is non-linear, while it can handle any type of data it is computationally expensive to interpret other types of data.\n",
    "\n",
    "**Question 3:**\n",
    "The plot_boundary function in the code creates a meshgrid of x and y values and then calculates a boundary between two classes based on the weights and bias of the logistic regression model. If the boundary separates the two classes well, it suggests that the classes are linearly separable. The visualization of the boundary can give you an idea of how well the model is separating the two classes.\n",
    "\n",
    "\n",
    "\n"
   ]
  },
  {
   "cell_type": "code",
   "execution_count": null,
   "metadata": {
    "id": "rfOW3T4yH6yW"
   },
   "outputs": [],
   "source": [
    "#Question 3\n",
    "\n",
    "# Load your dataset\n",
    "train_inputs, train_labels, test_inputs, test_labels = load_logistic_regression_data()\n",
    "\n",
    "X = train_inputs \n",
    "y = train_labels\n",
    "\n",
    "# Fit a logistic regression model\n",
    "weights = np.zeros(X.shape[1])  # Initialize weights\n",
    "#weights = weights.reshape(-1, 1)\n",
    "bias = 0  # Initialize bias\n",
    "learning_rate = 0.01  # Set learning rate\n",
    "\n",
    "# Train the model using gradient descent\n",
    "for i in range(100):\n",
    "    # Calculate the predicted probabilities for each data point\n",
    "    z = X.dot(weights) + bias\n",
    "    predictions = 1 / (1 + np.exp(-z))\n",
    "\n",
    "    # Calculate the error for each data point\n",
    "    error = predictions - y\n",
    "\n",
    "    # Update the weights and bias using gradient descent\n",
    "    weights = weights - learning_rate * X.T.dot(error)\n",
    "    bias = bias - learning_rate * np.sum(error)\n",
    "\n",
    "# Plot the data and the decision boundary\n",
    "x_min, x_max = X[:, 0].min() - 1, X[:, 0].max() + 1\n",
    "y_min, y_max = X[:, 1].min() - 1, X[:, 1].max() + 1\n",
    "xx, yy = np.meshgrid(np.arange(x_min, x_max, 0.1), np.arange(y_min, y_max, 0.1))\n",
    "grid = np.c_[xx.ravel(), yy.ravel()]\n",
    "weights = weights.reshape(-1,1)\n",
    "z = grid.dot(weights.shape)\n",
    "probs = 1 / (1 + np.exp(-z))\n",
    "probs = probs.reshape(xx.shape)\n",
    "\n",
    "plt.contourf(xx, yy, probs, alpha=0.3)\n",
    "plt.scatter(X[y == 0, 0], X[y == 0, 1], color='red', marker='o', label='class 0')\n",
    "plt.scatter(X[y == 1, 0], X[y == 1, 1], color='blue', marker='x', label='class 1')\n",
    "plt.xlabel('Feature 1')\n",
    "plt.ylabel('Feature 2')\n",
    "plt.legend()\n",
    "plt.show()"
   ]
  }
 ],
 "metadata": {
  "colab": {
   "provenance": []
  },
  "kernelspec": {
   "display_name": "Python 3",
   "name": "python3"
  }
 },
 "nbformat": 4,
 "nbformat_minor": 0
}
