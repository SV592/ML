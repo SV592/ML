{
  "cells": [
    {
      "cell_type": "markdown",
      "metadata": {
        "id": "SjndRzjVTDSx"
      },
      "source": [
        "Download data"
      ]
    },
    {
      "cell_type": "code",
      "execution_count": 1,
      "metadata": {
        "colab": {
          "base_uri": "https://localhost:8080/"
        },
        "id": "HeeD4VZ0TBm9",
        "outputId": "69147075-9f0e-4a4a-de5a-b74fc4506cd7"
      },
      "outputs": [
        {
          "output_type": "stream",
          "name": "stdout",
          "text": [
            "--2023-03-20 01:54:17--  https://download.pytorch.org/tutorial/data.zip\n",
            "Resolving download.pytorch.org (download.pytorch.org)... 13.226.52.90, 13.226.52.36, 13.226.52.51, ...\n",
            "Connecting to download.pytorch.org (download.pytorch.org)|13.226.52.90|:443... connected.\n",
            "HTTP request sent, awaiting response... 200 OK\n",
            "Length: 2882130 (2.7M) [application/zip]\n",
            "Saving to: ‘data.zip’\n",
            "\n",
            "data.zip            100%[===================>]   2.75M  --.-KB/s    in 0.1s    \n",
            "\n",
            "2023-03-20 01:54:17 (20.9 MB/s) - ‘data.zip’ saved [2882130/2882130]\n",
            "\n",
            "Archive:  data.zip\n",
            "   creating: data/\n",
            "  inflating: data/eng-fra.txt        \n",
            "   creating: data/names/\n",
            "  inflating: data/names/Arabic.txt   \n",
            "  inflating: data/names/Chinese.txt  \n",
            "  inflating: data/names/Czech.txt    \n",
            "  inflating: data/names/Dutch.txt    \n",
            "  inflating: data/names/English.txt  \n",
            "  inflating: data/names/French.txt   \n",
            "  inflating: data/names/German.txt   \n",
            "  inflating: data/names/Greek.txt    \n",
            "  inflating: data/names/Irish.txt    \n",
            "  inflating: data/names/Italian.txt  \n",
            "  inflating: data/names/Japanese.txt  \n",
            "  inflating: data/names/Korean.txt   \n",
            "  inflating: data/names/Polish.txt   \n",
            "  inflating: data/names/Portuguese.txt  \n",
            "  inflating: data/names/Russian.txt  \n",
            "  inflating: data/names/Scottish.txt  \n",
            "  inflating: data/names/Spanish.txt  \n",
            "  inflating: data/names/Vietnamese.txt  \n",
            "data  data.zip\tsample_data\n"
          ]
        }
      ],
      "source": [
        "!wget https://download.pytorch.org/tutorial/data.zip\n",
        "!unzip data.zip\n",
        "!ls"
      ]
    },
    {
      "cell_type": "code",
      "execution_count": null,
      "metadata": {
        "id": "4tSGA3X6dURt"
      },
      "outputs": [],
      "source": [
        "%matplotlib inline"
      ]
    },
    {
      "cell_type": "markdown",
      "metadata": {
        "id": "MRMSa-PEdURy"
      },
      "source": [
        "\n",
        "Generating Names with a Character-Level RNN\n",
        "*******************************************\n",
        "**Author**: `Sean Robertson <https://github.com/spro/practical-pytorch>`_\n",
        "\n",
        "In the :doc:`last tutorial </intermediate/char_rnn_classification_tutorial>`\n",
        "we used a RNN to classify names into their language of origin. This time\n",
        "we'll turn around and generate names from languages.\n",
        "\n",
        "::\n",
        "\n",
        "    > python sample.py Russian RUS\n",
        "    Rovakov\n",
        "    Uantov\n",
        "    Shavakov\n",
        "\n",
        "    > python sample.py German GER\n",
        "    Gerren\n",
        "    Ereng\n",
        "    Rosher\n",
        "\n",
        "    > python sample.py Spanish SPA\n",
        "    Salla\n",
        "    Parer\n",
        "    Allan\n",
        "\n",
        "    > python sample.py Chinese CHI\n",
        "    Chan\n",
        "    Hang\n",
        "    Iun\n",
        "\n",
        "We are still hand-crafting a small RNN with a few linear layers. The big\n",
        "difference is instead of predicting a category after reading in all the\n",
        "letters of a name, we input a category and output one letter at a time.\n",
        "Recurrently predicting characters to form language (this could also be\n",
        "done with words or other higher order constructs) is often referred to\n",
        "as a \"language model\".\n",
        "\n",
        "**Recommended Reading:**\n",
        "\n",
        "I assume you have at least installed PyTorch, know Python, and\n",
        "understand Tensors:\n",
        "\n",
        "-  http://pytorch.org/ For installation instructions\n",
        "-  :doc:`/beginner/deep_learning_60min_blitz` to get started with PyTorch in general\n",
        "-  :doc:`/beginner/pytorch_with_examples` for a wide and deep overview\n",
        "-  :doc:`/beginner/former_torchies_tutorial` if you are former Lua Torch user\n",
        "\n",
        "It would also be useful to know about RNNs and how they work:\n",
        "\n",
        "-  `The Unreasonable Effectiveness of Recurrent Neural\n",
        "   Networks <http://karpathy.github.io/2015/05/21/rnn-effectiveness/>`__\n",
        "   shows a bunch of real life examples\n",
        "-  `Understanding LSTM\n",
        "   Networks <http://colah.github.io/posts/2015-08-Understanding-LSTMs/>`__\n",
        "   is about LSTMs specifically but also informative about RNNs in\n",
        "   general\n",
        "\n",
        "I also suggest the previous tutorial, :doc:`/intermediate/char_rnn_classification_tutorial`\n",
        "\n",
        "\n",
        "Preparing the Data\n",
        "==================\n",
        "\n",
        ".. Note::\n",
        "   Download the data from\n",
        "   `here <https://download.pytorch.org/tutorial/data.zip>`_\n",
        "   and extract it to the current directory.\n",
        "\n",
        "See the last tutorial for more detail of this process. In short, there\n",
        "are a bunch of plain text files ``data/names/[Language].txt`` with a\n",
        "name per line. We split lines into an array, convert Unicode to ASCII,\n",
        "and end up with a dictionary ``{language: [names ...]}``.\n",
        "\n",
        "\n"
      ]
    },
    {
      "cell_type": "code",
      "execution_count": 2,
      "metadata": {
        "colab": {
          "base_uri": "https://localhost:8080/"
        },
        "id": "yivWZ-QrdURz",
        "outputId": "f18bf592-5561-43e9-bf25-03a68c45d84c"
      },
      "outputs": [
        {
          "output_type": "stream",
          "name": "stdout",
          "text": [
            "# categories: 18 ['Polish', 'English', 'Vietnamese', 'German', 'Korean', 'Portuguese', 'Spanish', 'Russian', 'French', 'Italian', 'Chinese', 'Scottish', 'Arabic', 'Czech', 'Irish', 'Greek', 'Japanese', 'Dutch']\n",
            "O'Neal\n"
          ]
        }
      ],
      "source": [
        "from __future__ import unicode_literals, print_function, division\n",
        "from io import open\n",
        "import glob\n",
        "import os\n",
        "import unicodedata\n",
        "import string\n",
        "import math\n",
        "import random\n",
        "\n",
        "all_letters = string.ascii_letters + \" .,;'-\"\n",
        "n_letters = len(all_letters) + 1 # Plus EOS marker\n",
        "\n",
        "def findFiles(path): return glob.glob(path)\n",
        "\n",
        "# Turn a Unicode string to plain ASCII, thanks to http://stackoverflow.com/a/518232/2809427\n",
        "def unicodeToAscii(s):\n",
        "    return ''.join(\n",
        "        c for c in unicodedata.normalize('NFD', s)\n",
        "        if unicodedata.category(c) != 'Mn'\n",
        "        and c in all_letters\n",
        "    )\n",
        "\n",
        "# Read a file and split into lines\n",
        "def readLines(filename):\n",
        "    lines = open(filename, encoding='utf-8').read().strip().split('\\n')\n",
        "    return [unicodeToAscii(line) for line in lines]\n",
        "\n",
        "# Build the category_lines dictionary, a list of lines per category\n",
        "category_lines = {}\n",
        "train_data = {}\n",
        "validation_data = {}\n",
        "test_data = {}\n",
        "all_categories = []\n",
        "for filename in findFiles('data/names/*.txt'):\n",
        "    category = os.path.splitext(os.path.basename(filename))[0]\n",
        "    all_categories.append(category)\n",
        "    lines = readLines(filename)\n",
        "    random.shuffle(lines)\n",
        "    train_data[category] = lines[0:int(math.floor(0.7*len(lines)))]\n",
        "    validation_data[category] = lines[int(math.floor(0.7*len(lines)))+1:int(math.floor(0.85*len(lines)))]\n",
        "    test_data[category] = lines[int(math.floor(0.85*len(lines)))+1:]\n",
        "    category_lines[category] = lines\n",
        "\n",
        "n_categories = len(all_categories)\n",
        "\n",
        "if n_categories == 0:\n",
        "    raise RuntimeError('Data not found. Make sure that you downloaded data '\n",
        "        'from https://download.pytorch.org/tutorial/data.zip and extract it to '\n",
        "        'the current directory.')\n",
        "\n",
        "print('# categories:', n_categories, all_categories)\n",
        "print(unicodeToAscii(\"O'Néàl\"))"
      ]
    },
    {
      "cell_type": "markdown",
      "metadata": {
        "id": "MlY6De-4dUR1"
      },
      "source": [
        "##Creating the Network\n",
        "====================\n",
        "\n",
        "This network extends `the last tutorial's RNN <#Creating-the-Network>`__\n",
        "with an extra argument for the category tensor, which is concatenated\n",
        "along with the others. The category tensor is a one-hot vector just like\n",
        "the letter input.\n",
        "\n",
        "We will interpret the output as the probability of the next letter. When\n",
        "sampling, the most likely output letter is used as the next input\n",
        "letter.\n",
        "\n",
        "I added a second linear layer ``o2o`` (after combining hidden and\n",
        "output) to give it more muscle to work with. There's also a dropout\n",
        "layer, which `randomly zeros parts of its\n",
        "input <https://arxiv.org/abs/1207.0580>`__ with a given probability\n",
        "(here 0.1) and is usually used to fuzz inputs to prevent overfitting.\n",
        "Here we're using it towards the end of the network to purposely add some\n",
        "chaos and increase sampling variety.\n",
        "\n",
        ".. figure:: https://i.imgur.com/jzVrf7f.png\n",
        "   :alt:\n",
        "\n",
        "\n",
        "\n"
      ]
    },
    {
      "cell_type": "markdown",
      "metadata": {
        "id": "5F3ebDvfIG7D"
      },
      "source": [
        "I. Previous Hidden Unit, Previous Character and Category\n",
        "======="
      ]
    },
    {
      "cell_type": "code",
      "execution_count": 3,
      "metadata": {
        "id": "B3Y0aicRdUR2"
      },
      "outputs": [],
      "source": [
        "import torch\n",
        "import torch.nn as nn\n",
        "from torch.autograd import Variable\n",
        "\n",
        "class RNN(nn.Module):\n",
        "    def __init__(self, input_size, hidden_size, output_size):\n",
        "        super(RNN, self).__init__()\n",
        "        self.hidden_size = hidden_size\n",
        "\n",
        "        self.i2h = nn.Linear(n_categories + input_size + hidden_size, hidden_size)\n",
        "        self.i2o = nn.Linear(n_categories + input_size + hidden_size, output_size)\n",
        "        self.o2o = nn.Linear(hidden_size + output_size, output_size)\n",
        "        self.dropout = nn.Dropout(0.1)\n",
        "        self.softmax = nn.LogSoftmax(dim=1)\n",
        "\n",
        "    def forward(self, category, input, hidden):\n",
        "        input_combined = torch.cat((category, input, hidden), 1)\n",
        "        hidden = self.i2h(input_combined)\n",
        "        output = self.i2o(input_combined)\n",
        "        output_combined = torch.cat((hidden, output), 1)\n",
        "        output = self.o2o(output_combined)\n",
        "        output = self.dropout(output)\n",
        "        output = self.softmax(output)\n",
        "        return output, hidden\n",
        "\n",
        "    def initHidden(self):\n",
        "        return torch.zeros(1, self.hidden_size)"
      ]
    },
    {
      "cell_type": "markdown",
      "metadata": {
        "id": "PJVWS9uTIPle"
      },
      "source": [
        "II. Previous Hidden Unit and Previous Character\n",
        "========"
      ]
    },
    {
      "cell_type": "code",
      "execution_count": 10,
      "metadata": {
        "id": "tQiw9S7dIRQx"
      },
      "outputs": [],
      "source": [
        "import torch\n",
        "import torch.nn as nn\n",
        "from torch.autograd import Variable\n",
        "\n",
        "class RNN2(nn.Module):\n",
        "    def __init__(self, input_size, hidden_size, output_size):\n",
        "        super(RNN2, self).__init__()\n",
        "        self.hidden_size = hidden_size\n",
        "\n",
        "        self.i2h = nn.Linear(input_size + hidden_size, hidden_size)\n",
        "        self.i2o = nn.Linear(input_size + hidden_size, output_size)\n",
        "        self.o2o = nn.Linear(hidden_size + output_size, output_size)\n",
        "        self.dropout = nn.Dropout(0.1)\n",
        "        self.softmax = nn.LogSoftmax(dim=1)\n",
        "\n",
        "    def forward(self, input, hidden):\n",
        "        input_combined = torch.cat((input, hidden), 1)\n",
        "        hidden = self.i2h(input_combined)\n",
        "        output = self.i2o(input_combined)\n",
        "        output_combined = torch.cat((hidden, output), 1)\n",
        "        output = self.o2o(output_combined)\n",
        "        output = self.dropout(output)\n",
        "        output = self.softmax(output)\n",
        "        return output, hidden\n",
        "\n",
        "    def initHidden(self, category):\n",
        "        zeros = torch.zeros(1, self.hidden_size - n_categories)\n",
        "        return torch.cat((category, zeros),1)"
      ]
    },
    {
      "cell_type": "markdown",
      "metadata": {
        "id": "BE0-83VOf2Ue"
      },
      "source": [
        "III. Previous Hidden Unit and Category\n",
        "==========="
      ]
    },
    {
      "cell_type": "code",
      "execution_count": 16,
      "metadata": {
        "id": "lazmD-JEf4RQ"
      },
      "outputs": [],
      "source": [
        "import torch\n",
        "import torch.nn as nn\n",
        "from torch.autograd import Variable\n",
        "\n",
        "class RNN3(nn.Module):\n",
        "    def __init__(self, hidden_size, output_size):\n",
        "        super(RNN3, self).__init__()\n",
        "        self.hidden_size = hidden_size\n",
        "\n",
        "        self.i2h = nn.Linear(n_categories + hidden_size, hidden_size)\n",
        "        self.i2o = nn.Linear(n_categories + hidden_size, output_size)\n",
        "        self.o2o = nn.Linear(hidden_size + output_size, output_size)\n",
        "        self.dropout = nn.Dropout(0.1)\n",
        "        self.softmax = nn.LogSoftmax(dim=1)\n",
        "\n",
        "    def forward(self, category, hidden):\n",
        "        input_combined = torch.cat((category, hidden), 1)\n",
        "        hidden = self.i2h(input_combined)\n",
        "        output = self.i2o(input_combined)\n",
        "        output_combined = torch.cat((hidden, output), 1)\n",
        "        output = self.o2o(output_combined)\n",
        "        output = self.dropout(output)\n",
        "        output = self.softmax(output)\n",
        "        return output, hidden\n",
        "\n",
        "    def initHidden(self):\n",
        "        return torch.zeros(1, self.hidden_size)"
      ]
    },
    {
      "cell_type": "markdown",
      "metadata": {
        "id": "CDKviCSLjtZA"
      },
      "source": [
        "Iv. Previous Hidden Unit\n",
        "========"
      ]
    },
    {
      "cell_type": "code",
      "execution_count": 19,
      "metadata": {
        "id": "ZAckRiorjvsn"
      },
      "outputs": [],
      "source": [
        "import torch\n",
        "import torch.nn as nn\n",
        "from torch.autograd import Variable\n",
        "\n",
        "class RNN4(nn.Module):\n",
        "    def __init__(self, hidden_size, output_size):\n",
        "        super(RNN4, self).__init__()\n",
        "        self.hidden_size = hidden_size\n",
        "\n",
        "        self.i2h = nn.Linear(hidden_size, hidden_size)\n",
        "        self.i2o = nn.Linear(hidden_size, output_size)\n",
        "        self.o2o = nn.Linear(hidden_size + output_size, output_size)\n",
        "        self.dropout = nn.Dropout(0.1)\n",
        "        self.softmax = nn.LogSoftmax(dim=1)\n",
        "\n",
        "    def forward(self, hidden):\n",
        "        hidden = self.i2h(hidden)\n",
        "        output = self.i2o(hidden)\n",
        "        output_combined = torch.cat((hidden, output), 1)\n",
        "        output = self.o2o(output_combined)\n",
        "        output = self.dropout(output)\n",
        "        output = self.softmax(output)\n",
        "        return output, hidden\n",
        "\n",
        "    def initHidden(self, category):\n",
        "        zeros = torch.zeros(1, self.hidden_size - n_categories)\n",
        "        return torch.cat((category, zeros),1)"
      ]
    },
    {
      "cell_type": "markdown",
      "metadata": {
        "id": "-f_zTkMSdUR4"
      },
      "source": [
        "Training\n",
        "=========\n",
        "Preparing for Training\n",
        "----------------------\n",
        "\n",
        "First of all, helper functions to get random pairs of (category, line):\n",
        "\n",
        "\n"
      ]
    },
    {
      "cell_type": "code",
      "execution_count": 11,
      "metadata": {
        "id": "mJ4453vLdUR5"
      },
      "outputs": [],
      "source": [
        "import random\n",
        "\n",
        "# Random item from a list\n",
        "def randomChoice(l):\n",
        "    return l[random.randint(0, len(l) - 1)]\n",
        "\n",
        "# Get a random category and random line from that category\n",
        "def randomTrainingPair():\n",
        "    category = randomChoice(all_categories)\n",
        "    line = randomChoice(train_data[category])\n",
        "    return category, line"
      ]
    },
    {
      "cell_type": "markdown",
      "metadata": {
        "id": "9l7cNuyJdUR7"
      },
      "source": [
        "For each timestep (that is, for each letter in a training word) the\n",
        "inputs of the network will be\n",
        "``(category, current letter, hidden state)`` and the outputs will be\n",
        "``(next letter, next hidden state)``. So for each training set, we'll\n",
        "need the category, a set of input letters, and a set of output/target\n",
        "letters.\n",
        "\n",
        "Since we are predicting the next letter from the current letter for each\n",
        "timestep, the letter pairs are groups of consecutive letters from the\n",
        "line - e.g. for ``\"ABCD<EOS>\"`` we would create (\"A\", \"B\"), (\"B\", \"C\"),\n",
        "(\"C\", \"D\"), (\"D\", \"EOS\").\n",
        "\n",
        ".. figure:: https://i.imgur.com/JH58tXY.png\n",
        "   :alt:\n",
        "\n",
        "The category tensor is a `one-hot\n",
        "tensor <https://en.wikipedia.org/wiki/One-hot>`__ of size\n",
        "``<1 x n_categories>``. When training we feed it to the network at every\n",
        "timestep - this is a design choice, it could have been included as part\n",
        "of initial hidden state or some other strategy.\n",
        "\n",
        "\n"
      ]
    },
    {
      "cell_type": "code",
      "execution_count": 12,
      "metadata": {
        "id": "XiLZFiyddUR7"
      },
      "outputs": [],
      "source": [
        "# One-hot vector for category\n",
        "def categoryTensor(category):\n",
        "    li = all_categories.index(category)\n",
        "    tensor = torch.zeros(1, n_categories)\n",
        "    tensor[0][li] = 1\n",
        "    return tensor\n",
        "\n",
        "# One-hot matrix of first to last letters (not including EOS) for input\n",
        "def inputTensor(line):\n",
        "    tensor = torch.zeros(len(line), 1, n_letters)\n",
        "    for li in range(len(line)):\n",
        "        letter = line[li]\n",
        "        tensor[li][0][all_letters.find(letter)] = 1\n",
        "    return tensor\n",
        "\n",
        "# LongTensor of second letter to end (EOS) for target\n",
        "def targetTensor(line):\n",
        "    letter_indexes = [all_letters.find(line[li]) for li in range(1, len(line))]\n",
        "    letter_indexes.append(n_letters - 1) # EOS\n",
        "    return torch.LongTensor(letter_indexes)"
      ]
    },
    {
      "cell_type": "markdown",
      "metadata": {
        "id": "SlrGrMi0dUR-"
      },
      "source": [
        "For convenience during training we'll make a ``randomTrainingExample``\n",
        "function that fetches a random (category, line) pair and turns them into\n",
        "the required (category, input, target) tensors.\n",
        "\n",
        "\n"
      ]
    },
    {
      "cell_type": "code",
      "execution_count": 13,
      "metadata": {
        "id": "G8WKEzgLdUR_"
      },
      "outputs": [],
      "source": [
        "# Make category, input, and target tensors from a random category, line pair\n",
        "def randomTrainingExample():\n",
        "    category, line = randomTrainingPair()\n",
        "    category_tensor = categoryTensor(category)\n",
        "    input_line_tensor = inputTensor(line)\n",
        "    target_line_tensor = targetTensor(line)\n",
        "    return category_tensor, input_line_tensor, target_line_tensor"
      ]
    },
    {
      "cell_type": "markdown",
      "metadata": {
        "id": "AdFYtchcdUSB"
      },
      "source": [
        "Training the Network\n",
        "--------------------\n",
        "\n",
        "In contrast to classification, where only the last output is used, we\n",
        "are making a prediction at every step, so we are calculating loss at\n",
        "every step.\n",
        "\n",
        "The magic of autograd allows you to simply sum these losses at each step\n",
        "and call backward at the end.\n",
        "\n",
        "\n"
      ]
    },
    {
      "cell_type": "markdown",
      "metadata": {
        "id": "T4ZRyTwFfL5K"
      },
      "source": [
        "I.\n",
        "======"
      ]
    },
    {
      "cell_type": "code",
      "execution_count": 7,
      "metadata": {
        "id": "a9WcN0iMdUSB"
      },
      "outputs": [],
      "source": [
        "criterion = nn.NLLLoss()\n",
        "\n",
        "def train(category_tensor, input_line_tensor, target_line_tensor):\n",
        "    target_line_tensor.unsqueeze_(-1)\n",
        "    hidden = rnn.initHidden()\n",
        "\n",
        "    rnn.zero_grad()\n",
        "\n",
        "    loss = 0\n",
        "\n",
        "    for i in range(input_line_tensor.size(0)):\n",
        "        output, hidden = rnn(category_tensor, input_line_tensor[i], hidden)\n",
        "        l = criterion(output, target_line_tensor[i])\n",
        "        loss += l\n",
        "\n",
        "    # compute the gradient by backpropagation\n",
        "    loss.backward()\n",
        "\n",
        "    # update the parameters\n",
        "    optimizer.step()\n",
        "\n",
        "    return output, loss.item() / input_line_tensor.size(0)"
      ]
    },
    {
      "cell_type": "markdown",
      "metadata": {
        "id": "sN_JvH1ofVRK"
      },
      "source": [
        "II.\n",
        "======"
      ]
    },
    {
      "cell_type": "code",
      "execution_count": 14,
      "metadata": {
        "id": "FVS-sCE7Ooy2"
      },
      "outputs": [],
      "source": [
        "criterion2 = nn.NLLLoss()\n",
        "\n",
        "def train(category_tensor, input_line_tensor, target_line_tensor):\n",
        "    target_line_tensor.unsqueeze_(-1)\n",
        "    hidden = rnn2.initHidden(category_tensor)\n",
        "\n",
        "    rnn2.zero_grad()\n",
        "\n",
        "    loss = 0\n",
        "\n",
        "    for i in range(input_line_tensor.size(0)):\n",
        "        output, hidden = rnn2(input_line_tensor[i], hidden)\n",
        "        l = criterion2(output, target_line_tensor[i])\n",
        "        loss += l\n",
        "\n",
        "    # compute the gradient by backpropagation\n",
        "    loss.backward()\n",
        "\n",
        "    # update the parameters\n",
        "    optimizer2.step()\n",
        "\n",
        "    return output, loss.item() / input_line_tensor.size(0)"
      ]
    },
    {
      "cell_type": "markdown",
      "metadata": {
        "id": "sWjDCHXcgTxE"
      },
      "source": [
        "III.\n",
        "======"
      ]
    },
    {
      "cell_type": "code",
      "execution_count": 17,
      "metadata": {
        "id": "-wInQi0LgVXr"
      },
      "outputs": [],
      "source": [
        "criterion3 = nn.NLLLoss()\n",
        "\n",
        "def train(category_tensor, input_line_tensor, target_line_tensor):\n",
        "    target_line_tensor.unsqueeze_(-1)\n",
        "    hidden = rnn3.initHidden()\n",
        "\n",
        "    rnn3.zero_grad()\n",
        "\n",
        "    loss = 0\n",
        "\n",
        "    for i in range(input_line_tensor.size(0)):\n",
        "        output, hidden = rnn3(category_tensor, hidden)\n",
        "        l = criterion3(output, target_line_tensor[i])\n",
        "        loss += l\n",
        "\n",
        "    # compute the gradient by backpropagation\n",
        "    loss.backward()\n",
        "\n",
        "    # update the parameters\n",
        "    optimizer3.step()\n",
        "\n",
        "    return output, loss.item() / input_line_tensor.size(0)"
      ]
    },
    {
      "cell_type": "markdown",
      "metadata": {
        "id": "yIx0dbrWkrE0"
      },
      "source": [
        "IV.\n",
        "====="
      ]
    },
    {
      "cell_type": "code",
      "execution_count": 20,
      "metadata": {
        "id": "SKOoLw3dksui"
      },
      "outputs": [],
      "source": [
        "criterion4 = nn.NLLLoss()\n",
        "\n",
        "def train(category_tensor, input_line_tensor, target_line_tensor):\n",
        "    target_line_tensor.unsqueeze_(-1)\n",
        "    hidden = rnn4.initHidden(category_tensor)\n",
        "\n",
        "    rnn4.zero_grad()\n",
        "\n",
        "    loss = 0\n",
        "\n",
        "    for i in range(input_line_tensor.size(0)):\n",
        "        output, hidden = rnn4(hidden)\n",
        "        l = criterion4(output, target_line_tensor[i])\n",
        "        loss += l\n",
        "\n",
        "    # compute the gradient by backpropagation\n",
        "    loss.backward()\n",
        "\n",
        "    # update the parameters\n",
        "    optimizer4.step()\n",
        "\n",
        "    return output, loss.item() / input_line_tensor.size(0)"
      ]
    },
    {
      "cell_type": "markdown",
      "metadata": {
        "id": "sxerzd5cdUSE"
      },
      "source": [
        "To keep track of how long training takes I am adding a\n",
        "``timeSince(timestamp)`` function which returns a human readable string:\n",
        "\n",
        "\n"
      ]
    },
    {
      "cell_type": "code",
      "execution_count": 8,
      "metadata": {
        "id": "CgynvRVzdUSE"
      },
      "outputs": [],
      "source": [
        "import time\n",
        "import math\n",
        "\n",
        "def timeSince(since):\n",
        "    now = time.time()\n",
        "    s = now - since\n",
        "    m = math.floor(s / 60)\n",
        "    s -= m * 60\n",
        "    return '%dm %ds' % (m, s)"
      ]
    },
    {
      "cell_type": "markdown",
      "metadata": {
        "id": "7pLWH-5YdUSH"
      },
      "source": [
        "Training is business as usual - call train a bunch of times and wait a\n",
        "few minutes, printing the current time and loss every ``print_every``\n",
        "examples, and keeping store of an average loss per ``plot_every`` examples\n",
        "in ``all_losses`` for plotting later.\n",
        "\n",
        "\n"
      ]
    },
    {
      "cell_type": "markdown",
      "metadata": {
        "id": "bJ8lahsVfQ4s"
      },
      "source": [
        "I.\n",
        "====="
      ]
    },
    {
      "cell_type": "code",
      "execution_count": 9,
      "metadata": {
        "colab": {
          "base_uri": "https://localhost:8080/"
        },
        "id": "VpSLff2TdUSI",
        "outputId": "0240409c-3690-44cc-c3a1-bdd85a49adaf"
      },
      "outputs": [
        {
          "output_type": "stream",
          "name": "stdout",
          "text": [
            "\n",
            "Iter \tTrain% \tTime \t\tTrain_loss\n",
            "2500 \t6% \t(0m 28s) \t2.4359\n",
            "5000 \t12% \t(1m 2s) \t2.3596\n",
            "7500 \t18% \t(1m 35s) \t2.3253\n",
            "10000 \t25% \t(2m 9s) \t2.2596\n",
            "12500 \t31% \t(2m 42s) \t2.2220\n",
            "15000 \t37% \t(3m 15s) \t2.2480\n",
            "17500 \t43% \t(3m 48s) \t2.3012\n",
            "20000 \t50% \t(4m 20s) \t2.2314\n",
            "22500 \t56% \t(4m 53s) \t2.2212\n",
            "25000 \t62% \t(5m 25s) \t2.2385\n",
            "27500 \t68% \t(5m 59s) \t2.2127\n",
            "30000 \t75% \t(6m 31s) \t2.2306\n",
            "32500 \t81% \t(7m 4s) \t2.1906\n",
            "35000 \t87% \t(7m 36s) \t2.1641\n",
            "37500 \t93% \t(8m 9s) \t2.2065\n",
            "40000 \t100% \t(8m 44s) \t2.2366\n"
          ]
        }
      ],
      "source": [
        "rnn = RNN(n_letters, 128, n_letters)\n",
        "optimizer = torch.optim.Adam(rnn.parameters())\n",
        "\n",
        "\n",
        "n_iters = 40000\n",
        "print_every = 2500\n",
        "plot_every = 500\n",
        "all_train_losses = []\n",
        "all_validation_losses = []\n",
        "train_loss = 0 # Reset every plot_every iters\n",
        "\n",
        "# Just return an output given a line\n",
        "def evaluate(category_tensor, input_line_tensor, target_line_tensor):\n",
        "    target_line_tensor.unsqueeze_(-1)\n",
        "    hidden = rnn.initHidden()\n",
        "    loss = 0\n",
        "    for i in range(input_line_tensor.size()[0]):\n",
        "        output, hidden = rnn(category_tensor, input_line_tensor[i], hidden)\n",
        "        loss += criterion(output, target_line_tensor[i])\n",
        "    return output, loss.item() / input_line_tensor.size(0)\n",
        "\n",
        "def eval_dataset(dataset):\n",
        "    total_loss = 0\n",
        "    n_instances = 0\n",
        "    for category in all_categories:\n",
        "        category_tensor = Variable(categoryTensor(category))\n",
        "        n_instances += len(dataset[category])\n",
        "        for line in dataset[category]:\n",
        "            input_line_tensor = Variable(inputTensor(line))\n",
        "            target_line_tensor = Variable(targetTensor(line))\n",
        "            output, loss = evaluate(category_tensor, input_line_tensor, target_line_tensor)\n",
        "            total_loss += loss\n",
        "    return total_loss / n_instances\n",
        "\n",
        "start = time.time()\n",
        "print('\\nIter \\tTrain% \\tTime \\t\\tTrain_loss')\n",
        "for iter in range(1, n_iters + 1):\n",
        "    output, loss = train(*randomTrainingExample())\n",
        "    train_loss += loss\n",
        "\n",
        "    if iter % print_every == 0:\n",
        "        print('%d \\t%d%% \\t(%s) \\t%.4f' % (iter, iter / n_iters * 100, timeSince(start), train_loss / plot_every))\n",
        "\n",
        "    if iter % plot_every == 0:\n",
        "        all_train_losses.append(train_loss / plot_every)\n",
        "        train_loss = 0\n",
        "        \n",
        "    # Compute loss based on validation data\n",
        "    if iter % plot_every == 0:\n",
        "        average_validation_loss = eval_dataset(validation_data)\n",
        "\n",
        "        # save model with best validation loss\n",
        "        if len(all_validation_losses) == 0 or average_validation_loss < min(all_validation_losses):\n",
        "            torch.save(rnn, 'char_rnn_generation_model.pt')\n",
        "        all_validation_losses.append(average_validation_loss)"
      ]
    },
    {
      "cell_type": "markdown",
      "metadata": {
        "id": "GrIBfApNMreF"
      },
      "source": [
        "II.\n",
        "====="
      ]
    },
    {
      "cell_type": "code",
      "execution_count": 15,
      "metadata": {
        "colab": {
          "base_uri": "https://localhost:8080/"
        },
        "id": "3plE0MYpMtBw",
        "outputId": "83339240-2814-4e6f-b03c-499a74c838ce"
      },
      "outputs": [
        {
          "output_type": "stream",
          "name": "stdout",
          "text": [
            "\n",
            "Iter \tTrain% \tTime \t\tTrain_loss\n",
            "2500 \t6% \t(0m 29s) \t2.5815\n",
            "5000 \t12% \t(1m 4s) \t2.3978\n",
            "7500 \t18% \t(1m 38s) \t2.3664\n",
            "10000 \t25% \t(2m 11s) \t2.3645\n",
            "12500 \t31% \t(2m 46s) \t2.3074\n",
            "15000 \t37% \t(3m 20s) \t2.3175\n",
            "17500 \t43% \t(3m 54s) \t2.2658\n",
            "20000 \t50% \t(4m 29s) \t2.2745\n",
            "22500 \t56% \t(5m 3s) \t2.2568\n",
            "25000 \t62% \t(5m 37s) \t2.2845\n",
            "27500 \t68% \t(6m 12s) \t2.2169\n",
            "30000 \t75% \t(6m 47s) \t2.2706\n",
            "32500 \t81% \t(7m 21s) \t2.2462\n",
            "35000 \t87% \t(7m 55s) \t2.2434\n",
            "37500 \t93% \t(8m 30s) \t2.2386\n",
            "40000 \t100% \t(9m 5s) \t2.1894\n"
          ]
        }
      ],
      "source": [
        "rnn2 = RNN2(n_letters, 128, n_letters)\n",
        "optimizer2 = torch.optim.Adam(rnn2.parameters())\n",
        "\n",
        "\n",
        "n_iters = 40000\n",
        "print_every = 2500\n",
        "plot_every = 500\n",
        "all_train_losses2 = []\n",
        "all_validation_losses2 = []\n",
        "train_loss2 = 0 # Reset every plot_every iters\n",
        "\n",
        "# Just return an output given a line\n",
        "def evaluate2(category_tensor, input_line_tensor, target_line_tensor):\n",
        "    target_line_tensor.unsqueeze_(-1)\n",
        "    hidden = rnn2.initHidden(category_tensor)\n",
        "    loss = 0\n",
        "    input_line_tensor = input_line_tensor.long()\n",
        "    for i in range(input_line_tensor.size()[0]):\n",
        "        output, hidden = rnn2(input_line_tensor[i], hidden)\n",
        "        loss += criterion2(output, target_line_tensor[i])\n",
        "    return output, loss.item() / input_line_tensor.size(0)\n",
        "\n",
        "def eval_dataset2(dataset):\n",
        "    total_loss2 = 0\n",
        "    n_instances2 = 0\n",
        "    for category in all_categories:\n",
        "        category_tensor = Variable(categoryTensor(category))\n",
        "        n_instances2 += len(dataset[category])\n",
        "        for line in dataset[category]:\n",
        "            input_line_tensor = Variable(inputTensor(line))\n",
        "            target_line_tensor = Variable(targetTensor(line))\n",
        "            output, loss = evaluate2(category_tensor, input_line_tensor, target_line_tensor)\n",
        "            total_loss2 += loss\n",
        "    return total_loss2 / n_instances2\n",
        "\n",
        "start = time.time()\n",
        "print('\\nIter \\tTrain% \\tTime \\t\\tTrain_loss')\n",
        "for iter in range(1, n_iters + 1):\n",
        "    output, loss = train(*randomTrainingExample())\n",
        "    train_loss2 += loss\n",
        "\n",
        "    if iter % print_every == 0:\n",
        "        print('%d \\t%d%% \\t(%s) \\t%.4f' % (iter, iter / n_iters * 100, timeSince(start), train_loss2 / plot_every))\n",
        "\n",
        "    if iter % plot_every == 0:\n",
        "        all_train_losses2.append(train_loss2 / plot_every)\n",
        "        train_loss2 = 0\n",
        "        \n",
        "    # Compute loss based on validation data\n",
        "    if iter % plot_every == 0:\n",
        "        average_validation_loss2 = eval_dataset2(validation_data)\n",
        "\n",
        "        # save model with best validation loss\n",
        "        if len(all_validation_losses2) == 0 or average_validation_loss2 < min(all_validation_losses2):\n",
        "            torch.save(rnn2, 'char_rnn2_generation_model.pt')\n",
        "        all_validation_losses2.append(average_validation_loss2)"
      ]
    },
    {
      "cell_type": "markdown",
      "metadata": {
        "id": "yG798ddLgnoq"
      },
      "source": [
        "III.\n",
        "======"
      ]
    },
    {
      "cell_type": "code",
      "execution_count": 18,
      "metadata": {
        "colab": {
          "base_uri": "https://localhost:8080/"
        },
        "id": "QWgTd142gpJT",
        "outputId": "82fef68f-039f-43b9-be26-8d1a902dd2e9"
      },
      "outputs": [
        {
          "output_type": "stream",
          "name": "stdout",
          "text": [
            "\n",
            "Iter \tTrain% \tTime \t\tTrain_loss\n",
            "2500 \t6% \t(0m 28s) \t2.7122\n",
            "5000 \t12% \t(1m 0s) \t2.6841\n",
            "7500 \t18% \t(1m 31s) \t2.6457\n",
            "10000 \t25% \t(2m 2s) \t2.6342\n",
            "12500 \t31% \t(2m 33s) \t2.6590\n",
            "15000 \t37% \t(3m 4s) \t2.6038\n",
            "17500 \t43% \t(3m 36s) \t2.6200\n",
            "20000 \t50% \t(4m 7s) \t2.5957\n",
            "22500 \t56% \t(4m 38s) \t2.6303\n",
            "25000 \t62% \t(5m 10s) \t2.6445\n",
            "27500 \t68% \t(5m 42s) \t2.5954\n",
            "30000 \t75% \t(6m 13s) \t2.6060\n",
            "32500 \t81% \t(6m 44s) \t2.5981\n",
            "35000 \t87% \t(7m 15s) \t2.5870\n",
            "37500 \t93% \t(7m 46s) \t2.5803\n",
            "40000 \t100% \t(8m 18s) \t2.6002\n"
          ]
        }
      ],
      "source": [
        "rnn3 = RNN3(128, n_letters)\n",
        "optimizer3 = torch.optim.Adam(rnn3.parameters())\n",
        "\n",
        "\n",
        "n_iters = 40000\n",
        "print_every = 2500\n",
        "plot_every = 500\n",
        "all_train_losses3 = []\n",
        "all_validation_losses3 = []\n",
        "train_loss3 = 0 # Reset every plot_every iters\n",
        "\n",
        "# Just return an output given a line\n",
        "def evaluate3(category_tensor, input_line_tensor, target_line_tensor):\n",
        "    target_line_tensor.unsqueeze_(-1)\n",
        "    hidden = rnn3.initHidden()\n",
        "    loss = 0\n",
        "    for i in range(input_line_tensor.size()[0]):\n",
        "        output, hidden = rnn3(category_tensor, hidden)\n",
        "        loss += criterion(output, target_line_tensor[i])\n",
        "    return output, loss.item() / input_line_tensor.size(0)\n",
        "\n",
        "def eval_dataset3(dataset):\n",
        "    total_loss3 = 0\n",
        "    n_instances3 = 0\n",
        "    for category in all_categories:\n",
        "        category_tensor = Variable(categoryTensor(category))\n",
        "        n_instances3 += len(dataset[category])\n",
        "        for line in dataset[category]:\n",
        "            input_line_tensor = Variable(inputTensor(line))\n",
        "            target_line_tensor = Variable(targetTensor(line))\n",
        "            output, loss = evaluate3(category_tensor, input_line_tensor, target_line_tensor)\n",
        "            total_loss3 += loss\n",
        "    return total_loss3 / n_instances3\n",
        "\n",
        "start = time.time()\n",
        "print('\\nIter \\tTrain% \\tTime \\t\\tTrain_loss')\n",
        "for iter in range(1, n_iters + 1):\n",
        "    output, loss = train(*randomTrainingExample())\n",
        "    train_loss3 += loss\n",
        "\n",
        "    if iter % print_every == 0:\n",
        "        print('%d \\t%d%% \\t(%s) \\t%.4f' % (iter, iter / n_iters * 100, timeSince(start), train_loss3 / plot_every))\n",
        "\n",
        "    if iter % plot_every == 0:\n",
        "        all_train_losses3.append(train_loss3 / plot_every)\n",
        "        train_loss3 = 0\n",
        "        \n",
        "    # Compute loss based on validation data\n",
        "    if iter % plot_every == 0:\n",
        "        average_validation_loss3 = eval_dataset3(validation_data)\n",
        "\n",
        "        # save model with best validation loss\n",
        "        if len(all_validation_losses3) == 0 or average_validation_loss3 < min(all_validation_losses3):\n",
        "            torch.save(rnn3, 'char_rnn3_generation_model.pt')\n",
        "        all_validation_losses3.append(average_validation_loss3)"
      ]
    },
    {
      "cell_type": "markdown",
      "metadata": {
        "id": "6wYVlPDqk-PF"
      },
      "source": [
        "IV.\n",
        "====="
      ]
    },
    {
      "cell_type": "code",
      "execution_count": 21,
      "metadata": {
        "colab": {
          "base_uri": "https://localhost:8080/"
        },
        "id": "2ZstgX10lAZx",
        "outputId": "e0783dca-8218-411e-d2f3-dfff0637087b"
      },
      "outputs": [
        {
          "output_type": "stream",
          "name": "stdout",
          "text": [
            "\n",
            "Iter \tTrain% \tTime \t\tTrain_loss\n",
            "2500 \t6% \t(0m 25s) \t2.8381\n",
            "5000 \t12% \t(0m 56s) \t2.7655\n",
            "7500 \t18% \t(1m 25s) \t2.6918\n",
            "10000 \t25% \t(1m 57s) \t2.7049\n",
            "12500 \t31% \t(2m 28s) \t2.6901\n",
            "15000 \t37% \t(3m 0s) \t2.6674\n",
            "17500 \t43% \t(3m 31s) \t2.6986\n",
            "20000 \t50% \t(4m 1s) \t2.7010\n",
            "22500 \t56% \t(4m 32s) \t2.7096\n",
            "25000 \t62% \t(5m 2s) \t2.6822\n",
            "27500 \t68% \t(5m 31s) \t2.6493\n",
            "30000 \t75% \t(6m 2s) \t2.6645\n",
            "32500 \t81% \t(6m 33s) \t2.6416\n",
            "35000 \t87% \t(7m 4s) \t2.6317\n",
            "37500 \t93% \t(7m 34s) \t2.5862\n",
            "40000 \t100% \t(8m 4s) \t2.6443\n"
          ]
        }
      ],
      "source": [
        "rnn4 = RNN4(128, n_letters)\n",
        "optimizer4 = torch.optim.Adam(rnn4.parameters())\n",
        "\n",
        "\n",
        "n_iters = 40000\n",
        "print_every = 2500\n",
        "plot_every = 500\n",
        "all_train_losses4 = []\n",
        "all_validation_losses4 = []\n",
        "train_loss4 = 0 # Reset every plot_every iters\n",
        "\n",
        "# Just return an output given a line\n",
        "def evaluate4(category_tensor, input_line_tensor, target_line_tensor):\n",
        "    target_line_tensor.unsqueeze_(-1)\n",
        "    hidden = rnn4.initHidden(category_tensor)\n",
        "    loss = 0\n",
        "    input_line_tensor = input_line_tensor.long()\n",
        "    for i in range(input_line_tensor.size()[0]):\n",
        "        output, hidden = rnn4(hidden)\n",
        "        loss += criterion4(output, target_line_tensor[i])\n",
        "    return output, loss.item() / input_line_tensor.size(0)\n",
        "\n",
        "def eval_dataset4(dataset):\n",
        "    total_loss4 = 0\n",
        "    n_instances4 = 0\n",
        "    for category in all_categories:\n",
        "        category_tensor = Variable(categoryTensor(category))\n",
        "        n_instances4 += len(dataset[category])\n",
        "        for line in dataset[category]:\n",
        "            input_line_tensor = Variable(inputTensor(line))\n",
        "            target_line_tensor = Variable(targetTensor(line))\n",
        "            output, loss = evaluate4(category_tensor, input_line_tensor, target_line_tensor)\n",
        "            total_loss4 += loss\n",
        "    return total_loss4 / n_instances4\n",
        "\n",
        "start = time.time()\n",
        "print('\\nIter \\tTrain% \\tTime \\t\\tTrain_loss')\n",
        "for iter in range(1, n_iters + 1):\n",
        "    output, loss = train(*randomTrainingExample())\n",
        "    train_loss4 += loss\n",
        "\n",
        "    if iter % print_every == 0:\n",
        "        print('%d \\t%d%% \\t(%s) \\t%.4f' % (iter, iter / n_iters * 100, timeSince(start), train_loss4 / plot_every))\n",
        "\n",
        "    if iter % plot_every == 0:\n",
        "        all_train_losses4.append(train_loss4 / plot_every)\n",
        "        train_loss4 = 0\n",
        "        \n",
        "    # Compute loss based on validation data\n",
        "    if iter % plot_every == 0:\n",
        "        average_validation_loss4 = eval_dataset4(validation_data)\n",
        "\n",
        "        # save model with best validation loss\n",
        "        if len(all_validation_losses4) == 0 or average_validation_loss4 < min(all_validation_losses4):\n",
        "            torch.save(rnn4, 'char_rnn4_generation_model.pt')\n",
        "        all_validation_losses4.append(average_validation_loss4)"
      ]
    },
    {
      "cell_type": "markdown",
      "metadata": {
        "id": "kbnt0ez-dUSK"
      },
      "source": [
        "Plotting the Losses\n",
        "-------------------\n",
        "\n",
        "Plotting the historical loss from all\\_losses shows the network\n",
        "learning:\n",
        "\n",
        "\n"
      ]
    },
    {
      "cell_type": "code",
      "execution_count": 22,
      "metadata": {
        "colab": {
          "base_uri": "https://localhost:8080/",
          "height": 590
        },
        "id": "e_cF9iL1dUSK",
        "outputId": "b9427cd4-250a-4880-95aa-fa3633a179ef"
      },
      "outputs": [
        {
          "output_type": "stream",
          "name": "stdout",
          "text": [
            "Average test loss: 2.4388324540510617\n"
          ]
        },
        {
          "output_type": "display_data",
          "data": {
            "text/plain": [
              "<Figure size 432x288 with 1 Axes>"
            ],
            "image/png": "[encoded data removed]"
          },
          "metadata": {
            "needs_background": "light"
          }
        },
        {
          "output_type": "display_data",
          "data": {
            "text/plain": [
              "<Figure size 432x288 with 1 Axes>"
            ],
            "image/png": "[encoded data removed]"
          },
          "metadata": {
            "needs_background": "light"
          }
        }
      ],
      "source": [
        "import matplotlib.pyplot as plt\n",
        "import matplotlib.ticker as ticker\n",
        "\n",
        "plt.figure()\n",
        "plt.plot(all_train_losses, color = \"blue\", label = \"Previous Character & Category\")\n",
        "plt.plot(all_train_losses2, color = \"red\", label = \"Previous Character\")\n",
        "plt.plot(all_train_losses3, color = \"green\", label = \"Previous Category\")\n",
        "plt.plot(all_train_losses4, color = \"maroon\", label = \"Previous Unit\")\n",
        "\n",
        "\n",
        "plt.title('Generating names with a character-level RNN (Training loss)')\n",
        "plt.ylabel('Negative Log Likelihood')\n",
        "plt.xlabel('# of 500 iterations')\n",
        "plt.legend(loc='upper right')\n",
        "\n",
        "plt.figure()\n",
        "plt.plot(all_validation_losses, color = \"blue\", label = \"Previous Character & Category\")\n",
        "plt.plot(all_validation_losses2, color = \"red\", label = \"Previous Character\")\n",
        "plt.plot(all_validation_losses3, color = \"green\", label = \"Previous Category\")\n",
        "plt.plot(all_validation_losses4, color = \"maroon\", label = \"Previous Unit\")\n",
        "\n",
        "plt.title('Generating names with a character-level RNN (Validation loss)')\n",
        "plt.ylabel('Negative Log Likelihood')\n",
        "plt.xlabel('# of 500 iterations')\n",
        "plt.legend(loc='upper right')\n",
        "\n",
        "# evaluate on test set and print average test loss\n",
        "rnn = torch.load('char_rnn_generation_model.pt')\n",
        "average_test_loss = eval_dataset(test_data)\n",
        "print('Average test loss: ' + str(average_test_loss))"
      ]
    },
    {
      "cell_type": "markdown",
      "metadata": {
        "id": "pbWtMOB7nH6c"
      },
      "source": [
        "Explanation\n",
        "======\n",
        "If the previous character or category is used as input, it may improve the model's predictions by providing info on characters that have been generated so far. Hence the reason for the performance improvements in the graphs above with those inputs.\n",
        "\n"
      ]
    },
    {
      "cell_type": "markdown",
      "metadata": {
        "id": "FqCUa1rJdUSM"
      },
      "source": [
        "Sampling the Network\n",
        "====================\n",
        "\n",
        "To sample we give the network a letter and ask what the next one is,\n",
        "feed that in as the next letter, and repeat until the EOS token.\n",
        "\n",
        "-  Create tensors for input category, starting letter, and empty hidden\n",
        "   state\n",
        "-  Create a string ``output_name`` with the starting letter\n",
        "-  Up to a maximum output length,\n",
        "\n",
        "   -  Feed the current letter to the network\n",
        "   -  Get the next letter from highest output, and next hidden state\n",
        "   -  If the letter is EOS, stop here\n",
        "   -  If a regular letter, add to ``output_name`` and continue\n",
        "\n",
        "-  Return the final name\n",
        "\n",
        ".. Note::\n",
        "   Rather than having to give it a starting letter, another\n",
        "   strategy would have been to include a \"start of string\" token in\n",
        "   training and have the network choose its own starting letter.\n",
        "\n",
        "\n"
      ]
    },
    {
      "cell_type": "code",
      "execution_count": 23,
      "metadata": {
        "colab": {
          "base_uri": "https://localhost:8080/"
        },
        "id": "kZWDVkPAdUSN",
        "outputId": "323028a7-3674-4ba3-fcf0-d794e93f740c"
      },
      "outputs": [
        {
          "output_type": "stream",
          "name": "stdout",
          "text": [
            "Rohalov\n",
            "Ushinov\n",
            "Shilov\n",
            "Guren\n",
            "Esper\n",
            "Romen\n",
            "Sander\n",
            "Pallan\n",
            "Abbar\n",
            "Chan\n",
            "Han\n",
            "Ina\n"
          ]
        }
      ],
      "source": [
        "max_length = 20\n",
        "\n",
        "# Sample from a category and starting letter\n",
        "def sample(category, start_letter='A'):\n",
        "    with torch.no_grad():  # no need to track history in sampling\n",
        "        category_tensor = categoryTensor(category)\n",
        "        input = inputTensor(start_letter)\n",
        "        hidden = rnn.initHidden()\n",
        "\n",
        "        output_name = start_letter\n",
        "\n",
        "        for i in range(max_length):\n",
        "            output, hidden = rnn(category_tensor, input[0], hidden)\n",
        "            topv, topi = output.topk(1)\n",
        "            topi = topi[0][0]\n",
        "            if topi == n_letters - 1:\n",
        "                break\n",
        "            else:\n",
        "                letter = all_letters[topi]\n",
        "                output_name += letter\n",
        "            input = inputTensor(letter)\n",
        "\n",
        "        return output_name\n",
        "\n",
        "# Get multiple samples from one category and multiple starting letters\n",
        "def samples(category, start_letters='ABC'):\n",
        "    for start_letter in start_letters:\n",
        "        print(sample(category, start_letter))\n",
        "\n",
        "samples('Russian', 'RUS')\n",
        "\n",
        "samples('German', 'GER')\n",
        "\n",
        "samples('Spanish', 'SPA')\n",
        "\n",
        "samples('Chinese', 'CHI')"
      ]
    },
    {
      "cell_type": "markdown",
      "metadata": {
        "id": "f3H4eXrRdUSP"
      },
      "source": [
        "Exercises\n",
        "=========\n",
        "\n",
        "-  Try with a different dataset of category -> line, for example:\n",
        "\n",
        "   -  Fictional series -> Character name\n",
        "   -  Part of speech -> Word\n",
        "   -  Country -> City\n",
        "\n",
        "-  Use a \"start of sentence\" token so that sampling can be done without\n",
        "   choosing a start letter\n",
        "-  Get better results with a bigger and/or better shaped network\n",
        "\n",
        "   -  Try the nn.LSTM and nn.GRU layers\n",
        "   -  Combine multiple of these RNNs as a higher level network\n",
        "\n",
        "\n"
      ]
    },
    {
      "cell_type": "code",
      "execution_count": null,
      "metadata": {
        "id": "YEtKJJc4FYaP"
      },
      "outputs": [],
      "source": []
    }
  ],
  "metadata": {
    "colab": {
      "provenance": [],
      "toc_visible": true
    },
    "kernelspec": {
      "display_name": "Python 3",
      "name": "python3"
    },
    "language_info": {
      "codemirror_mode": {
        "name": "ipython",
        "version": 3
      },
      "file_extension": ".py",
      "mimetype": "text/x-python",
      "name": "python",
      "nbconvert_exporter": "python",
      "pygments_lexer": "ipython3",
      "version": "3.6.6"
    }
  },
  "nbformat": 4,
  "nbformat_minor": 0
}