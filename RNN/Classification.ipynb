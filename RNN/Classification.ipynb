{
 "cells": [
  {
   "cell_type": "markdown",
   "metadata": {
    "id": "o3UFgeUebGKo"
   },
   "source": [
    "Download the data"
   ]
  },
  {
   "cell_type": "code",
   "execution_count": null,
   "metadata": {
    "id": "P6BH8Bgpa_ZS"
   },
   "outputs": [],
   "source": [
    "!wget https://download.pytorch.org/tutorial/data.zip\n",
    "!unzip data.zip\n",
    "!ls"
   ]
  },
  {
   "cell_type": "code",
   "execution_count": null,
   "metadata": {
    "id": "IGZLdMtDUfxu"
   },
   "outputs": [],
   "source": [
    "%matplotlib inline"
   ]
  },
  {
   "cell_type": "markdown",
   "metadata": {
    "id": "KNkkHixNUfxz"
   },
   "source": [
    "\n",
    "Classifying Names with a Character-Level RNN\n",
    "*********************************************\n",
    "**Author**: `Sean Robertson <https://github.com/spro/practical-pytorch>`_\n",
    "\n",
    "Building and training a basic character-level RNN to classify\n",
    "words. A character-level RNN reads words as a series of characters -\n",
    "outputting a prediction and \"hidden state\" at each step, feeding its\n",
    "previous hidden state into each next step. We take the final prediction\n",
    "to be the output, i.e. which class the word belongs to.\n",
    "\n",
    "A few thousand surnames from 18 languages\n",
    "of origin, and predict which language a name is from based on the\n",
    "spelling:\n",
    "\n",
    "::\n",
    "\n",
    "    $ python predict.py Hinton\n",
    "    (-0.47) Scottish\n",
    "    (-1.52) English\n",
    "    (-3.57) Irish\n",
    "\n",
    "    $ python predict.py Schmidhuber\n",
    "    (-0.19) German\n",
    "    (-2.48) Czech\n",
    "    (-2.68) Dutch\n",
    "\n",
    "Preparing the Data\n",
    "==================\n",
    "\n",
    ".. Note::\n",
    "   Download the data from\n",
    "   `here <https://download.pytorch.org/tutorial/data.zip>`_\n",
    "   and extract it to the current directory.\n",
    "\n",
    "Included in the ``data/names`` directory are 18 text files named as\n",
    "\"[Language].txt\". Each file contains a bunch of names, one name per\n",
    "line, mostly romanized.\n",
    "\n",
    "\n"
   ]
  },
  {
   "cell_type": "code",
   "execution_count": 7,
   "metadata": {
    "colab": {
     "base_uri": "https://localhost:8080/"
    },
    "id": "MfLSXwTHUfxz",
    "outputId": "c482919e-4b6e-401c-e456-d2e11e2bf9a4"
   },
   "outputs": [
    {
     "name": "stdout",
     "output_type": "stream",
     "text": [
      "['data/names/Polish.txt', 'data/names/English.txt', 'data/names/Vietnamese.txt', 'data/names/German.txt', 'data/names/Korean.txt', 'data/names/Portuguese.txt', 'data/names/Spanish.txt', 'data/names/Russian.txt', 'data/names/French.txt', 'data/names/Italian.txt', 'data/names/Chinese.txt', 'data/names/Scottish.txt', 'data/names/Arabic.txt', 'data/names/Czech.txt', 'data/names/Irish.txt', 'data/names/Greek.txt', 'data/names/Japanese.txt', 'data/names/Dutch.txt']\n",
      "Slusarski\n"
     ]
    }
   ],
   "source": [
    "from __future__ import unicode_literals, print_function, division\n",
    "from io import open\n",
    "import glob\n",
    "import os\n",
    "import random\n",
    "\n",
    "def findFiles(path): return glob.glob(path)\n",
    "\n",
    "print(findFiles('data/names/*.txt'))\n",
    "\n",
    "import unicodedata\n",
    "import string\n",
    "import math\n",
    "\n",
    "all_letters = string.ascii_letters + \" .,;'\"\n",
    "n_letters = len(all_letters)\n",
    "\n",
    "# Turn a Unicode string to plain ASCII, thanks to http://stackoverflow.com/a/518232/2809427\n",
    "def unicodeToAscii(s):\n",
    "    return ''.join(\n",
    "        c for c in unicodedata.normalize('NFD', s)\n",
    "        if unicodedata.category(c) != 'Mn'\n",
    "        and c in all_letters\n",
    "    )\n",
    "\n",
    "print(unicodeToAscii('Ślusàrski'))\n",
    "\n",
    "# Build the category_lines dictionary, a list of names per language\n",
    "category_lines = {}\n",
    "train_data = {}\n",
    "validation_data = {}\n",
    "test_data = {}\n",
    "all_categories = []\n",
    "\n",
    "# Read a file and split into lines\n",
    "def readLines(filename):\n",
    "    lines = open(filename, encoding='utf-8').read().strip().split('\\n')\n",
    "    return [unicodeToAscii(line) for line in lines]\n",
    "\n",
    "for filename in findFiles('data/names/*.txt'):\n",
    "    category = os.path.splitext(os.path.basename(filename))[0]\n",
    "    all_categories.append(category)\n",
    "    lines = readLines(filename)\n",
    "    random.shuffle(lines)\n",
    "    train_data[category] = lines[0:int(math.floor(0.7*len(lines)))]\n",
    "    validation_data[category] = lines[int(math.floor(0.7*len(lines)))+1:int(math.floor(0.85*len(lines)))]\n",
    "    test_data[category] = lines[int(math.floor(0.85*len(lines)))+1:]\n",
    "    category_lines[category] = lines\n",
    "\n",
    "n_categories = len(all_categories)"
   ]
  },
  {
   "cell_type": "markdown",
   "metadata": {
    "id": "lPlBRkDuUfx2"
   },
   "source": [
    "``category_lines``, a dictionary mapping each category\n",
    "(language) to a list of lines (names).\n",
    "\n",
    "``all_categories`` (just a list of languages) and ``n_categories`` for\n",
    "later reference.\n"
   ]
  },
  {
   "cell_type": "code",
   "execution_count": null,
   "metadata": {
    "colab": {
     "base_uri": "https://localhost:8080/"
    },
    "id": "VKlnBNIjUfx2",
    "outputId": "fe34ac9c-cd09-42bc-9607-fa3fdeaed768"
   },
   "outputs": [
    {
     "name": "stdout",
     "output_type": "stream",
     "text": [
      "['Abello', 'Alcheri', 'Nespola', 'Campo', 'Ruggeri']\n"
     ]
    }
   ],
   "source": [
    "print(category_lines['Italian'][:5])"
   ]
  },
  {
   "cell_type": "markdown",
   "metadata": {
    "id": "I5SGUIMRUfx4"
   },
   "source": [
    "Turning Names into Tensors\n",
    "--------------------------\n",
    "\n",
    "Turn the organized names turn them into\n",
    "Tensors to make any use of them.\n",
    "\n",
    "To represent a single letter, use a \"one-hot vector\" of size\n",
    "``<1 x n_letters>``. A one-hot vector is filled with 0s except for a 1\n",
    "at index of the current letter, e.g. ``\"b\" = <0 1 0 0 0 ...>``.\n",
    "\n",
    "To make a word join a bunch of those into a 2D matrix\n",
    "``<line_length x 1 x n_letters>``.\n",
    "\n",
    "That extra 1 dimension is because PyTorch assumes everything is in\n",
    "batches \n",
    "\n"
   ]
  },
  {
   "cell_type": "code",
   "execution_count": null,
   "metadata": {
    "colab": {
     "base_uri": "https://localhost:8080/"
    },
    "id": "SPFamDJVUfx5",
    "outputId": "28ac4988-3c02-485f-ac83-c883182d65c2"
   },
   "outputs": [
    {
     "name": "stdout",
     "output_type": "stream",
     "text": [
      "tensor([[0., 0., 0., 0., 0., 0., 0., 0., 0., 0., 0., 0., 0., 0., 0., 0., 0., 0.,\n",
      "         0., 0., 0., 0., 0., 0., 0., 0., 0., 0., 0., 0., 0., 0., 0., 0., 0., 1.,\n",
      "         0., 0., 0., 0., 0., 0., 0., 0., 0., 0., 0., 0., 0., 0., 0., 0., 0., 0.,\n",
      "         0., 0., 0.]])\n",
      "torch.Size([5, 1, 57])\n"
     ]
    }
   ],
   "source": [
    "import torch\n",
    "\n",
    "# Find letter index from all_letters, e.g. \"a\" = 0\n",
    "def letterToIndex(letter):\n",
    "    return all_letters.find(letter)\n",
    "\n",
    "# Just for demonstration, turn a letter into a <1 x n_letters> Tensor\n",
    "def letterToTensor(letter):\n",
    "    tensor = torch.zeros(1, n_letters)\n",
    "    tensor[0][letterToIndex(letter)] = 1\n",
    "    return tensor\n",
    "\n",
    "# Turn a line into a <line_length x 1 x n_letters>,\n",
    "# or an array of one-hot letter vectors\n",
    "def lineToTensor(line):\n",
    "    tensor = torch.zeros(len(line), 1, n_letters)\n",
    "    for li, letter in enumerate(line):\n",
    "        tensor[li][0][letterToIndex(letter)] = 1\n",
    "    return tensor\n",
    "\n",
    "print(letterToTensor('J'))\n",
    "\n",
    "print(lineToTensor('Jones').size())"
   ]
  },
  {
   "cell_type": "markdown",
   "metadata": {
    "id": "FBQkCWy_Ufx7"
   },
   "source": [
    "Creating the Network\n",
    "====================\n",
    "\n",
    "Before autograd, creating a recurrent neural network in Torch involved\n",
    "cloning the parameters of a layer over several timesteps. The layers\n",
    "held hidden state and gradients which are now entirely handled by the\n",
    "graph itself. This means you can implement a RNN in a very \"pure\" way,\n",
    "as regular feed-forward layers.\n",
    "\n",
    "This RNN module (mostly copied from `the PyTorch for Torch users\n",
    "tutorial <http://pytorch.org/tutorials/beginner/former_torchies/\n",
    "nn_tutorial.html#example-2-recurrent-net>`__)\n",
    "is just 2 linear layers which operate on an input and hidden state, with\n",
    "a LogSoftmax layer after the output.\n",
    "\n",
    ".. figure:: https://i.imgur.com/Z2xbySO.png\n",
    "   :alt:\n",
    "\n",
    "\n",
    "\n"
   ]
  },
  {
   "cell_type": "code",
   "execution_count": null,
   "metadata": {
    "id": "nAJSP2rTUfx8"
   },
   "outputs": [],
   "source": [
    "import torch.nn as nn\n",
    "from torch.autograd import Variable\n",
    "\n",
    "class RNN(nn.Module):\n",
    "    def __init__(self, input_size, hidden_size, output_size):\n",
    "        super(RNN, self).__init__()\n",
    "\n",
    "        self.hidden_size = hidden_size\n",
    "\n",
    "        self.i2h = nn.Linear(input_size + hidden_size, hidden_size)\n",
    "        self.i2o = nn.Linear(input_size + hidden_size, output_size)\n",
    "        self.softmax = nn.LogSoftmax(dim=1)\n",
    "\n",
    "    def forward(self, input, hidden):\n",
    "        combined = torch.cat((input, hidden), 1)\n",
    "        hidden = self.i2h(combined)\n",
    "        output = self.i2o(combined)\n",
    "        output = self.softmax(output)\n",
    "        return output, hidden\n",
    "\n",
    "    def initHidden(self):\n",
    "        return torch.zeros(1, self.hidden_size)\n",
    "\n",
    "n_hidden = 128\n",
    "rnn = RNN(n_letters, n_hidden, n_categories)      "
   ]
  },
  {
   "cell_type": "markdown",
   "metadata": {
    "id": "2US3O2X4IGaL"
   },
   "source": [
    "GRUs\n",
    "========="
   ]
  },
  {
   "cell_type": "code",
   "execution_count": 16,
   "metadata": {
    "id": "57HLzbCGIVAC"
   },
   "outputs": [],
   "source": [
    "import torch.nn as nn\n",
    "from torch.autograd import Variable\n",
    "\n",
    "class GRU(nn.Module):\n",
    "    def __init__(self, input_size, hidden_size, output_size):\n",
    "        super(GRU, self).__init__()\n",
    "\n",
    "        self.hidden_size = hidden_size\n",
    "\n",
    "        self.i2h = nn.GRUCell(input_size, hidden_size)\n",
    "        self.i2o = nn.Linear(hidden_size, output_size)\n",
    "        self.softmax = nn.LogSoftmax(dim=1)\n",
    "\n",
    "    def forward(self, input, hidden):\n",
    "        hidden = self.i2h(input, hidden)\n",
    "        output = self.i2o(hidden)\n",
    "        output = self.softmax(output)\n",
    "        return output, hidden\n",
    "\n",
    "    def initHidden(self):\n",
    "        return torch.zeros(1, self.hidden_size)\n",
    "\n",
    "n_hidden = 128\n",
    "gru = GRU(n_letters, n_hidden, n_categories)   "
   ]
  },
  {
   "cell_type": "markdown",
   "metadata": {
    "id": "JYAtsjq0Ias1"
   },
   "source": [
    "LSTM\n",
    "=========="
   ]
  },
  {
   "cell_type": "code",
   "execution_count": 17,
   "metadata": {
    "id": "NMkT4851IfOE"
   },
   "outputs": [],
   "source": [
    "import torch.nn as nn\n",
    "from torch.autograd import Variable\n",
    "\n",
    "class LSTM(nn.Module):\n",
    "    def __init__(self, input_size, hidden_size, output_size):\n",
    "        super(LSTM, self).__init__()\n",
    "\n",
    "        self.hidden_size = hidden_size\n",
    "\n",
    "        self.i2h = nn.LSTMCell(input_size, hidden_size)\n",
    "        self.i2o = nn.Linear(hidden_size, output_size)\n",
    "        self.softmax = nn.LogSoftmax(dim=1)\n",
    "\n",
    "    def forward(self, input, hidden):\n",
    "        hidden, ct = self.i2h(input, hidden)\n",
    "        output = self.i2o(hidden)\n",
    "        output = self.softmax(output)\n",
    "        return output, (hidden, ct)\n",
    "\n",
    "    def initHidden(self):\n",
    "        return (torch.zeros(1, self.hidden_size), torch.zeros(1, self.hidden_size))\n",
    "\n",
    "n_hidden = 128\n",
    "lstm = LSTM(n_letters, n_hidden, n_categories)   "
   ]
  },
  {
   "cell_type": "markdown",
   "metadata": {
    "id": "fhxOqo0mUfx-"
   },
   "source": [
    "To run a step of this network pass an input (in our case, the\n",
    "Tensor for the current letter) and a previous hidden state (which was\n",
    "initialize as zeros at first). Get back the output (probability of\n",
    "each language) and a next hidden state \n",
    "\n",
    "\n"
   ]
  },
  {
   "cell_type": "code",
   "execution_count": 10,
   "metadata": {
    "id": "5zjQ-ZXbUfx-"
   },
   "outputs": [],
   "source": [
    "input = letterToTensor('A')\n",
    "hidden =torch.zeros(1, n_hidden)\n",
    "\n",
    "output, next_hidden = rnn(input, hidden)"
   ]
  },
  {
   "cell_type": "code",
   "execution_count": 20,
   "metadata": {
    "id": "pwmKY7rbIuWA"
   },
   "outputs": [],
   "source": [
    "input = letterToTensor('A')\n",
    "hidden =torch.zeros(1, n_hidden)\n",
    "\n",
    "output, next_hidden = gru(input, hidden)"
   ]
  },
  {
   "cell_type": "code",
   "execution_count": 22,
   "metadata": {
    "id": "TO7m49rJIya1"
   },
   "outputs": [],
   "source": [
    "input = letterToTensor('A')\n",
    "hidden =(torch.zeros(1, n_hidden),torch.zeros(1, n_hidden))\n",
    "\n",
    "output, next_hidden = lstm(input, hidden)"
   ]
  },
  {
   "cell_type": "markdown",
   "metadata": {
    "id": "juc150V5UfyB"
   },
   "source": [
    "For the sake of efficiency don't want create a new Tensor for\n",
    "every step, use ``lineToTensor`` instead of\n",
    "``letterToTensor`` and use slices. This could be further optimized by\n",
    "pre-computing batches of Tensors.\n",
    "\n",
    "\n"
   ]
  },
  {
   "cell_type": "code",
   "execution_count": null,
   "metadata": {
    "colab": {
     "base_uri": "https://localhost:8080/"
    },
    "id": "hLpj5ZVPUfyB",
    "outputId": "4f85a4dd-a41d-4471-b67e-5e78f285a174"
   },
   "outputs": [
    {
     "name": "stdout",
     "output_type": "stream",
     "text": [
      "tensor([[-2.9249, -2.9341, -3.0085, -2.9308, -2.9351, -2.9771, -2.8213, -2.7633,\n",
      "         -2.8533, -2.8920, -2.8424, -2.8845, -2.8273, -2.9066, -2.9027, -2.8777,\n",
      "         -2.8920, -2.8818]], grad_fn=<LogSoftmaxBackward0>)\n"
     ]
    }
   ],
   "source": [
    "input = lineToTensor('Albert')\n",
    "hidden = torch.zeros(1, n_hidden)\n",
    "\n",
    "output, next_hidden = rnn(input[0], hidden)\n",
    "print(output)"
   ]
  },
  {
   "cell_type": "code",
   "execution_count": 23,
   "metadata": {
    "colab": {
     "base_uri": "https://localhost:8080/"
    },
    "id": "EIn9t2bZKsOl",
    "outputId": "7ec3c1db-8e1d-4736-93d8-e1732b984626"
   },
   "outputs": [
    {
     "name": "stdout",
     "output_type": "stream",
     "text": [
      "tensor([[-2.9445, -2.8073, -2.9592, -2.8596, -2.9785, -2.8782, -2.9450, -2.9061,\n",
      "         -2.8649, -2.8435, -2.7912, -2.9204, -2.9494, -2.9050, -2.8775, -2.9113,\n",
      "         -2.8702, -2.8388]], grad_fn=<LogSoftmaxBackward0>)\n"
     ]
    }
   ],
   "source": [
    "input = lineToTensor('Albert')\n",
    "hidden = torch.zeros(1, n_hidden)\n",
    "\n",
    "output, next_hidden = gru(input[0], hidden)\n",
    "print(output)"
   ]
  },
  {
   "cell_type": "code",
   "execution_count": 25,
   "metadata": {
    "colab": {
     "base_uri": "https://localhost:8080/"
    },
    "id": "gkarVYt4KvaU",
    "outputId": "04142604-ba0d-4947-f5cd-c4264967aec7"
   },
   "outputs": [
    {
     "name": "stdout",
     "output_type": "stream",
     "text": [
      "tensor([[-2.8180, -2.9632, -2.8800, -2.9388, -2.9122, -2.9400, -2.8215, -2.8513,\n",
      "         -2.8271, -2.9522, -2.8227, -2.9361, -2.8113, -2.9421, -2.9571, -2.8767,\n",
      "         -2.9155, -2.8865]], grad_fn=<LogSoftmaxBackward0>)\n"
     ]
    }
   ],
   "source": [
    "input = lineToTensor('Albert')\n",
    "hidden = (torch.zeros(1, n_hidden),torch.zeros(1, n_hidden))\n",
    "\n",
    "output, next_hidden = lstm(input[0], hidden)\n",
    "print(output)"
   ]
  },
  {
   "cell_type": "markdown",
   "metadata": {
    "id": "Wy0E3nCjUfyE"
   },
   "source": [
    "As you can see the output is a ``<1 x n_categories>`` Tensor, where\n",
    "every item is the likelihood of that category (higher is more likely).\n",
    "\n",
    "\n"
   ]
  },
  {
   "cell_type": "markdown",
   "metadata": {
    "id": "ukMo68ApUfyF"
   },
   "source": [
    "Training\n",
    "========\n",
    "Preparing for Training\n",
    "----------------------\n",
    "\n",
    "Before going into training  make a few helper functions. The\n",
    "first is to interpret the output of the network, use ``Tensor.topk`` to get the index\n",
    "of the greatest value:\n",
    "\n",
    "\n"
   ]
  },
  {
   "cell_type": "code",
   "execution_count": 26,
   "metadata": {
    "colab": {
     "base_uri": "https://localhost:8080/"
    },
    "id": "bFY_yAVKUfyG",
    "outputId": "cd99ff1e-77a4-43b2-d730-6783ddcf6c1e"
   },
   "outputs": [
    {
     "name": "stdout",
     "output_type": "stream",
     "text": [
      "('Arabic', 12)\n"
     ]
    }
   ],
   "source": [
    "def categoryFromOutput(output):\n",
    "    top_n, top_i = output.topk(1)\n",
    "    category_i = top_i[0].item()\n",
    "    return all_categories[category_i], category_i\n",
    "\n",
    "print(categoryFromOutput(output))"
   ]
  },
  {
   "cell_type": "markdown",
   "metadata": {
    "id": "mdDJjeS5UfyJ"
   },
   "source": [
    "We will also want a quick way to get a training example (a name and its\n",
    "language):\n",
    "\n",
    "\n"
   ]
  },
  {
   "cell_type": "code",
   "execution_count": 27,
   "metadata": {
    "colab": {
     "base_uri": "https://localhost:8080/"
    },
    "id": "nTNx73poUfyK",
    "outputId": "aa9cc7ac-e10a-4404-fcf5-f17520caa2c0"
   },
   "outputs": [
    {
     "name": "stdout",
     "output_type": "stream",
     "text": [
      "category = German / line = Huber\n",
      "category = Japanese / line = Kakutama\n",
      "category = Vietnamese / line = Ngo\n",
      "category = Russian / line = Ruzhitsky\n",
      "category = French / line = Martel\n",
      "category = Korean / line = Rhee\n",
      "category = Portuguese / line = Araujo\n",
      "category = Arabic / line = Hanania\n",
      "category = Greek / line = Kotsilimbas\n",
      "category = Portuguese / line = D'cruze\n"
     ]
    }
   ],
   "source": [
    "import random\n",
    "\n",
    "def randomChoice(l):\n",
    "    return l[random.randint(0, len(l) - 1)]\n",
    "\n",
    "def randomTrainingExample():\n",
    "    category = randomChoice(all_categories)\n",
    "    line = randomChoice(train_data[category])\n",
    "    category_tensor = torch.tensor([all_categories.index(category)], dtype=torch.long)\n",
    "    line_tensor = lineToTensor(line)\n",
    "    return category, line, category_tensor, line_tensor\n",
    "\n",
    "for i in range(10):\n",
    "    category, line, category_tensor, line_tensor = randomTrainingExample()\n",
    "    print('category =', category, '/ line =', line)"
   ]
  },
  {
   "cell_type": "markdown",
   "metadata": {
    "id": "Z4gnruWLUfyM"
   },
   "source": [
    "Training the Network\n",
    "--------------------\n",
    "\n",
    "Now all it takes to train this network is show it a bunch of examples,\n",
    "have it make guesses, and tell it if it's wrong.\n",
    "\n",
    "For the loss function ``nn.NLLLoss`` is appropriate, since the last\n",
    "layer of the RNN is ``nn.LogSoftmax``.\n",
    "\n",
    "\n"
   ]
  },
  {
   "cell_type": "code",
   "execution_count": 28,
   "metadata": {
    "id": "b91CnzJPUfyM"
   },
   "outputs": [],
   "source": [
    "criterion = nn.NLLLoss()"
   ]
  },
  {
   "cell_type": "markdown",
   "metadata": {
    "id": "FAp0xov1UfyP"
   },
   "source": [
    "Each loop of training will:\n",
    "\n",
    "-  Create input and target tensors\n",
    "-  Create a zeroed initial hidden state\n",
    "-  Read each letter in and\n",
    "\n",
    "   -  Keep hidden state for next letter\n",
    "\n",
    "-  Compare final output to target\n",
    "-  Back-propagate\n",
    "-  Return the output and loss\n",
    "\n",
    "\n"
   ]
  },
  {
   "cell_type": "markdown",
   "metadata": {
    "id": "ArLsUCD7LKka"
   },
   "source": [
    "Hidden Linear Unit\n",
    "========="
   ]
  },
  {
   "cell_type": "code",
   "execution_count": 29,
   "metadata": {
    "id": "ED_i2_CWUfyP"
   },
   "outputs": [],
   "source": [
    "optimizer = torch.optim.Adam(rnn.parameters())\n",
    "\n",
    "def train(category_tensor, line_tensor):\n",
    "    hidden = rnn.initHidden()\n",
    "\n",
    "    # reset gradient\n",
    "    rnn.zero_grad()\n",
    "\n",
    "    for i in range(line_tensor.size()[0]):\n",
    "        output, hidden = rnn(line_tensor[i], hidden)\n",
    "    loss = criterion(output, category_tensor)\n",
    "\n",
    "    # compute gradient by backpropagation\n",
    "    loss.backward()\n",
    "\n",
    "    # update parameters\n",
    "    optimizer.step()\n",
    "\n",
    "    return output, loss.item()"
   ]
  },
  {
   "cell_type": "markdown",
   "metadata": {
    "id": "bxlfjy-5LOlT"
   },
   "source": [
    "GRU\n",
    "======="
   ]
  },
  {
   "cell_type": "code",
   "execution_count": 31,
   "metadata": {
    "id": "J-1Joe5KLQV3"
   },
   "outputs": [],
   "source": [
    "optimizer = torch.optim.Adam(gru.parameters())\n",
    "\n",
    "def train(category_tensor, line_tensor):\n",
    "    hidden = gru.initHidden()\n",
    "\n",
    "    # reset gradient\n",
    "    gru.zero_grad()\n",
    "\n",
    "    for i in range(line_tensor.size()[0]):\n",
    "        output, hidden = gru(line_tensor[i], hidden)\n",
    "    loss = criterion(output, category_tensor)\n",
    "\n",
    "    # compute gradient by backpropagation\n",
    "    loss.backward()\n",
    "\n",
    "    # update parameters\n",
    "    optimizer.step()\n",
    "\n",
    "    return output, loss.item()"
   ]
  },
  {
   "cell_type": "markdown",
   "metadata": {
    "id": "fRMML07GLdYm"
   },
   "source": [
    "LSTM\n",
    "========"
   ]
  },
  {
   "cell_type": "code",
   "execution_count": 33,
   "metadata": {
    "id": "t-G4HHq1LgBW"
   },
   "outputs": [],
   "source": [
    "optimizer = torch.optim.Adam(lstm.parameters())\n",
    "\n",
    "def train(category_tensor, line_tensor):\n",
    "    hidden = lstm.initHidden()\n",
    "\n",
    "    # reset gradient\n",
    "    lstm.zero_grad()\n",
    "\n",
    "    for i in range(line_tensor.size()[0]):\n",
    "        output, hidden = lstm(line_tensor[i], hidden)\n",
    "    loss = criterion(output, category_tensor)\n",
    "\n",
    "    # compute gradient by backpropagation\n",
    "    loss.backward()\n",
    "\n",
    "    # update parameters\n",
    "    optimizer.step()\n",
    "\n",
    "    return output, loss.item()"
   ]
  },
  {
   "cell_type": "markdown",
   "metadata": {
    "id": "R9usmP9JUfyR"
   },
   "source": [
    "Now we just have to run that with a bunch of examples. Since the\n",
    "``train`` function returns both the output and loss we can print its\n",
    "guesses and also keep track of loss for plotting. Since there are 1000s\n",
    "of examples we print only every ``print_every`` examples, and take an\n",
    "average of the loss.\n",
    "\n",
    "\n"
   ]
  },
  {
   "cell_type": "markdown",
   "metadata": {
    "id": "t2Hdf4iwLrTa"
   },
   "source": [
    "Hidden Linear Unit Results\n",
    "========="
   ]
  },
  {
   "cell_type": "code",
   "execution_count": 30,
   "metadata": {
    "colab": {
     "base_uri": "https://localhost:8080/"
    },
    "id": "q-EUziAlUfyS",
    "outputId": "6b22afd6-9366-4406-969a-f35c8c9ee17b"
   },
   "outputs": [
    {
     "name": "stdout",
     "output_type": "stream",
     "text": [
      "\n",
      "Iter \tTrain% \tTime \t\tTrain_loss \tExample\n",
      "5000 \t6% \t(0m 18s) \t1.8726 \t\tAntoun / French ✗ (Arabic)\n",
      "10000 \t12% \t(0m 38s) \t1.6170 \t\tLihodeev / Russian ✓\n",
      "15000 \t18% \t(0m 57s) \t1.4486 \t\tEatros / Greek ✓\n",
      "20000 \t25% \t(1m 17s) \t1.3954 \t\tCorraidhin / Irish ✓\n",
      "25000 \t31% \t(1m 36s) \t1.3276 \t\tKolovos / Greek ✓\n",
      "30000 \t37% \t(1m 56s) \t1.3042 \t\tMcgregor / French ✗ (Scottish)\n",
      "35000 \t43% \t(2m 14s) \t1.2577 \t\tRompaye / French ✗ (Dutch)\n",
      "40000 \t50% \t(2m 34s) \t1.1645 \t\tHandal / Czech ✗ (Arabic)\n",
      "45000 \t56% \t(2m 53s) \t1.2324 \t\tMorioka / Czech ✗ (Japanese)\n",
      "50000 \t62% \t(3m 12s) \t1.1896 \t\tZha / Chinese ✓\n",
      "55000 \t68% \t(3m 31s) \t1.1953 \t\tCrocker / French ✗ (English)\n",
      "60000 \t75% \t(3m 50s) \t1.1297 \t\tBanh / Vietnamese ✓\n",
      "65000 \t81% \t(4m 9s) \t1.1695 \t\tHayashida / Japanese ✓\n",
      "70000 \t87% \t(4m 28s) \t1.1538 \t\tCha / Korean ✓\n",
      "75000 \t93% \t(4m 47s) \t1.1586 \t\tFrusher / German ✗ (English)\n",
      "80000 \t100% \t(5m 6s) \t1.1183 \t\tGrulich / English ✗ (Czech)\n"
     ]
    }
   ],
   "source": [
    "import time\n",
    "import math\n",
    "\n",
    "n_iters = 80000\n",
    "print_every = 5000\n",
    "plot_every = 1000\n",
    "\n",
    "# Keep track of losses for plotting\n",
    "train_loss = 0\n",
    "all_train_losses = []\n",
    "all_validation_losses = []\n",
    "\n",
    "def timeSince(since):\n",
    "    now = time.time()\n",
    "    s = now - since\n",
    "    m = math.floor(s / 60)\n",
    "    s -= m * 60\n",
    "    return '%dm %ds' % (m, s)\n",
    "\n",
    "# Just return an output given a line\n",
    "def evaluate(line_tensor):\n",
    "    hidden = rnn.initHidden()\n",
    "    for i in range(line_tensor.size()[0]):\n",
    "        output, hidden = rnn(line_tensor[i], hidden)\n",
    "    return output\n",
    "\n",
    "def eval_dataset(dataset):\n",
    "    loss = 0\n",
    "    n_instances = 0\n",
    "    confusion = torch.zeros(n_categories, n_categories)\n",
    "    for category in all_categories:\n",
    "        category_tensor = Variable(torch.LongTensor([all_categories.index(category)]))\n",
    "        n_instances += len(dataset[category])\n",
    "        for line in dataset[category]:\n",
    "            line_tensor = Variable(lineToTensor(line))\n",
    "            output = evaluate(line_tensor)\n",
    "            loss += criterion(output, category_tensor)\n",
    "            guess, guess_i = categoryFromOutput(output)\n",
    "            category_i = all_categories.index(category)\n",
    "            confusion[category_i][guess_i] += 1\n",
    "\n",
    "    # Normalize by dividing every row by its sum\n",
    "    for i in range(n_categories):\n",
    "        confusion[i] = confusion[i] / confusion[i].sum()\n",
    "\n",
    "    return loss.item() / n_instances, confusion\n",
    "  \n",
    "print('\\nIter \\tTrain% \\tTime \\t\\tTrain_loss \\tExample')\n",
    "start = time.time()\n",
    "for iter in range(1, n_iters + 1):\n",
    "    category, line, category_tensor, line_tensor = randomTrainingExample()\n",
    "    output, loss = train(category_tensor, line_tensor)\n",
    "    train_loss += loss\n",
    "\n",
    "    # Print iter number, train loss average, name and guess\n",
    "    if iter % print_every == 0:\n",
    "        guess, guess_i = categoryFromOutput(output)\n",
    "        correct = '✓' if guess == category else '✗ (%s)' % category\n",
    "        print('%d \\t%d%% \\t(%s) \\t%.4f \\t\\t%s / %s %s' % (iter, iter / n_iters * 100, timeSince(start), train_loss / plot_every, line, guess, correct))\n",
    "\n",
    "    # Add current train loss average to list of losses\n",
    "    if iter % plot_every == 0:\n",
    "        all_train_losses.append(train_loss / plot_every)\n",
    "        train_loss = 0\n",
    "        \n",
    "    # Compute loss based on validation data\n",
    "    if iter % plot_every == 0:\n",
    "        average_validation_loss, _ = eval_dataset(validation_data)\n",
    "\n",
    "        # save model with best validation loss\n",
    "        if len(all_validation_losses) == 0 or average_validation_loss < min(all_validation_losses):\n",
    "            torch.save(rnn, 'char_rnn_classification_model.pt')\n",
    "        all_validation_losses.append(average_validation_loss)\n"
   ]
  },
  {
   "cell_type": "markdown",
   "metadata": {
    "id": "YP6_lAkrL11m"
   },
   "source": [
    "GRU Results\n",
    "======="
   ]
  },
  {
   "cell_type": "code",
   "execution_count": 32,
   "metadata": {
    "colab": {
     "base_uri": "https://localhost:8080/"
    },
    "id": "Dk1dGaMfL5Fn",
    "outputId": "fb6e1750-bab3-4c4a-83b9-47cc60a6e0b2"
   },
   "outputs": [
    {
     "name": "stdout",
     "output_type": "stream",
     "text": [
      "\n",
      "Iter \tTrain% \tTime \t\tTrain_loss \tExample\n",
      "5000 \t6% \t(0m 39s) \t1.4716 \t\tSan / Chinese ✗ (Korean)\n",
      "10000 \t12% \t(1m 22s) \t1.0785 \t\tChastain / French ✓\n",
      "15000 \t18% \t(2m 5s) \t0.9940 \t\tShum / Korean ✗ (Chinese)\n",
      "20000 \t25% \t(2m 48s) \t0.7323 \t\tLucas / Spanish ✗ (Dutch)\n",
      "25000 \t31% \t(3m 31s) \t0.6281 \t\tShannon / Irish ✓\n",
      "30000 \t37% \t(4m 14s) \t0.5809 \t\tOkenfuss / Greek ✗ (Czech)\n",
      "35000 \t43% \t(4m 56s) \t0.4813 \t\tReid / Scottish ✓\n",
      "40000 \t50% \t(5m 39s) \t0.3570 \t\tGarver / German ✓\n",
      "45000 \t56% \t(6m 21s) \t0.4104 \t\tBosko / Polish ✓\n",
      "50000 \t62% \t(7m 5s) \t0.3289 \t\tWyrzyk / Polish ✓\n",
      "55000 \t68% \t(7m 48s) \t0.3146 \t\tJankelevich / Czech ✗ (Russian)\n",
      "60000 \t75% \t(8m 31s) \t0.3305 \t\tRey / Spanish ✓\n",
      "65000 \t81% \t(9m 14s) \t0.2509 \t\tParaskevopoulos / Greek ✓\n",
      "70000 \t87% \t(9m 56s) \t0.2991 \t\tRossini / Italian ✓\n",
      "75000 \t93% \t(10m 40s) \t0.1913 \t\tMa / Vietnamese ✓\n",
      "80000 \t100% \t(11m 23s) \t0.2167 \t\tMurray / Scottish ✓\n"
     ]
    }
   ],
   "source": [
    "import time\n",
    "import math\n",
    "\n",
    "n_iters = 80000\n",
    "print_every = 5000\n",
    "plot_every = 1000\n",
    "\n",
    "# Keep track of losses for plotting\n",
    "train_loss_GRU = 0\n",
    "all_train_losses_GRU = []\n",
    "all_validation_losses_GRU = []\n",
    "\n",
    "def timeSince(since):\n",
    "    now = time.time()\n",
    "    s = now - since\n",
    "    m = math.floor(s / 60)\n",
    "    s -= m * 60\n",
    "    return '%dm %ds' % (m, s)\n",
    "\n",
    "# Just return an output given a line\n",
    "def evaluate_GRU(line_tensor):\n",
    "    hidden = gru.initHidden()\n",
    "    for i in range(line_tensor.size()[0]):\n",
    "        output, hidden = gru(line_tensor[i], hidden)\n",
    "    return output\n",
    "\n",
    "def eval_dataset_GRU(dataset):\n",
    "    loss = 0\n",
    "    n_instances = 0\n",
    "    confusion_GRU = torch.zeros(n_categories, n_categories)\n",
    "    for category in all_categories:\n",
    "        category_tensor = Variable(torch.LongTensor([all_categories.index(category)]))\n",
    "        n_instances += len(dataset[category])\n",
    "        for line in dataset[category]:\n",
    "            line_tensor = Variable(lineToTensor(line))\n",
    "            output = evaluate_GRU(line_tensor)\n",
    "            loss += criterion(output, category_tensor)\n",
    "            guess, guess_i = categoryFromOutput(output)\n",
    "            category_i = all_categories.index(category)\n",
    "            confusion_GRU[category_i][guess_i] += 1\n",
    "\n",
    "    # Normalize by dividing every row by its sum\n",
    "    for i in range(n_categories):\n",
    "        confusion_GRU[i] = confusion_GRU[i] / confusion_GRU[i].sum()\n",
    "\n",
    "    return loss.item() / n_instances, confusion_GRU\n",
    "  \n",
    "print('\\nIter \\tTrain% \\tTime \\t\\tTrain_loss \\tExample')\n",
    "start = time.time()\n",
    "for iter in range(1, n_iters + 1):\n",
    "    category, line, category_tensor, line_tensor = randomTrainingExample()\n",
    "    output, loss = train(category_tensor, line_tensor)\n",
    "    train_loss_GRU += loss\n",
    "\n",
    "    # Print iter number, train loss average, name and guess\n",
    "    if iter % print_every == 0:\n",
    "        guess, guess_i = categoryFromOutput(output)\n",
    "        correct = '✓' if guess == category else '✗ (%s)' % category\n",
    "        print('%d \\t%d%% \\t(%s) \\t%.4f \\t\\t%s / %s %s' % (iter, iter / n_iters * 100, timeSince(start), train_loss_GRU / plot_every, line, guess, correct))\n",
    "\n",
    "    # Add current train loss average to list of losses\n",
    "    if iter % plot_every == 0:\n",
    "        all_train_losses_GRU.append(train_loss_GRU / plot_every)\n",
    "        train_loss_GRU = 0\n",
    "        \n",
    "    # Compute loss based on validation data\n",
    "    if iter % plot_every == 0:\n",
    "        average_validation_loss_GRU, _ = eval_dataset_GRU(validation_data)\n",
    "\n",
    "        # save model with best validation loss\n",
    "        if len(all_validation_losses_GRU) == 0 or average_validation_loss_GRU < min(all_validation_losses_GRU):\n",
    "            torch.save(gru, 'char_gru_classification_model.pt')\n",
    "        all_validation_losses_GRU.append(average_validation_loss_GRU)\n"
   ]
  },
  {
   "cell_type": "markdown",
   "metadata": {
    "id": "qTs7PUiTL__7"
   },
   "source": [
    "LSTM\n",
    "========"
   ]
  },
  {
   "cell_type": "code",
   "execution_count": 34,
   "metadata": {
    "colab": {
     "base_uri": "https://localhost:8080/"
    },
    "id": "AhhLwgzwMCgb",
    "outputId": "cfbb1651-a5a8-4545-e031-c451eb79fd36"
   },
   "outputs": [
    {
     "name": "stdout",
     "output_type": "stream",
     "text": [
      "\n",
      "Iter \tTrain% \tTime \t\tTrain_loss \tExample\n",
      "5000 \t6% \t(0m 40s) \t1.6677 \t\tBatsakis / Greek ✓\n",
      "10000 \t12% \t(1m 24s) \t1.2311 \t\tSin / Korean ✓\n",
      "15000 \t18% \t(2m 9s) \t1.0086 \t\tBotros / Arabic ✓\n",
      "20000 \t25% \t(2m 54s) \t0.8743 \t\tO'Keeffe / Irish ✓\n",
      "25000 \t31% \t(3m 38s) \t0.7300 \t\tSan / Chinese ✗ (Korean)\n",
      "30000 \t37% \t(4m 23s) \t0.6450 \t\tMclaughlin / Scottish ✓\n",
      "35000 \t43% \t(5m 8s) \t0.4497 \t\tUrista / Czech ✓\n",
      "40000 \t50% \t(5m 53s) \t0.4456 \t\tTo The First Page / English ✗ (Russian)\n",
      "45000 \t56% \t(6m 37s) \t0.4060 \t\tPeter / Spanish ✗ (Dutch)\n",
      "50000 \t62% \t(7m 21s) \t0.4057 \t\tGrozmanova / Czech ✓\n",
      "55000 \t68% \t(8m 6s) \t0.3834 \t\tSeelenfreund / German ✓\n",
      "60000 \t75% \t(8m 51s) \t0.2913 \t\tAhn / Korean ✓\n",
      "65000 \t81% \t(9m 34s) \t0.2850 \t\tParensov / Russian ✓\n",
      "70000 \t87% \t(10m 19s) \t0.2724 \t\tWright / Scottish ✓\n",
      "75000 \t93% \t(11m 3s) \t0.3023 \t\tWright / Scottish ✓\n",
      "80000 \t100% \t(11m 47s) \t0.2456 \t\tChang / Korean ✓\n"
     ]
    }
   ],
   "source": [
    "import time\n",
    "import math\n",
    "\n",
    "n_iters = 80000\n",
    "print_every = 5000\n",
    "plot_every = 1000\n",
    "\n",
    "# Keep track of losses for plotting\n",
    "train_loss_LSTM = 0\n",
    "all_train_losses_LSTM = []\n",
    "all_validation_losses_LSTM = []\n",
    "\n",
    "def timeSince(since):\n",
    "    now = time.time()\n",
    "    s = now - since\n",
    "    m = math.floor(s / 60)\n",
    "    s -= m * 60\n",
    "    return '%dm %ds' % (m, s)\n",
    "\n",
    "# Just return an output given a line\n",
    "def evaluate_LSTM(line_tensor):\n",
    "    hidden = lstm.initHidden()\n",
    "    for i in range(line_tensor.size()[0]):\n",
    "        output, hidden = lstm(line_tensor[i], hidden)\n",
    "    return output\n",
    "\n",
    "def eval_dataset_LSTM(dataset):\n",
    "    loss = 0\n",
    "    n_instances = 0\n",
    "    confusion_LSTM = torch.zeros(n_categories, n_categories)\n",
    "    for category in all_categories:\n",
    "        category_tensor = Variable(torch.LongTensor([all_categories.index(category)]))\n",
    "        n_instances += len(dataset[category])\n",
    "        for line in dataset[category]:\n",
    "            line_tensor = Variable(lineToTensor(line))\n",
    "            output = evaluate_LSTM(line_tensor)\n",
    "            loss += criterion(output, category_tensor)\n",
    "            guess, guess_i = categoryFromOutput(output)\n",
    "            category_i = all_categories.index(category)\n",
    "            confusion_LSTM[category_i][guess_i] += 1\n",
    "\n",
    "    # Normalize by dividing every row by its sum\n",
    "    for i in range(n_categories):\n",
    "        confusion_LSTM[i] = confusion_LSTM[i] / confusion_LSTM[i].sum()\n",
    "\n",
    "    return loss.item() / n_instances, confusion_LSTM\n",
    "  \n",
    "print('\\nIter \\tTrain% \\tTime \\t\\tTrain_loss \\tExample')\n",
    "start = time.time()\n",
    "for iter in range(1, n_iters + 1):\n",
    "    category, line, category_tensor, line_tensor = randomTrainingExample()\n",
    "    output, loss = train(category_tensor, line_tensor)\n",
    "    train_loss_LSTM += loss\n",
    "\n",
    "    # Print iter number, train loss average, name and guess\n",
    "    if iter % print_every == 0:\n",
    "        guess, guess_i = categoryFromOutput(output)\n",
    "        correct = '✓' if guess == category else '✗ (%s)' % category\n",
    "        print('%d \\t%d%% \\t(%s) \\t%.4f \\t\\t%s / %s %s' % (iter, iter / n_iters * 100, timeSince(start), train_loss_LSTM / plot_every, line, guess, correct))\n",
    "\n",
    "    # Add current train loss average to list of losses\n",
    "    if iter % plot_every == 0:\n",
    "        all_train_losses_LSTM.append(train_loss_LSTM / plot_every)\n",
    "        train_loss_LSTM = 0\n",
    "        \n",
    "    # Compute loss based on validation data\n",
    "    if iter % plot_every == 0:\n",
    "        average_validation_loss_LSTM, _ = eval_dataset_LSTM(validation_data)\n",
    "\n",
    "        # save model with best validation loss\n",
    "        if len(all_validation_losses_LSTM) == 0 or average_validation_loss_LSTM < min(all_validation_losses_LSTM):\n",
    "            torch.save(lstm, 'char_LSTM_classification_model.pt')\n",
    "        all_validation_losses_LSTM.append(average_validation_loss_LSTM)\n"
   ]
  },
  {
   "cell_type": "markdown",
   "metadata": {
    "id": "3mFqhbXRUfyU"
   },
   "source": [
    "Plotting the Results\n",
    "--------------------\n",
    "\n",
    "Plotting the historical loss from ``all_losses`` shows the network\n",
    "learning:\n",
    "\n",
    "\n"
   ]
  },
  {
   "cell_type": "code",
   "execution_count": 43,
   "metadata": {
    "colab": {
     "base_uri": "https://localhost:8080/",
     "height": 590
    },
    "id": "qdcD6MmgUfyV",
    "outputId": "af0ff2bd-3d8a-4e0f-f1e3-a04a1d6a0368"
   },
   "outputs": [
    {
     "data": {
      "text/plain": [
       "<matplotlib.legend.Legend at 0x7f04008f9d00>"
      ]
     },
     "execution_count": 43,
     "metadata": {},
     "output_type": "execute_result"
    },
    {
     "data": {
      "image/png": "[encoded data removed]",
      "text/plain": [
       "<Figure size 432x288 with 1 Axes>"
      ]
     },
     "metadata": {
      "needs_background": "light"
     },
     "output_type": "display_data"
    },
    {
     "data": {
      "image/png": "[encoded data removed]",
      "text/plain": [
       "<Figure size 432x288 with 1 Axes>"
      ]
     },
     "metadata": {
      "needs_background": "light"
     },
     "output_type": "display_data"
    }
   ],
   "source": [
    "import matplotlib.pyplot as plt\n",
    "import matplotlib.ticker as ticker\n",
    "\n",
    "plt.figure()\n",
    "plt.plot(all_train_losses, color = \"blue\", label = \"Linear\")\n",
    "plt.plot(all_train_losses_GRU, color = \"red\", label = \"GRU\")\n",
    "plt.plot(all_train_losses_LSTM, color = \"green\", label = \"LSTM\")\n",
    "\n",
    "\n",
    "plt.title('Classifying names with a character-level RNN (Train Loss)')\n",
    "plt.ylabel('Negative Log Likelihood')\n",
    "plt.xlabel('# of 1000 iterations')\n",
    "plt.legend(loc='upper right')\n",
    "\n",
    "\n",
    "plt.figure()\n",
    "plt.plot(all_validation_losses, color = \"blue\", label = \"Linear\")\n",
    "plt.plot(all_validation_losses_GRU, color = \"red\", label = \"GRU\")\n",
    "plt.plot(all_validation_losses_LSTM, color = \"green\", label = \"LSTM\")\n",
    "\n",
    "plt.title('Classifying names with a character-level RNN (Validation Loss)')\n",
    "plt.ylabel('Negative Log Likelihood')\n",
    "plt.xlabel('# of 1000 iterations')\n",
    "plt.legend(loc='upper right')"
   ]
  },
  {
   "attachments": {},
   "cell_type": "markdown",
   "metadata": {},
   "source": [
    "Explanation \n",
    "=======\n",
    "Linear hidden units are very simple and good for use cases where input is linearly transformed and has been passed through an activation function. But this they can't capture complex patterns and dependencies as well as GRUs and LSTMs.\n",
    "\n",
    "GRUs have fewer parameters to learn and faster training times but suffers with tasks that require more precise memory storage.\n",
    "\n",
    "LSTMs have more memory cells and gates that regulate information flow which works well for language modelling and speech recognition etc."
   ]
  },
  {
   "cell_type": "markdown",
   "metadata": {
    "id": "rs5yHF_cUfyY"
   },
   "source": [
    "Evaluating the Results\n",
    "======================\n",
    "\n",
    "To see how well the network performs on different categories, we will\n",
    "create a confusion matrix, indicating for every actual language (rows)\n",
    "which language the network guesses (columns). To calculate the confusion\n",
    "matrix a bunch of samples are run through the network with\n",
    "``evaluate()``, which is the same as ``train()`` minus the backprop.\n",
    "\n",
    "\n"
   ]
  },
  {
   "cell_type": "markdown",
   "metadata": {
    "id": "0dY15TauTKnq"
   },
   "source": [
    "Hidden Linear Units\n",
    "========"
   ]
  },
  {
   "cell_type": "code",
   "execution_count": 36,
   "metadata": {
    "colab": {
     "base_uri": "https://localhost:8080/",
     "height": 407
    },
    "id": "El-a2qJvUfyZ",
    "outputId": "7a5156ea-3033-4d05-cb82-5dadc3dfecac"
   },
   "outputs": [
    {
     "name": "stdout",
     "output_type": "stream",
     "text": [
      "Average test loss: 1.3132171274939604\n"
     ]
    },
    {
     "name": "stderr",
     "output_type": "stream",
     "text": [
      "<ipython-input-36-204be60d7dad>:13: UserWarning: FixedFormatter should only be used together with FixedLocator\n",
      "  ax.set_xticklabels([''] + all_categories, rotation=90)\n",
      "<ipython-input-36-204be60d7dad>:14: UserWarning: FixedFormatter should only be used together with FixedLocator\n",
      "  ax.set_yticklabels([''] + all_categories)\n"
     ]
    },
    {
     "data": {
      "image/png": "[encoded data removed]",
      "text/plain": [
       "<Figure size 432x288 with 2 Axes>"
      ]
     },
     "metadata": {
      "needs_background": "light"
     },
     "output_type": "display_data"
    }
   ],
   "source": [
    "# evaluate on test set and display confusion matrix\n",
    "rnn = torch.load('char_rnn_classification_model.pt')\n",
    "average_test_loss, confusion = eval_dataset(test_data)\n",
    "print('Average test loss: ' + str(average_test_loss))\n",
    "\n",
    "# Set up plot\n",
    "fig = plt.figure()\n",
    "ax = fig.add_subplot(111)\n",
    "cax = ax.matshow(confusion.numpy())\n",
    "fig.colorbar(cax)\n",
    "\n",
    "# Set up axes\n",
    "ax.set_xticklabels([''] + all_categories, rotation=90)\n",
    "ax.set_yticklabels([''] + all_categories)\n",
    "\n",
    "# Force label at every tick\n",
    "ax.xaxis.set_major_locator(ticker.MultipleLocator(1))\n",
    "ax.yaxis.set_major_locator(ticker.MultipleLocator(1))\n",
    "\n",
    "# sphinx_gallery_thumbnail_number = 2\n",
    "plt.show()"
   ]
  },
  {
   "cell_type": "markdown",
   "metadata": {
    "id": "U84iahDjTS8a"
   },
   "source": [
    "GRU\n",
    "======="
   ]
  },
  {
   "cell_type": "code",
   "execution_count": 37,
   "metadata": {
    "colab": {
     "base_uri": "https://localhost:8080/",
     "height": 407
    },
    "id": "Nr0aVlQOTUYu",
    "outputId": "d276c4c9-e715-4c4d-f405-c82000c18958"
   },
   "outputs": [
    {
     "name": "stdout",
     "output_type": "stream",
     "text": [
      "Average test loss: 0.9284028533457598\n"
     ]
    },
    {
     "name": "stderr",
     "output_type": "stream",
     "text": [
      "<ipython-input-37-8b6f2266bc5c>:13: UserWarning: FixedFormatter should only be used together with FixedLocator\n",
      "  ax.set_xticklabels([''] + all_categories, rotation=90)\n",
      "<ipython-input-37-8b6f2266bc5c>:14: UserWarning: FixedFormatter should only be used together with FixedLocator\n",
      "  ax.set_yticklabels([''] + all_categories)\n"
     ]
    },
    {
     "data": {
      "image/png": "[encoded data removed]",
      "text/plain": [
       "<Figure size 432x288 with 2 Axes>"
      ]
     },
     "metadata": {
      "needs_background": "light"
     },
     "output_type": "display_data"
    }
   ],
   "source": [
    "# evaluate on test set and display confusion matrix\n",
    "gru = torch.load('char_gru_classification_model.pt')\n",
    "average_test_loss_GRU, confusion_GRU = eval_dataset_GRU(test_data)\n",
    "print('Average test loss: ' + str(average_test_loss_GRU))\n",
    "\n",
    "# Set up plot\n",
    "fig = plt.figure()\n",
    "ax = fig.add_subplot(111)\n",
    "cax = ax.matshow(confusion.numpy())\n",
    "fig.colorbar(cax)\n",
    "\n",
    "# Set up axes\n",
    "ax.set_xticklabels([''] + all_categories, rotation=90)\n",
    "ax.set_yticklabels([''] + all_categories)\n",
    "\n",
    "# Force label at every tick\n",
    "ax.xaxis.set_major_locator(ticker.MultipleLocator(1))\n",
    "ax.yaxis.set_major_locator(ticker.MultipleLocator(1))\n",
    "\n",
    "# sphinx_gallery_thumbnail_number = 2\n",
    "plt.show()"
   ]
  },
  {
   "cell_type": "markdown",
   "metadata": {
    "id": "uMuDP9NBTbAp"
   },
   "source": [
    "LSTM\n",
    "======"
   ]
  },
  {
   "cell_type": "code",
   "execution_count": 38,
   "metadata": {
    "colab": {
     "base_uri": "https://localhost:8080/",
     "height": 407
    },
    "id": "TjbCHbfjTc8J",
    "outputId": "2f2ddfde-fd3a-407b-caf6-6b304655ec22"
   },
   "outputs": [
    {
     "name": "stdout",
     "output_type": "stream",
     "text": [
      "Average test loss: 0.9183122227486671\n"
     ]
    },
    {
     "name": "stderr",
     "output_type": "stream",
     "text": [
      "<ipython-input-38-452c175fae87>:13: UserWarning: FixedFormatter should only be used together with FixedLocator\n",
      "  ax.set_xticklabels([''] + all_categories, rotation=90)\n",
      "<ipython-input-38-452c175fae87>:14: UserWarning: FixedFormatter should only be used together with FixedLocator\n",
      "  ax.set_yticklabels([''] + all_categories)\n"
     ]
    },
    {
     "data": {
      "image/png": "[encoded data removed]",
      "text/plain": [
       "<Figure size 432x288 with 2 Axes>"
      ]
     },
     "metadata": {
      "needs_background": "light"
     },
     "output_type": "display_data"
    }
   ],
   "source": [
    "# evaluate on test set and display confusion matrix\n",
    "lstm = torch.load('char_LSTM_classification_model.pt')\n",
    "average_test_loss_LSTM, confusion_LSTM = eval_dataset_LSTM(test_data)\n",
    "print('Average test loss: ' + str(average_test_loss_LSTM))\n",
    "\n",
    "# Set up plot\n",
    "fig = plt.figure()\n",
    "ax = fig.add_subplot(111)\n",
    "cax = ax.matshow(confusion.numpy())\n",
    "fig.colorbar(cax)\n",
    "\n",
    "# Set up axes\n",
    "ax.set_xticklabels([''] + all_categories, rotation=90)\n",
    "ax.set_yticklabels([''] + all_categories)\n",
    "\n",
    "# Force label at every tick\n",
    "ax.xaxis.set_major_locator(ticker.MultipleLocator(1))\n",
    "ax.yaxis.set_major_locator(ticker.MultipleLocator(1))\n",
    "\n",
    "# sphinx_gallery_thumbnail_number = 2\n",
    "plt.show()"
   ]
  },
  {
   "cell_type": "markdown",
   "metadata": {
    "id": "DwU9mA1QUfyb"
   },
   "source": [
    "You can pick out bright spots off the main axis that show which\n",
    "languages it guesses incorrectly, e.g. Chinese for Korean, and Spanish\n",
    "for Italian. It seems to do very well with Greek, and very poorly with\n",
    "English (perhaps because of overlap with other languages).\n",
    "\n",
    "\n"
   ]
  },
  {
   "cell_type": "markdown",
   "metadata": {
    "id": "gWg7ObZAUfyc"
   },
   "source": [
    "Running on User Input\n",
    "---------------------\n",
    "\n",
    "\n"
   ]
  },
  {
   "cell_type": "code",
   "execution_count": 39,
   "metadata": {
    "colab": {
     "base_uri": "https://localhost:8080/"
    },
    "id": "bbWHJnCdUfyc",
    "outputId": "aae601ad-6152-495d-876c-928b5044ef92"
   },
   "outputs": [
    {
     "name": "stdout",
     "output_type": "stream",
     "text": [
      "\n",
      "> Dovesky\n",
      "(-0.11) Russian\n",
      "(-2.85) Czech\n",
      "(-3.31) English\n",
      "\n",
      "> Jackson\n",
      "(-0.36) Scottish\n",
      "(-1.94) English\n",
      "(-2.20) Russian\n",
      "\n",
      "> Satoshi\n",
      "(-0.56) Arabic\n",
      "(-1.68) Italian\n",
      "(-2.41) Polish\n"
     ]
    }
   ],
   "source": [
    "def predict(input_line, n_predictions=3):\n",
    "    print('\\n> %s' % input_line)\n",
    "    with torch.no_grad():\n",
    "        output = evaluate(lineToTensor(input_line))\n",
    "\n",
    "        # Get top N categories\n",
    "        topv, topi = output.topk(n_predictions, 1, True)\n",
    "        predictions = []\n",
    "\n",
    "        for i in range(n_predictions):\n",
    "            value = topv[0][i].item()\n",
    "            category_index = topi[0][i].item()\n",
    "            print('(%.2f) %s' % (value, all_categories[category_index]))\n",
    "            predictions.append([value, all_categories[category_index]])\n",
    "\n",
    "predict('Dovesky')\n",
    "predict('Jackson')\n",
    "predict('Satoshi')"
   ]
  },
  {
   "cell_type": "markdown",
   "metadata": {
    "id": "TWQ_XQrfUfyf"
   },
   "source": [
    "The final versions of the scripts `in the Practical PyTorch\n",
    "repo <https://github.com/spro/practical-pytorch/tree/master/char-rnn-classification>`__\n",
    "split the above code into a few files:\n",
    "\n",
    "-  ``data.py`` (loads files)\n",
    "-  ``model.py`` (defines the RNN)\n",
    "-  ``train.py`` (runs training)\n",
    "-  ``predict.py`` (runs ``predict()`` with command line arguments)\n",
    "-  ``server.py`` (serve prediction as a JSON API with bottle.py)\n",
    "\n",
    "Run ``train.py`` to train and save the network.\n",
    "\n",
    "Run ``predict.py`` with a name to view predictions:\n",
    "\n",
    "::\n",
    "\n",
    "    $ python predict.py Hazaki\n",
    "    (-0.42) Japanese\n",
    "    (-1.39) Polish\n",
    "    (-3.51) Czech\n",
    "\n",
    "Run ``server.py`` and visit http://localhost:5533/Yourname to get JSON\n",
    "output of predictions.\n",
    "\n",
    "\n"
   ]
  },
  {
   "cell_type": "markdown",
   "metadata": {
    "id": "-BX4vuLxUfyg"
   },
   "source": [
    "Exercises\n",
    "=========\n",
    "\n",
    "-  Try with a different dataset of line -> category, for example:\n",
    "\n",
    "   -  Any word -> language\n",
    "   -  First name -> gender\n",
    "   -  Character name -> writer\n",
    "   -  Page title -> blog or subreddit\n",
    "\n",
    "-  Get better results with a bigger and/or better shaped network\n",
    "\n",
    "   -  Add more linear layers\n",
    "   -  Try the ``nn.LSTM`` and ``nn.GRU`` layers\n",
    "   -  Combine multiple of these RNNs as a higher level network\n",
    "\n",
    "\n"
   ]
  }
 ],
 "metadata": {
  "colab": {
   "provenance": []
  },
  "kernelspec": {
   "display_name": "Python 3",
   "name": "python3"
  },
  "language_info": {
   "codemirror_mode": {
    "name": "ipython",
    "version": 3
   },
   "file_extension": ".py",
   "mimetype": "text/x-python",
   "name": "python",
   "nbconvert_exporter": "python",
   "pygments_lexer": "ipython3",
   "version": "3.6.6"
  }
 },
 "nbformat": 4,
 "nbformat_minor": 0
}
