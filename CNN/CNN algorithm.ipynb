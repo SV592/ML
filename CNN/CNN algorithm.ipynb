{
 "cells": [
  {
   "cell_type": "markdown",
   "metadata": {
    "id": "Tizfk0ON9sgV"
   },
   "source": [
    "## Libraries\n",
    "\n",
    "Do not import any additional libraries"
   ]
  },
  {
   "cell_type": "code",
   "execution_count": null,
   "metadata": {
    "id": "lzNExBwN9sgX"
   },
   "outputs": [],
   "source": [
    "from tqdm import tqdm\n",
    "import matplotlib.pyplot as plt\n",
    "import torch\n",
    "from torch import nn\n",
    "from torch.utils.data import DataLoader\n",
    "import torchvision\n",
    "from torchvision import datasets\n",
    "from torchvision.transforms import ToTensor\n",
    "import torchvision.transforms as transforms\n",
    "import torch.nn.functional as F"
   ]
  },
  {
   "cell_type": "markdown",
   "metadata": {
    "id": "0nepySEK9sgX"
   },
   "source": [
    "## Download dataset and create a data loader\n",
    "PyTorch has two [primitives to work with data](https://pytorch.org/docs/stable/data.html):\n",
    "``torch.utils.data.DataLoader`` and ``torch.utils.data.Dataset``.\n",
    "``Dataset`` stores the samples and their corresponding labels, and ``DataLoader`` wraps an iterable around\n",
    "the ``Dataset``.\n",
    "\n",
    "PyTorch offers domain-specific libraries such as [TorchText](https://pytorch.org/text/stable/index.html),\n",
    "[TorchVision](https://pytorch.org/vision/stable/index.html), and [TorchAudio](https://pytorch.org/audio/stable/index.html),\n",
    "all of which include datasets. For this assignment, we  will be using a TorchVision dataset.\n",
    "\n",
    "The ``torchvision.datasets`` module contains ``Dataset`` objects for many real-world vision data like\n",
    "CIFAR, COCO, MNIST ([full list here](https://pytorch.org/vision/stable/datasets.html)). In this tutorial, we\n",
    "use the CIFAR10 dataset. Every TorchVision ``Dataset`` includes two arguments: ``transform`` and\n",
    "``target_transform`` to modify the samples and labels respectively.\n",
    "\n",
    "Pass the ``Dataset`` as an argument to ``DataLoader``. This wraps an iterable over our dataset, and supports\n",
    "automatic batching, sampling, shuffling and multiprocess data loading. Here we define a batch size of 64, i.e. each element\n",
    "in the dataloader iterable will return a batch of 64 features and labels."
   ]
  },
  {
   "cell_type": "code",
   "execution_count": 6,
   "metadata": {
    "colab": {
     "base_uri": "https://localhost:8080/",
     "height": 101,
     "referenced_widgets": [
      "2d66bd15b2e44dfb9ebcc28c53d940bf",
      "c66e06c89acf4f1c93d866db9fa1343f",
      "ba7e0a650eb04052b89934a596c2063d",
      "dbbf002ae9d94b189ab688ccc58f584f",
      "9aaf24b21ea74598a5f9c102735dde2c",
      "0cbe71f79fc647cba097c905cfaf1f9e",
      "e98252b031934fa4818356cdcb890a22",
      "ed96b7e4f914491d997dde0a17b95c53",
      "4ffab6f2d5d14f73862cfd8ecd6fe70d",
      "d8227bae2e474199a254b0cbdb68b99f",
      "d15a889fa11f4d07a4759b1f4602635d"
     ]
    },
    "id": "tIYLa4De9sgY",
    "outputId": "a12e3ac4-ced2-4eeb-ece8-62b6a4e99b30"
   },
   "outputs": [
    {
     "name": "stdout",
     "output_type": "stream",
     "text": [
      "Downloading https://www.cs.toronto.edu/~kriz/cifar-10-python.tar.gz to ./data\\cifar-10-python.tar.gz\n"
     ]
    },
    {
     "name": "stderr",
     "output_type": "stream",
     "text": [
      "100%|██████████| 170498071/170498071 [00:04<00:00, 35548923.70it/s]\n"
     ]
    },
    {
     "name": "stdout",
     "output_type": "stream",
     "text": [
      "Extracting ./data\\cifar-10-python.tar.gz to ./data\n",
      "Files already downloaded and verified\n"
     ]
    }
   ],
   "source": [
    "transform = transforms.Compose(\n",
    "    [transforms.ToTensor(),\n",
    "     transforms.Normalize((0.5, 0.5, 0.5), (0.5, 0.5, 0.5))])\n",
    "\n",
    "batch_size = 64\n",
    "\n",
    "#download training set\n",
    "trainset = torchvision.datasets.CIFAR10(root='./data', train=True, download=True, transform=transform)\n",
    "train_dataloader = torch.utils.data.DataLoader(trainset, batch_size=batch_size, shuffle=True, num_workers=2)\n",
    "\n",
    "#download test set\n",
    "testset = torchvision.datasets.CIFAR10(root='./data', train=False, download=True, transform=transform)\n",
    "test_dataloader = torch.utils.data.DataLoader(testset, batch_size=batch_size, shuffle=False, num_workers=2)\n",
    "\n",
    "classes = ('plane', 'car', 'bird', 'cat', 'deer', 'dog', 'frog', 'horse', 'ship', 'truck')"
   ]
  },
  {
   "cell_type": "markdown",
   "metadata": {
    "id": "xb4nxsj09sgb"
   },
   "source": [
    "## Creating Models\n",
    "To define a neural network in PyTorch, we create a class that inherits\n",
    "from [nn.Module](https://pytorch.org/docs/stable/generated/torch.nn.Module.html). We define the layers of the network\n",
    "in the ``__init__`` function and specify how data will pass through the network in the ``forward`` function. To accelerate\n",
    "operations in the neural network, we move it to the GPU if available.\n",
    "\n"
   ]
  },
  {
   "cell_type": "code",
   "execution_count": 76,
   "metadata": {
    "id": "MpBSXtBL9sgb",
    "scrolled": false
   },
   "outputs": [
    {
     "name": "stdout",
     "output_type": "stream",
     "text": [
      "Using cpu device\n",
      "CNN(\n",
      "  (conv1): Conv2d(3, 16, kernel_size=(5, 5), stride=(1, 1), padding=same)\n",
      "  (conv2): Conv2d(16, 32, kernel_size=(5, 5), stride=(1, 1), padding=same)\n",
      "  (pool): MaxPool2d(kernel_size=2, stride=2, padding=0, dilation=1, ceil_mode=False)\n",
      "  (fc1): Linear(in_features=2048, out_features=512, bias=True)\n",
      "  (fc2): Linear(in_features=512, out_features=10, bias=True)\n",
      ")\n"
     ]
    }
   ],
   "source": [
    "# Get cpu or gpu device for training.\n",
    "device = \"cuda\" if torch.cuda.is_available() else \"mps\" if torch.backends.mps.is_available() else \"cpu\"\n",
    "print(f\"Using {device} device\")\n",
    "\n",
    "# Define model\n",
    "class CNN(nn.Module):\n",
    "    def __init__(self):\n",
    "        super().__init__()\n",
    "        self.conv1 = nn.Conv2d(3, 16, 5, padding='same')\n",
    "        self.conv2 = nn.Conv2d(16, 32, 5, padding='same')\n",
    "        self.pool = nn.MaxPool2d(2, 2)\n",
    "        self.fc1 = nn.Linear(32*8*8,512)\n",
    "        self.fc2 = nn.Linear(512, 10)\n",
    "\n",
    "    def forward(self, x):\n",
    "        x = F.relu(self.conv1(x))\n",
    "        x = self.pool(x)\n",
    "\n",
    "        x = F.relu(self.conv2(x))\n",
    "        x = self.pool(x)\n",
    "\n",
    "        x = torch.flatten(x, 1) # flatten all dimensions except batch\n",
    "        x = F.relu(self.fc1(x))\n",
    "        x = F.log_softmax(self.fc2(x), 1)\n",
    "        return x\n",
    "\n",
    "model = CNN().to(device)\n",
    "print(model)"
   ]
  },
  {
   "attachments": {},
   "cell_type": "markdown",
   "metadata": {
    "id": "g52WryT7PSLn"
   },
   "source": [
    "## **Part 1**"
   ]
  },
  {
   "cell_type": "code",
   "execution_count": 28,
   "metadata": {
    "id": "a4nfkSASPkgf"
   },
   "outputs": [],
   "source": [
    "#Part 1\n",
    "\n",
    "# Class to create a dense neural network with 0 hidden layers\n",
    "class dense_0(nn.Module):\n",
    "  def __init__(self):\n",
    "    super().__init__()\n",
    "    self.fc1 = nn.Linear(3*32*32, 512)\n",
    "    \n",
    "\n",
    "  def forward(self, x):\n",
    "    x = torch.flatten(x, 1) # flatten all dimensions except batch\n",
    "    x = F.relu(self.fc1(x))\n",
    "    x = F.log_softmax(x, 1)\n",
    "    return x\n",
    "\n",
    "# Class to create a dense neural network with 1 hidden layer\n",
    "class dense_1(nn.Module):\n",
    "    def __init__(self):\n",
    "        super().__init__()\n",
    "        self.fc1 = nn.Linear(3*32*32, 512)\n",
    "        self.fc2 = nn.Linear(512, 10)\n",
    "    \n",
    "    def forward(self, x):\n",
    "        x = torch.flatten(x, 1)\n",
    "        x = F.relu(self.fc1(x))\n",
    "        x = F.relu(self.fc2(x))\n",
    "        x = F.log_softmax(x, dim=1)\n",
    "        return x\n",
    "\n",
    "# Class to create a dense neural network with 2 hidden layers\n",
    "class dense_2(nn.Module):\n",
    "    def __init__(self):\n",
    "        super().__init__()\n",
    "        self.fc1 = nn.Linear(3*32*32, 512)\n",
    "        self.fc2 = nn.Linear(512, 512)\n",
    "        self.fc3 = nn.Linear(512, 10)\n",
    "    \n",
    "    def forward(self, x):\n",
    "        x = torch.flatten(x, 1)\n",
    "        x = F.relu(self.fc1(x))\n",
    "        x = F.relu(self.fc2(x))\n",
    "        x = F.relu(self.fc3(x))\n",
    "        x = F.log_softmax(x, dim=1)\n",
    "        return x\n",
    "\n",
    "# Class to create a dense neural network with 3 hidden layers\n",
    "class dense_3(nn.Module):\n",
    "    def __init__(self):\n",
    "        super().__init__()\n",
    "        self.fc1 = nn.Linear(3*32*32, 512)\n",
    "        self.fc2 = nn.Linear(512, 512)\n",
    "        self.fc3 = nn.Linear(512, 512)\n",
    "        self.fc4 = nn.Linear(512, 10)\n",
    "    \n",
    "    def forward(self, x):\n",
    "        x = torch.flatten(x, 1)\n",
    "        x = F.relu(self.fc1(x))\n",
    "        x = F.relu(self.fc2(x))\n",
    "        x = F.relu(self.fc3(x))\n",
    "        x = F.relu(self.fc4(x))\n",
    "        x = F.log_softmax(x, dim=1)\n",
    "        return x\n",
    "\n",
    "model_0 = dense_0().to(device)\n",
    "model_1 = dense_1().to(device)\n",
    "model_2 = dense_2().to(device)\n",
    "model_3 = dense_3().to(device)\n",
    "\n",
    "\n"
   ]
  },
  {
   "attachments": {},
   "cell_type": "markdown",
   "metadata": {
    "id": "cGV48CKmPKX7"
   },
   "source": [
    "## **Part 2**"
   ]
  },
  {
   "cell_type": "code",
   "execution_count": 56,
   "metadata": {
    "id": "BDNH4ghrOhDi"
   },
   "outputs": [
    {
     "name": "stdout",
     "output_type": "stream",
     "text": [
      "Using cpu device\n",
      "CNN(\n",
      "  (conv1): Conv2d(3, 16, kernel_size=(5, 5), stride=(1, 1), padding=same)\n",
      "  (conv2): Conv2d(16, 32, kernel_size=(5, 5), stride=(1, 1), padding=same)\n",
      "  (pool): MaxPool2d(kernel_size=2, stride=2, padding=0, dilation=1, ceil_mode=False)\n",
      "  (fc1): Linear(in_features=2048, out_features=512, bias=True)\n",
      "  (fc2): Linear(in_features=512, out_features=10, bias=True)\n",
      ")\n"
     ]
    }
   ],
   "source": [
    "#Part 2\n",
    "# Get cpu or gpu device for training.\n",
    "device = \"cuda\" if torch.cuda.is_available() else \"mps\" if torch.backends.mps.is_available() else \"cpu\"\n",
    "print(f\"Using {device} device\")\n",
    "\n",
    "# Define model\n",
    "class CNN(nn.Module):\n",
    "    def __init__(self):\n",
    "        super().__init__()\n",
    "        self.conv1 = nn.Conv2d(3, 16, 5, padding='same')\n",
    "        self.conv2 = nn.Conv2d(16, 32, 5, padding='same')\n",
    "        self.pool = nn.MaxPool2d(2, 2)\n",
    "        self.fc1 = nn.Linear(32*8*8,512)\n",
    "        self.fc2 = nn.Linear(512, 10)\n",
    "\n",
    "    def forward(self, x):\n",
    "        x = F.torch.sigmoid(self.conv1(x))\n",
    "        x = self.pool(x)\n",
    "\n",
    "        x = F.torch.sigmoid(self.conv2(x))\n",
    "        x = self.pool(x)\n",
    "\n",
    "        x = torch.flatten(x, 1) # flatten all dimensions except batch\n",
    "        x = F.torch.sigmoid(self.fc1(x))\n",
    "        x = F.log_softmax(self.fc2(x), 1)\n",
    "        return x\n",
    "\n",
    "model_sigmoid = CNN().to(device)\n",
    "print(model_sigmoid)"
   ]
  },
  {
   "attachments": {},
   "cell_type": "markdown",
   "metadata": {
    "id": "w4aYHC40uHFV"
   },
   "source": [
    "## **Part 3**"
   ]
  },
  {
   "cell_type": "code",
   "execution_count": 63,
   "metadata": {
    "id": "r84zyaGeuMZw"
   },
   "outputs": [
    {
     "name": "stdout",
     "output_type": "stream",
     "text": [
      "CNN(\n",
      "  (conv1): Conv2d(3, 16, kernel_size=(5, 5), stride=(1, 1), padding=same)\n",
      "  (conv2): Conv2d(16, 32, kernel_size=(5, 5), stride=(1, 1), padding=same)\n",
      "  (pool): MaxPool2d(kernel_size=2, stride=2, padding=0, dilation=1, ceil_mode=False)\n",
      "  (dropout1): Dropout(p=0.25, inplace=False)\n",
      "  (fc1): Linear(in_features=2048, out_features=512, bias=True)\n",
      "  (dropout2): Dropout(p=0.5, inplace=False)\n",
      "  (fc2): Linear(in_features=512, out_features=10, bias=True)\n",
      ")\n"
     ]
    }
   ],
   "source": [
    "#Part 3\n",
    "class CNN(nn.Module):\n",
    "    def __init__(self):\n",
    "        super().__init__()\n",
    "        self.conv1 = nn.Conv2d(3, 16, 5, padding='same')\n",
    "        self.conv2 = nn.Conv2d(16, 32, 5, padding='same')\n",
    "        self.pool = nn.MaxPool2d(2, 2)\n",
    "        self.dropout1 = nn.Dropout(p=0.25)\n",
    "        self.fc1 = nn.Linear(32*8*8,512)\n",
    "        self.dropout2 = nn.Dropout(p=0.5)\n",
    "        self.fc2 = nn.Linear(512, 10)\n",
    "\n",
    "    def forward(self, x):\n",
    "        x = F.relu(self.conv1(x))\n",
    "        x = self.pool(x)\n",
    "        x = self.dropout1(x)\n",
    "\n",
    "        x = F.relu(self.conv2(x))\n",
    "        x = self.pool(x)\n",
    "        x = self.dropout1(x)\n",
    "\n",
    "        x = torch.flatten(x, 1) # flatten all dimensions except batch\n",
    "        x = F.relu(self.fc1(x))\n",
    "        x = self.dropout2(x)\n",
    "        x = F.log_softmax(self.fc2(x), 1)\n",
    "        return x\n",
    "\n",
    "model_dropout = CNN().to(device)\n",
    "print(model_dropout)"
   ]
  },
  {
   "attachments": {},
   "cell_type": "markdown",
   "metadata": {},
   "source": [
    "## **Part 5**"
   ]
  },
  {
   "cell_type": "code",
   "execution_count": 128,
   "metadata": {},
   "outputs": [
    {
     "name": "stdout",
     "output_type": "stream",
     "text": [
      "Using cpu device\n",
      "CNN(\n",
      "  (conv1): Conv2d(3, 16, kernel_size=(3, 3), stride=(1, 1), padding=same)\n",
      "  (conv2): Conv2d(16, 16, kernel_size=(3, 3), stride=(1, 1), padding=same)\n",
      "  (conv3): Conv2d(16, 32, kernel_size=(3, 3), stride=(1, 1), padding=same)\n",
      "  (conv4): Conv2d(32, 32, kernel_size=(3, 3), stride=(1, 1), padding=same)\n",
      "  (pool): MaxPool2d(kernel_size=2, stride=2, padding=0, dilation=1, ceil_mode=False)\n",
      "  (fc1): Linear(in_features=2048, out_features=512, bias=True)\n",
      "  (fc2): Linear(in_features=512, out_features=10, bias=True)\n",
      ")\n"
     ]
    }
   ],
   "source": [
    "#3*3 filters\n",
    "# Get cpu or gpu device for training.\n",
    "device = \"cuda\" if torch.cuda.is_available() else \"mps\" if torch.backends.mps.is_available() else \"cpu\"\n",
    "print(f\"Using {device} device\")\n",
    "\n",
    "class CNN(nn.Module):\n",
    "    def __init__(self):\n",
    "        super().__init__()\n",
    "        self.conv1 = nn.Conv2d(3, 16, 3, padding='same')\n",
    "        self.conv2 = nn.Conv2d(16, 16, 3, padding='same')\n",
    "        self.conv3 = nn.Conv2d(16, 32, 3, padding='same')\n",
    "        self.conv4 = nn.Conv2d(32, 32, 3, padding='same')\n",
    "        self.pool = nn.MaxPool2d(2, 2)\n",
    "        self.fc1 = nn.Linear(32*8*8, 512)\n",
    "        self.fc2 = nn.Linear(512, 10)\n",
    "\n",
    "    def forward(self, x):\n",
    "        x = F.relu(self.conv1(x))\n",
    "        x = F.relu(self.conv2(x))\n",
    "        x = self.pool(x)\n",
    "\n",
    "        x = F.relu(self.conv3(x))\n",
    "        x = F.relu(self.conv4(x))\n",
    "        x = self.pool(x)\n",
    "\n",
    "        x = torch.flatten(x, 1)\n",
    "        x = F.relu(self.fc1(x))\n",
    "        x = F.log_softmax(self.fc2(x), 1)\n",
    "        return x\n",
    "\n",
    "model_3times3 = CNN().to(device)\n",
    "print(model_3times3)"
   ]
  },
  {
   "cell_type": "markdown",
   "metadata": {
    "id": "ZfM14VqI9sgc"
   },
   "source": [
    "## Optimizing the Model Parameters\n",
    "To train a model, we need a [loss function](https://pytorch.org/docs/stable/nn.html#loss-functions)\n",
    "and an [optimizer](https://pytorch.org/docs/stable/optim.html).\n",
    "\n"
   ]
  },
  {
   "cell_type": "code",
   "execution_count": 97,
   "metadata": {
    "id": "6dwIz7Te9sgc"
   },
   "outputs": [],
   "source": [
    "#negative log likelihood loss\n",
    "loss_fn = nn.NLLLoss()\n",
    "\n",
    "#Adam optimizer\n",
    "optimizer = torch.optim.Adam(model_3.parameters())"
   ]
  },
  {
   "cell_type": "markdown",
   "metadata": {
    "id": "mjQISadYC6sT"
   },
   "source": [
    "## **Part 1 Optimizer**"
   ]
  },
  {
   "cell_type": "code",
   "execution_count": 29,
   "metadata": {
    "id": "2f2mwDG5FKed"
   },
   "outputs": [],
   "source": [
    "#negative log likelihood loss\n",
    "loss_fn = nn.NLLLoss()\n",
    "\n",
    "#Adam optimizer layer 0\n",
    "optimizer = torch.optim.Adam(model_0.parameters())"
   ]
  },
  {
   "cell_type": "code",
   "execution_count": 33,
   "metadata": {
    "id": "fBro1fzLFPjO"
   },
   "outputs": [],
   "source": [
    "#negative log likelihood loss\n",
    "loss_fn = nn.NLLLoss()\n",
    "\n",
    "#Adam optimizer layer 1\n",
    "optimizer = torch.optim.Adam(model_1.parameters())"
   ]
  },
  {
   "cell_type": "code",
   "execution_count": 35,
   "metadata": {
    "id": "jKreCZUQFSWS"
   },
   "outputs": [],
   "source": [
    "#negative log likelihood loss\n",
    "loss_fn = nn.NLLLoss()\n",
    "\n",
    "#Adam optimizer layer 2\n",
    "optimizer = torch.optim.Adam(model_2.parameters())"
   ]
  },
  {
   "cell_type": "code",
   "execution_count": 40,
   "metadata": {
    "id": "P8dz5c_VFVFG"
   },
   "outputs": [],
   "source": [
    "#negative log likelihood loss\n",
    "loss_fn = nn.NLLLoss()\n",
    "\n",
    "#Adam optimizer layer 3\n",
    "optimizer = torch.optim.Adam(model_3.parameters())"
   ]
  },
  {
   "cell_type": "markdown",
   "metadata": {
    "id": "rzLeBxnsDCK_"
   },
   "source": [
    "## **Part 2 Optimizer**"
   ]
  },
  {
   "cell_type": "code",
   "execution_count": 58,
   "metadata": {
    "id": "to5NLdN2vDNe"
   },
   "outputs": [],
   "source": [
    "#negative log likelihood loss\n",
    "loss_fn = nn.NLLLoss()\n",
    "\n",
    "#Adam optimizer sigmoid\n",
    "optimizer = torch.optim.Adam(model_sigmoid.parameters())"
   ]
  },
  {
   "cell_type": "markdown",
   "metadata": {
    "id": "a5ogw6xPDIM4"
   },
   "source": [
    "## **Part 3 Optimizer**"
   ]
  },
  {
   "cell_type": "code",
   "execution_count": 65,
   "metadata": {
    "id": "B946hj-xvH_D"
   },
   "outputs": [],
   "source": [
    "#negative log likelihood loss\n",
    "loss_fn = nn.NLLLoss()\n",
    "\n",
    "#Adam optimizer dropout\n",
    "optimizer = torch.optim.Adam(model_dropout.parameters())"
   ]
  },
  {
   "cell_type": "markdown",
   "metadata": {
    "id": "2yBTOq7MJfEk"
   },
   "source": [
    "## **Part 4 Optimizer**"
   ]
  },
  {
   "cell_type": "code",
   "execution_count": 77,
   "metadata": {
    "id": "4aFIxcZhJkHN"
   },
   "outputs": [],
   "source": [
    "#negative log likelihood loss\n",
    "loss_fn = nn.NLLLoss()\n",
    "\n",
    "#Adam optimizer\n",
    "optimizer = torch.optim.Adam(model.parameters())"
   ]
  },
  {
   "cell_type": "code",
   "execution_count": 78,
   "metadata": {
    "id": "SJyEeJ5sJoEZ"
   },
   "outputs": [],
   "source": [
    "#negative log likelihood loss\n",
    "loss_fn = nn.NLLLoss()\n",
    "\n",
    "#SGD optimizer\n",
    "optimizer_SGD = torch.optim.SGD(model.parameters(), lr=0.001)"
   ]
  },
  {
   "cell_type": "code",
   "execution_count": 83,
   "metadata": {
    "id": "OZfBfftWJoHZ"
   },
   "outputs": [],
   "source": [
    "#negative log likelihood loss\n",
    "loss_fn = nn.NLLLoss()\n",
    "\n",
    "#RMSprop optimizer\n",
    "optimizer_RMS = torch.optim.RMSprop(model.parameters(), lr=0.0001)"
   ]
  },
  {
   "cell_type": "code",
   "execution_count": 87,
   "metadata": {
    "id": "YUDH0YhXJoKG"
   },
   "outputs": [],
   "source": [
    "#negative log likelihood loss\n",
    "loss_fn = nn.NLLLoss()\n",
    "\n",
    "#Adagrad optimizer\n",
    "optimizer_ADA = torch.optim.Adagrad(model.parameters())"
   ]
  },
  {
   "attachments": {},
   "cell_type": "markdown",
   "metadata": {},
   "source": [
    "## **Part 5 optimizer**"
   ]
  },
  {
   "cell_type": "code",
   "execution_count": 129,
   "metadata": {},
   "outputs": [],
   "source": [
    "#negative log likelihood loss\n",
    "loss_fn = nn.NLLLoss()\n",
    "\n",
    "#Adam optimizer\n",
    "optimizer = torch.optim.Adam(model_3times3.parameters())"
   ]
  },
  {
   "cell_type": "markdown",
   "metadata": {
    "id": "mvmlIxNV9sgc"
   },
   "source": [
    "## Training function\n",
    "\n",
    "In a single training loop, the model makes predictions on the training dataset (fed to it in batches), and\n",
    "backpropagates the prediction error to adjust the model's parameters."
   ]
  },
  {
   "cell_type": "code",
   "execution_count": 130,
   "metadata": {
    "id": "HnuRU9-K9sgd"
   },
   "outputs": [],
   "source": [
    "def train(dataloader, model, loss_fn, optimizer):\n",
    "    size = len(dataloader.dataset)\n",
    "    num_batches = len(dataloader)\n",
    "    model.train()\n",
    "    train_loss, correct = 0, 0\n",
    "    for batch, (X, y) in enumerate(dataloader):\n",
    "        X, y = X.to(device), y.to(device)\n",
    "\n",
    "        # Compute prediction error\n",
    "        pred = model(X)\n",
    "        loss = loss_fn(pred, y)\n",
    "        train_loss += loss.item()\n",
    "        correct += (pred.argmax(1) == y).type(torch.float).sum().item()\n",
    "\n",
    "        # Backpropagation\n",
    "        optimizer.zero_grad()\n",
    "        loss.backward()\n",
    "        optimizer.step()\n",
    "\n",
    "    average_train_loss = train_loss / num_batches\n",
    "    accuracy = correct / size\n",
    "    return accuracy, average_train_loss"
   ]
  },
  {
   "cell_type": "markdown",
   "metadata": {
    "id": "8T0jbRxIPCJS"
   },
   "source": [
    "## **Part 4 training functions**"
   ]
  },
  {
   "cell_type": "code",
   "execution_count": 14,
   "metadata": {
    "id": "fdCR454wPJJ6"
   },
   "outputs": [],
   "source": [
    "def train(dataloader, model, loss_fn, optimizer):\n",
    "    size = len(dataloader.dataset)\n",
    "    num_batches = len(dataloader)\n",
    "    model.train()\n",
    "    train_loss, correct = 0, 0\n",
    "    for batch, (X, y) in enumerate(dataloader):\n",
    "        X, y = X.to(device), y.to(device)\n",
    "\n",
    "        # Compute prediction error\n",
    "        pred = model(X)\n",
    "        loss = loss_fn(pred, y)\n",
    "        train_loss += loss.item()\n",
    "        correct += (pred.argmax(1) == y).type(torch.float).sum().item()\n",
    "\n",
    "        # Backpropagation\n",
    "        optimizer.zero_grad()\n",
    "        loss.backward()\n",
    "        optimizer.step()\n",
    "\n",
    "    average_train_loss = train_loss / num_batches\n",
    "    accuracy = correct / size\n",
    "    return accuracy, average_train_loss"
   ]
  },
  {
   "cell_type": "code",
   "execution_count": 80,
   "metadata": {
    "id": "W7DP3mQZPL3K"
   },
   "outputs": [],
   "source": [
    "def train(dataloader, model, loss_fn, optimizer_SGD):\n",
    "    size = len(dataloader.dataset)\n",
    "    num_batches = len(dataloader)\n",
    "    model.train()\n",
    "    train_loss, correct = 0, 0\n",
    "    for batch, (X, y) in enumerate(dataloader):\n",
    "        X, y = X.to(device), y.to(device)\n",
    "\n",
    "        # Compute prediction error\n",
    "        pred = model(X)\n",
    "        loss = loss_fn(pred, y)\n",
    "        train_loss += loss.item()\n",
    "        correct += (pred.argmax(1) == y).type(torch.float).sum().item()\n",
    "\n",
    "        # Backpropagation\n",
    "        optimizer_SGD.zero_grad()\n",
    "        loss.backward()\n",
    "        optimizer_SGD.step()\n",
    "\n",
    "    average_train_loss = train_loss / num_batches\n",
    "    accuracy = correct / size\n",
    "    return accuracy, average_train_loss"
   ]
  },
  {
   "cell_type": "code",
   "execution_count": 84,
   "metadata": {
    "id": "uQLl_YKcPL5_"
   },
   "outputs": [],
   "source": [
    "def train(dataloader, model, loss_fn, optimizer_RMS):\n",
    "    size = len(dataloader.dataset)\n",
    "    num_batches = len(dataloader)\n",
    "    model.train()\n",
    "    train_loss, correct = 0, 0\n",
    "    for batch, (X, y) in enumerate(dataloader):\n",
    "        X, y = X.to(device), y.to(device)\n",
    "\n",
    "        # Compute prediction error\n",
    "        pred = model(X)\n",
    "        loss = loss_fn(pred, y)\n",
    "        train_loss += loss.item()\n",
    "        correct += (pred.argmax(1) == y).type(torch.float).sum().item()\n",
    "\n",
    "        # Backpropagation\n",
    "        optimizer_RMS.zero_grad()\n",
    "        loss.backward()\n",
    "        optimizer_RMS.step()\n",
    "\n",
    "    average_train_loss = train_loss / num_batches\n",
    "    accuracy = correct / size\n",
    "    return accuracy, average_train_loss"
   ]
  },
  {
   "cell_type": "code",
   "execution_count": 88,
   "metadata": {
    "id": "nhGcdT-PPNNW"
   },
   "outputs": [],
   "source": [
    "def train(dataloader, model, loss_fn, optimizer_ADA):\n",
    "    size = len(dataloader.dataset)\n",
    "    num_batches = len(dataloader)\n",
    "    model.train()\n",
    "    train_loss, correct = 0, 0\n",
    "    for batch, (X, y) in enumerate(dataloader):\n",
    "        X, y = X.to(device), y.to(device)\n",
    "\n",
    "        # Compute prediction error\n",
    "        pred = model(X)\n",
    "        loss = loss_fn(pred, y)\n",
    "        train_loss += loss.item()\n",
    "        correct += (pred.argmax(1) == y).type(torch.float).sum().item()\n",
    "\n",
    "        # Backpropagation\n",
    "        optimizer_ADA.zero_grad()\n",
    "        loss.backward()\n",
    "        optimizer_ADA.step()\n",
    "\n",
    "    average_train_loss = train_loss / num_batches\n",
    "    accuracy = correct / size\n",
    "    return accuracy, average_train_loss"
   ]
  },
  {
   "cell_type": "markdown",
   "metadata": {
    "id": "YqWkWSVy9sgd"
   },
   "source": [
    "## Testing function\n",
    "\n",
    "We also check the model's performance against the test dataset to ensure it is learning.\n",
    "\n"
   ]
  },
  {
   "cell_type": "code",
   "execution_count": 131,
   "metadata": {
    "id": "AbnkvnVU9sgd"
   },
   "outputs": [],
   "source": [
    "def test(dataloader, model, loss_fn):\n",
    "    size = len(dataloader.dataset)\n",
    "    num_batches = len(dataloader)\n",
    "    model.eval()\n",
    "    test_loss, correct = 0, 0\n",
    "    with torch.no_grad():\n",
    "        for X, y in dataloader:\n",
    "            X, y = X.to(device), y.to(device)\n",
    "            pred = model(X)\n",
    "            test_loss += loss_fn(pred, y).item()\n",
    "            correct += (pred.argmax(1) == y).type(torch.float).sum().item()\n",
    "    average_test_loss = test_loss / num_batches\n",
    "    accuracy = correct / size\n",
    "    return accuracy, average_test_loss"
   ]
  },
  {
   "cell_type": "markdown",
   "metadata": {
    "id": "Avpcl-Wi9sgd"
   },
   "source": [
    "## Training process\n",
    "\n",
    "The training process is conducted over several iterations (*epochs*). During each epoch, the model learns\n",
    "parameters to make better predictions. We print the model's accuracy and loss at each epoch; we'd like to see the\n",
    "accuracy increase and the loss decrease with every epoch.\n",
    "\n"
   ]
  },
  {
   "cell_type": "code",
   "execution_count": 74,
   "metadata": {
    "id": "hMx1yZgj9sgd"
   },
   "outputs": [
    {
     "name": "stderr",
     "output_type": "stream",
     "text": [
      " 10%|█         | 1/10 [00:40<06:01, 40.12s/it]"
     ]
    },
    {
     "name": "stdout",
     "output_type": "stream",
     "text": [
      "Epoch 1:\t Train accuracy: 49.8%\t Avg train loss: 1.392582\t Test accuracy: 58.8%\t Avg test loss: 1.143121\n"
     ]
    },
    {
     "name": "stderr",
     "output_type": "stream",
     "text": [
      " 20%|██        | 2/10 [01:20<05:20, 40.06s/it]"
     ]
    },
    {
     "name": "stdout",
     "output_type": "stream",
     "text": [
      "Epoch 2:\t Train accuracy: 63.8%\t Avg train loss: 1.022187\t Test accuracy: 66.3%\t Avg test loss: 0.958459\n"
     ]
    },
    {
     "name": "stderr",
     "output_type": "stream",
     "text": [
      " 30%|███       | 3/10 [02:00<04:40, 40.06s/it]"
     ]
    },
    {
     "name": "stdout",
     "output_type": "stream",
     "text": [
      "Epoch 3:\t Train accuracy: 70.8%\t Avg train loss: 0.825531\t Test accuracy: 68.3%\t Avg test loss: 0.904883\n"
     ]
    },
    {
     "name": "stderr",
     "output_type": "stream",
     "text": [
      " 40%|████      | 4/10 [02:40<04:00, 40.05s/it]"
     ]
    },
    {
     "name": "stdout",
     "output_type": "stream",
     "text": [
      "Epoch 4:\t Train accuracy: 76.6%\t Avg train loss: 0.668433\t Test accuracy: 69.4%\t Avg test loss: 0.906972\n"
     ]
    },
    {
     "name": "stderr",
     "output_type": "stream",
     "text": [
      " 50%|█████     | 5/10 [03:20<03:21, 40.26s/it]"
     ]
    },
    {
     "name": "stdout",
     "output_type": "stream",
     "text": [
      "Epoch 5:\t Train accuracy: 81.5%\t Avg train loss: 0.528060\t Test accuracy: 71.1%\t Avg test loss: 0.864392\n"
     ]
    },
    {
     "name": "stderr",
     "output_type": "stream",
     "text": [
      " 60%|██████    | 6/10 [04:01<02:40, 40.24s/it]"
     ]
    },
    {
     "name": "stdout",
     "output_type": "stream",
     "text": [
      "Epoch 6:\t Train accuracy: 86.2%\t Avg train loss: 0.391941\t Test accuracy: 70.5%\t Avg test loss: 0.986633\n"
     ]
    },
    {
     "name": "stderr",
     "output_type": "stream",
     "text": [
      " 70%|███████   | 7/10 [04:41<02:01, 40.37s/it]"
     ]
    },
    {
     "name": "stdout",
     "output_type": "stream",
     "text": [
      "Epoch 7:\t Train accuracy: 90.5%\t Avg train loss: 0.273652\t Test accuracy: 71.0%\t Avg test loss: 1.067774\n"
     ]
    },
    {
     "name": "stderr",
     "output_type": "stream",
     "text": [
      " 80%|████████  | 8/10 [05:22<01:20, 40.37s/it]"
     ]
    },
    {
     "name": "stdout",
     "output_type": "stream",
     "text": [
      "Epoch 8:\t Train accuracy: 93.9%\t Avg train loss: 0.180068\t Test accuracy: 70.4%\t Avg test loss: 1.282722\n"
     ]
    },
    {
     "name": "stderr",
     "output_type": "stream",
     "text": [
      " 90%|█████████ | 9/10 [06:02<00:40, 40.32s/it]"
     ]
    },
    {
     "name": "stdout",
     "output_type": "stream",
     "text": [
      "Epoch 9:\t Train accuracy: 95.7%\t Avg train loss: 0.127921\t Test accuracy: 69.8%\t Avg test loss: 1.423278\n"
     ]
    },
    {
     "name": "stderr",
     "output_type": "stream",
     "text": [
      "100%|██████████| 10/10 [06:42<00:00, 40.21s/it]"
     ]
    },
    {
     "name": "stdout",
     "output_type": "stream",
     "text": [
      "Epoch 10:\t Train accuracy: 96.6%\t Avg train loss: 0.099004\t Test accuracy: 70.2%\t Avg test loss: 1.588676\n"
     ]
    },
    {
     "name": "stderr",
     "output_type": "stream",
     "text": [
      "\n"
     ]
    }
   ],
   "source": [
    "#CNN\n",
    "epochs = 10\n",
    "all_train_accuracies = []\n",
    "all_test_accuracies = []\n",
    "for t in tqdm(range(epochs)):\n",
    "    \n",
    "    # train\n",
    "    train_accuracy, average_train_loss = train(train_dataloader, model, loss_fn, optimizer)\n",
    "    all_train_accuracies += [train_accuracy]\n",
    "    \n",
    "    #test\n",
    "    test_accuracy, average_test_loss = test(test_dataloader, model, loss_fn)\n",
    "    all_test_accuracies += [test_accuracy]\n",
    "    \n",
    "    print(f\"Epoch {t+1}:\\t Train accuracy: {100*train_accuracy:0.1f}%\\t Avg train loss: {average_train_loss:>6f}\\t Test accuracy: {100*test_accuracy:0.1f}%\\t Avg test loss: {average_test_loss:>6f}\")"
   ]
  },
  {
   "cell_type": "markdown",
   "metadata": {
    "id": "XwqRo-i3Erd0"
   },
   "source": [
    "## **Part 1 training process**"
   ]
  },
  {
   "cell_type": "code",
   "execution_count": 32,
   "metadata": {
    "id": "ECDbhLB7FqJ6"
   },
   "outputs": [
    {
     "name": "stderr",
     "output_type": "stream",
     "text": [
      " 10%|█         | 1/10 [00:27<04:08, 27.66s/it]"
     ]
    },
    {
     "name": "stdout",
     "output_type": "stream",
     "text": [
      "Epoch 1:\t Train accuracy: 35.8%\t Avg train loss: 2.954102\t Test accuracy: 37.1%\t Avg test loss: 2.724026\n"
     ]
    },
    {
     "name": "stderr",
     "output_type": "stream",
     "text": [
      " 20%|██        | 2/10 [00:54<03:37, 27.21s/it]"
     ]
    },
    {
     "name": "stdout",
     "output_type": "stream",
     "text": [
      "Epoch 2:\t Train accuracy: 38.8%\t Avg train loss: 2.655727\t Test accuracy: 38.1%\t Avg test loss: 2.611544\n"
     ]
    },
    {
     "name": "stderr",
     "output_type": "stream",
     "text": [
      " 30%|███       | 3/10 [01:20<03:06, 26.66s/it]"
     ]
    },
    {
     "name": "stdout",
     "output_type": "stream",
     "text": [
      "Epoch 3:\t Train accuracy: 39.7%\t Avg train loss: 2.543024\t Test accuracy: 39.0%\t Avg test loss: 2.541068\n"
     ]
    },
    {
     "name": "stderr",
     "output_type": "stream",
     "text": [
      " 40%|████      | 4/10 [01:46<02:37, 26.26s/it]"
     ]
    },
    {
     "name": "stdout",
     "output_type": "stream",
     "text": [
      "Epoch 4:\t Train accuracy: 40.2%\t Avg train loss: 2.454793\t Test accuracy: 39.0%\t Avg test loss: 2.479980\n"
     ]
    },
    {
     "name": "stderr",
     "output_type": "stream",
     "text": [
      " 50%|█████     | 5/10 [02:12<02:11, 26.40s/it]"
     ]
    },
    {
     "name": "stdout",
     "output_type": "stream",
     "text": [
      "Epoch 5:\t Train accuracy: 40.4%\t Avg train loss: 2.371834\t Test accuracy: 37.3%\t Avg test loss: 2.447397\n"
     ]
    },
    {
     "name": "stderr",
     "output_type": "stream",
     "text": [
      " 60%|██████    | 6/10 [02:39<01:45, 26.40s/it]"
     ]
    },
    {
     "name": "stdout",
     "output_type": "stream",
     "text": [
      "Epoch 6:\t Train accuracy: 41.0%\t Avg train loss: 2.294031\t Test accuracy: 37.8%\t Avg test loss: 2.346148\n"
     ]
    },
    {
     "name": "stderr",
     "output_type": "stream",
     "text": [
      " 70%|███████   | 7/10 [03:06<01:19, 26.58s/it]"
     ]
    },
    {
     "name": "stdout",
     "output_type": "stream",
     "text": [
      "Epoch 7:\t Train accuracy: 41.0%\t Avg train loss: 2.220034\t Test accuracy: 38.2%\t Avg test loss: 2.306707\n"
     ]
    },
    {
     "name": "stderr",
     "output_type": "stream",
     "text": [
      " 80%|████████  | 8/10 [03:32<00:53, 26.59s/it]"
     ]
    },
    {
     "name": "stdout",
     "output_type": "stream",
     "text": [
      "Epoch 8:\t Train accuracy: 41.2%\t Avg train loss: 2.149907\t Test accuracy: 37.2%\t Avg test loss: 2.283144\n"
     ]
    },
    {
     "name": "stderr",
     "output_type": "stream",
     "text": [
      " 90%|█████████ | 9/10 [03:59<00:26, 26.60s/it]"
     ]
    },
    {
     "name": "stdout",
     "output_type": "stream",
     "text": [
      "Epoch 9:\t Train accuracy: 41.4%\t Avg train loss: 2.082940\t Test accuracy: 37.7%\t Avg test loss: 2.213639\n"
     ]
    },
    {
     "name": "stderr",
     "output_type": "stream",
     "text": [
      "100%|██████████| 10/10 [04:26<00:00, 26.61s/it]"
     ]
    },
    {
     "name": "stdout",
     "output_type": "stream",
     "text": [
      "Epoch 10:\t Train accuracy: 41.5%\t Avg train loss: 2.028960\t Test accuracy: 38.2%\t Avg test loss: 2.152366\n"
     ]
    },
    {
     "name": "stderr",
     "output_type": "stream",
     "text": [
      "\n"
     ]
    }
   ],
   "source": [
    "#Layer 0\n",
    "epochs = 10\n",
    "all_train_accuracies_layer0 = []\n",
    "all_test_accuracies_layer0 = []\n",
    "for t in tqdm(range(epochs)):\n",
    "    \n",
    "    # train\n",
    "    train_accuracy, average_train_loss = train(train_dataloader, model_0, loss_fn, optimizer)\n",
    "    all_train_accuracies_layer0 += [train_accuracy]\n",
    "    \n",
    "    #test\n",
    "    test_accuracy, average_test_loss = test(test_dataloader, model_0, loss_fn)\n",
    "    all_test_accuracies_layer0 += [test_accuracy]\n",
    "    \n",
    "    print(f\"Epoch {t+1}:\\t Train accuracy: {100*train_accuracy:0.1f}%\\t Avg train loss: {average_train_loss:>6f}\\t Test accuracy: {100*test_accuracy:0.1f}%\\t Avg test loss: {average_test_loss:>6f}\")"
   ]
  },
  {
   "cell_type": "code",
   "execution_count": 34,
   "metadata": {
    "id": "fa6rlSTFINyo"
   },
   "outputs": [
    {
     "name": "stderr",
     "output_type": "stream",
     "text": [
      " 10%|█         | 1/10 [00:26<04:01, 26.85s/it]"
     ]
    },
    {
     "name": "stdout",
     "output_type": "stream",
     "text": [
      "Epoch 1:\t Train accuracy: 39.9%\t Avg train loss: 1.764273\t Test accuracy: 44.8%\t Avg test loss: 1.614236\n"
     ]
    },
    {
     "name": "stderr",
     "output_type": "stream",
     "text": [
      " 20%|██        | 2/10 [00:53<03:34, 26.87s/it]"
     ]
    },
    {
     "name": "stdout",
     "output_type": "stream",
     "text": [
      "Epoch 2:\t Train accuracy: 47.7%\t Avg train loss: 1.526977\t Test accuracy: 48.4%\t Avg test loss: 1.509878\n"
     ]
    },
    {
     "name": "stderr",
     "output_type": "stream",
     "text": [
      " 30%|███       | 3/10 [01:20<03:08, 26.86s/it]"
     ]
    },
    {
     "name": "stdout",
     "output_type": "stream",
     "text": [
      "Epoch 3:\t Train accuracy: 51.6%\t Avg train loss: 1.433272\t Test accuracy: 48.9%\t Avg test loss: 1.547909\n"
     ]
    },
    {
     "name": "stderr",
     "output_type": "stream",
     "text": [
      " 40%|████      | 4/10 [01:47<02:41, 26.95s/it]"
     ]
    },
    {
     "name": "stdout",
     "output_type": "stream",
     "text": [
      "Epoch 4:\t Train accuracy: 54.1%\t Avg train loss: 1.363059\t Test accuracy: 49.8%\t Avg test loss: 1.505242\n"
     ]
    },
    {
     "name": "stderr",
     "output_type": "stream",
     "text": [
      " 50%|█████     | 5/10 [02:14<02:14, 26.85s/it]"
     ]
    },
    {
     "name": "stdout",
     "output_type": "stream",
     "text": [
      "Epoch 5:\t Train accuracy: 56.5%\t Avg train loss: 1.301951\t Test accuracy: 51.3%\t Avg test loss: 1.495026\n"
     ]
    },
    {
     "name": "stderr",
     "output_type": "stream",
     "text": [
      " 60%|██████    | 6/10 [02:41<01:47, 26.88s/it]"
     ]
    },
    {
     "name": "stdout",
     "output_type": "stream",
     "text": [
      "Epoch 6:\t Train accuracy: 58.6%\t Avg train loss: 1.242916\t Test accuracy: 49.9%\t Avg test loss: 1.563152\n"
     ]
    },
    {
     "name": "stderr",
     "output_type": "stream",
     "text": [
      " 70%|███████   | 7/10 [03:08<01:20, 26.86s/it]"
     ]
    },
    {
     "name": "stdout",
     "output_type": "stream",
     "text": [
      "Epoch 7:\t Train accuracy: 60.6%\t Avg train loss: 1.193075\t Test accuracy: 51.6%\t Avg test loss: 1.520380\n"
     ]
    },
    {
     "name": "stderr",
     "output_type": "stream",
     "text": [
      " 80%|████████  | 8/10 [03:34<00:53, 26.85s/it]"
     ]
    },
    {
     "name": "stdout",
     "output_type": "stream",
     "text": [
      "Epoch 8:\t Train accuracy: 62.4%\t Avg train loss: 1.136187\t Test accuracy: 49.8%\t Avg test loss: 1.588568\n"
     ]
    },
    {
     "name": "stderr",
     "output_type": "stream",
     "text": [
      " 90%|█████████ | 9/10 [04:01<00:26, 26.89s/it]"
     ]
    },
    {
     "name": "stdout",
     "output_type": "stream",
     "text": [
      "Epoch 9:\t Train accuracy: 64.3%\t Avg train loss: 1.091964\t Test accuracy: 50.4%\t Avg test loss: 1.613262\n"
     ]
    },
    {
     "name": "stderr",
     "output_type": "stream",
     "text": [
      "100%|██████████| 10/10 [04:28<00:00, 26.86s/it]"
     ]
    },
    {
     "name": "stdout",
     "output_type": "stream",
     "text": [
      "Epoch 10:\t Train accuracy: 66.0%\t Avg train loss: 1.047355\t Test accuracy: 51.8%\t Avg test loss: 1.571291\n"
     ]
    },
    {
     "name": "stderr",
     "output_type": "stream",
     "text": [
      "\n"
     ]
    }
   ],
   "source": [
    "#Layer 1\n",
    "epochs = 10\n",
    "all_train_accuracies_layer1 = []\n",
    "all_test_accuracies_layer1 = []\n",
    "for t in tqdm(range(epochs)):\n",
    "    \n",
    "    # train\n",
    "    train_accuracy, average_train_loss = train(train_dataloader, model_1, loss_fn, optimizer)\n",
    "    all_train_accuracies_layer1 += [train_accuracy]\n",
    "    \n",
    "    #test\n",
    "    test_accuracy, average_test_loss = test(test_dataloader, model_1, loss_fn)\n",
    "    all_test_accuracies_layer1 += [test_accuracy]\n",
    "    \n",
    "    print(f\"Epoch {t+1}:\\t Train accuracy: {100*train_accuracy:0.1f}%\\t Avg train loss: {average_train_loss:>6f}\\t Test accuracy: {100*test_accuracy:0.1f}%\\t Avg test loss: {average_test_loss:>6f}\")"
   ]
  },
  {
   "cell_type": "code",
   "execution_count": 39,
   "metadata": {
    "id": "-k11704KK5RQ"
   },
   "outputs": [
    {
     "name": "stderr",
     "output_type": "stream",
     "text": [
      " 10%|█         | 1/10 [00:29<04:23, 29.29s/it]"
     ]
    },
    {
     "name": "stdout",
     "output_type": "stream",
     "text": [
      "Epoch 1:\t Train accuracy: 20.5%\t Avg train loss: 2.098986\t Test accuracy: 25.2%\t Avg test loss: 2.000673\n"
     ]
    },
    {
     "name": "stderr",
     "output_type": "stream",
     "text": [
      " 20%|██        | 2/10 [00:58<03:53, 29.16s/it]"
     ]
    },
    {
     "name": "stdout",
     "output_type": "stream",
     "text": [
      "Epoch 2:\t Train accuracy: 25.7%\t Avg train loss: 1.978262\t Test accuracy: 26.8%\t Avg test loss: 1.962058\n"
     ]
    },
    {
     "name": "stderr",
     "output_type": "stream",
     "text": [
      " 30%|███       | 3/10 [01:27<03:24, 29.20s/it]"
     ]
    },
    {
     "name": "stdout",
     "output_type": "stream",
     "text": [
      "Epoch 3:\t Train accuracy: 27.7%\t Avg train loss: 1.920513\t Test accuracy: 26.9%\t Avg test loss: 1.952025\n"
     ]
    },
    {
     "name": "stderr",
     "output_type": "stream",
     "text": [
      " 40%|████      | 4/10 [01:56<02:54, 29.05s/it]"
     ]
    },
    {
     "name": "stdout",
     "output_type": "stream",
     "text": [
      "Epoch 4:\t Train accuracy: 28.8%\t Avg train loss: 1.879745\t Test accuracy: 27.0%\t Avg test loss: 1.943465\n"
     ]
    },
    {
     "name": "stderr",
     "output_type": "stream",
     "text": [
      " 50%|█████     | 5/10 [02:25<02:24, 28.97s/it]"
     ]
    },
    {
     "name": "stdout",
     "output_type": "stream",
     "text": [
      "Epoch 5:\t Train accuracy: 29.9%\t Avg train loss: 1.841630\t Test accuracy: 27.5%\t Avg test loss: 1.932109\n"
     ]
    },
    {
     "name": "stderr",
     "output_type": "stream",
     "text": [
      " 60%|██████    | 6/10 [02:54<01:56, 29.05s/it]"
     ]
    },
    {
     "name": "stdout",
     "output_type": "stream",
     "text": [
      "Epoch 6:\t Train accuracy: 32.2%\t Avg train loss: 1.796367\t Test accuracy: 31.8%\t Avg test loss: 1.915077\n"
     ]
    },
    {
     "name": "stderr",
     "output_type": "stream",
     "text": [
      " 70%|███████   | 7/10 [03:23<01:27, 29.10s/it]"
     ]
    },
    {
     "name": "stdout",
     "output_type": "stream",
     "text": [
      "Epoch 7:\t Train accuracy: 36.5%\t Avg train loss: 1.736802\t Test accuracy: 32.8%\t Avg test loss: 1.912701\n"
     ]
    },
    {
     "name": "stderr",
     "output_type": "stream",
     "text": [
      " 80%|████████  | 8/10 [03:53<00:58, 29.25s/it]"
     ]
    },
    {
     "name": "stdout",
     "output_type": "stream",
     "text": [
      "Epoch 8:\t Train accuracy: 38.5%\t Avg train loss: 1.683185\t Test accuracy: 33.0%\t Avg test loss: 1.936900\n"
     ]
    },
    {
     "name": "stderr",
     "output_type": "stream",
     "text": [
      " 90%|█████████ | 9/10 [04:22<00:29, 29.14s/it]"
     ]
    },
    {
     "name": "stdout",
     "output_type": "stream",
     "text": [
      "Epoch 9:\t Train accuracy: 40.7%\t Avg train loss: 1.635192\t Test accuracy: 34.8%\t Avg test loss: 1.892330\n"
     ]
    },
    {
     "name": "stderr",
     "output_type": "stream",
     "text": [
      "100%|██████████| 10/10 [04:51<00:00, 29.14s/it]"
     ]
    },
    {
     "name": "stdout",
     "output_type": "stream",
     "text": [
      "Epoch 10:\t Train accuracy: 42.3%\t Avg train loss: 1.587681\t Test accuracy: 34.9%\t Avg test loss: 1.894283\n"
     ]
    },
    {
     "name": "stderr",
     "output_type": "stream",
     "text": [
      "\n"
     ]
    }
   ],
   "source": [
    "#Layer 2\n",
    "epochs = 10\n",
    "all_train_accuracies_layer2 = []\n",
    "all_test_accuracies_layer2 = []\n",
    "for t in tqdm(range(epochs)):\n",
    "    \n",
    "    # train\n",
    "    train_accuracy, average_train_loss = train(train_dataloader, model_2, loss_fn, optimizer)\n",
    "    all_train_accuracies_layer2 += [train_accuracy]\n",
    "    \n",
    "    #test\n",
    "    test_accuracy, average_test_loss = test(test_dataloader, model_2, loss_fn)\n",
    "    all_test_accuracies_layer2 += [test_accuracy]\n",
    "    \n",
    "    print(f\"Epoch {t+1}:\\t Train accuracy: {100*train_accuracy:0.1f}%\\t Avg train loss: {average_train_loss:>6f}\\t Test accuracy: {100*test_accuracy:0.1f}%\\t Avg test loss: {average_test_loss:>6f}\")"
   ]
  },
  {
   "cell_type": "code",
   "execution_count": 43,
   "metadata": {
    "id": "yro6TY39L4AC"
   },
   "outputs": [
    {
     "name": "stderr",
     "output_type": "stream",
     "text": [
      " 10%|█         | 1/10 [00:31<04:45, 31.73s/it]"
     ]
    },
    {
     "name": "stdout",
     "output_type": "stream",
     "text": [
      "Epoch 1:\t Train accuracy: 38.4%\t Avg train loss: 1.815776\t Test accuracy: 44.6%\t Avg test loss: 1.625426\n"
     ]
    },
    {
     "name": "stderr",
     "output_type": "stream",
     "text": [
      " 20%|██        | 2/10 [01:03<04:12, 31.61s/it]"
     ]
    },
    {
     "name": "stdout",
     "output_type": "stream",
     "text": [
      "Epoch 2:\t Train accuracy: 46.4%\t Avg train loss: 1.576670\t Test accuracy: 46.8%\t Avg test loss: 1.593391\n"
     ]
    },
    {
     "name": "stderr",
     "output_type": "stream",
     "text": [
      " 30%|███       | 3/10 [01:34<03:40, 31.54s/it]"
     ]
    },
    {
     "name": "stdout",
     "output_type": "stream",
     "text": [
      "Epoch 3:\t Train accuracy: 50.4%\t Avg train loss: 1.466383\t Test accuracy: 47.8%\t Avg test loss: 1.551278\n"
     ]
    },
    {
     "name": "stderr",
     "output_type": "stream",
     "text": [
      " 40%|████      | 4/10 [02:06<03:09, 31.57s/it]"
     ]
    },
    {
     "name": "stdout",
     "output_type": "stream",
     "text": [
      "Epoch 4:\t Train accuracy: 53.1%\t Avg train loss: 1.380020\t Test accuracy: 49.7%\t Avg test loss: 1.494132\n"
     ]
    },
    {
     "name": "stderr",
     "output_type": "stream",
     "text": [
      " 50%|█████     | 5/10 [02:37<02:37, 31.52s/it]"
     ]
    },
    {
     "name": "stdout",
     "output_type": "stream",
     "text": [
      "Epoch 5:\t Train accuracy: 55.7%\t Avg train loss: 1.305460\t Test accuracy: 49.5%\t Avg test loss: 1.510039\n"
     ]
    },
    {
     "name": "stderr",
     "output_type": "stream",
     "text": [
      " 60%|██████    | 6/10 [03:09<02:05, 31.43s/it]"
     ]
    },
    {
     "name": "stdout",
     "output_type": "stream",
     "text": [
      "Epoch 6:\t Train accuracy: 59.3%\t Avg train loss: 1.191862\t Test accuracy: 52.6%\t Avg test loss: 1.401998\n"
     ]
    },
    {
     "name": "stderr",
     "output_type": "stream",
     "text": [
      " 70%|███████   | 7/10 [03:40<01:34, 31.55s/it]"
     ]
    },
    {
     "name": "stdout",
     "output_type": "stream",
     "text": [
      "Epoch 7:\t Train accuracy: 63.4%\t Avg train loss: 1.050935\t Test accuracy: 53.6%\t Avg test loss: 1.421676\n"
     ]
    },
    {
     "name": "stderr",
     "output_type": "stream",
     "text": [
      " 80%|████████  | 8/10 [04:12<01:03, 31.63s/it]"
     ]
    },
    {
     "name": "stdout",
     "output_type": "stream",
     "text": [
      "Epoch 8:\t Train accuracy: 66.0%\t Avg train loss: 0.969468\t Test accuracy: 53.3%\t Avg test loss: 1.449749\n"
     ]
    },
    {
     "name": "stderr",
     "output_type": "stream",
     "text": [
      " 90%|█████████ | 9/10 [04:44<00:31, 31.68s/it]"
     ]
    },
    {
     "name": "stdout",
     "output_type": "stream",
     "text": [
      "Epoch 9:\t Train accuracy: 68.8%\t Avg train loss: 0.888964\t Test accuracy: 54.6%\t Avg test loss: 1.451332\n"
     ]
    },
    {
     "name": "stderr",
     "output_type": "stream",
     "text": [
      "100%|██████████| 10/10 [05:15<00:00, 31.60s/it]"
     ]
    },
    {
     "name": "stdout",
     "output_type": "stream",
     "text": [
      "Epoch 10:\t Train accuracy: 71.2%\t Avg train loss: 0.813482\t Test accuracy: 53.3%\t Avg test loss: 1.543714\n"
     ]
    },
    {
     "name": "stderr",
     "output_type": "stream",
     "text": [
      "\n"
     ]
    }
   ],
   "source": [
    "#Layer 3\n",
    "epochs = 10\n",
    "all_train_accuracies_layer3 = []\n",
    "all_test_accuracies_layer3 = []\n",
    "for t in tqdm(range(epochs)):\n",
    "    \n",
    "    # train\n",
    "    train_accuracy, average_train_loss = train(train_dataloader, model_3, loss_fn, optimizer)\n",
    "    all_train_accuracies_layer3 += [train_accuracy]\n",
    "    \n",
    "    #test\n",
    "    test_accuracy, average_test_loss = test(test_dataloader, model_3, loss_fn)\n",
    "    all_test_accuracies_layer3 += [test_accuracy]\n",
    "    \n",
    "    print(f\"Epoch {t+1}:\\t Train accuracy: {100*train_accuracy:0.1f}%\\t Avg train loss: {average_train_loss:>6f}\\t Test accuracy: {100*test_accuracy:0.1f}%\\t Avg test loss: {average_test_loss:>6f}\")"
   ]
  },
  {
   "cell_type": "markdown",
   "metadata": {
    "id": "Je9JF-EvEzmg"
   },
   "source": [
    "## **Part 2 training process**"
   ]
  },
  {
   "cell_type": "code",
   "execution_count": 61,
   "metadata": {
    "id": "zo4rbIpbveXf"
   },
   "outputs": [
    {
     "name": "stderr",
     "output_type": "stream",
     "text": [
      " 10%|█         | 1/10 [00:42<06:21, 42.43s/it]"
     ]
    },
    {
     "name": "stdout",
     "output_type": "stream",
     "text": [
      "Epoch 1:\t Train accuracy: 30.2%\t Avg train loss: 1.908772\t Test accuracy: 41.6%\t Avg test loss: 1.625293\n"
     ]
    },
    {
     "name": "stderr",
     "output_type": "stream",
     "text": [
      " 20%|██        | 2/10 [01:24<05:38, 42.26s/it]"
     ]
    },
    {
     "name": "stdout",
     "output_type": "stream",
     "text": [
      "Epoch 2:\t Train accuracy: 45.7%\t Avg train loss: 1.508469\t Test accuracy: 49.8%\t Avg test loss: 1.382341\n"
     ]
    },
    {
     "name": "stderr",
     "output_type": "stream",
     "text": [
      " 30%|███       | 3/10 [02:07<04:56, 42.34s/it]"
     ]
    },
    {
     "name": "stdout",
     "output_type": "stream",
     "text": [
      "Epoch 3:\t Train accuracy: 52.6%\t Avg train loss: 1.316263\t Test accuracy: 54.8%\t Avg test loss: 1.252911\n"
     ]
    },
    {
     "name": "stderr",
     "output_type": "stream",
     "text": [
      " 40%|████      | 4/10 [02:49<04:14, 42.37s/it]"
     ]
    },
    {
     "name": "stdout",
     "output_type": "stream",
     "text": [
      "Epoch 4:\t Train accuracy: 57.5%\t Avg train loss: 1.190748\t Test accuracy: 57.0%\t Avg test loss: 1.185209\n"
     ]
    },
    {
     "name": "stderr",
     "output_type": "stream",
     "text": [
      " 50%|█████     | 5/10 [03:31<03:31, 42.38s/it]"
     ]
    },
    {
     "name": "stdout",
     "output_type": "stream",
     "text": [
      "Epoch 5:\t Train accuracy: 61.0%\t Avg train loss: 1.096589\t Test accuracy: 59.1%\t Avg test loss: 1.146578\n"
     ]
    },
    {
     "name": "stderr",
     "output_type": "stream",
     "text": [
      " 60%|██████    | 6/10 [04:19<02:56, 44.13s/it]"
     ]
    },
    {
     "name": "stdout",
     "output_type": "stream",
     "text": [
      "Epoch 6:\t Train accuracy: 64.2%\t Avg train loss: 1.006887\t Test accuracy: 60.8%\t Avg test loss: 1.114696\n"
     ]
    },
    {
     "name": "stderr",
     "output_type": "stream",
     "text": [
      " 70%|███████   | 7/10 [05:14<02:23, 47.84s/it]"
     ]
    },
    {
     "name": "stdout",
     "output_type": "stream",
     "text": [
      "Epoch 7:\t Train accuracy: 67.2%\t Avg train loss: 0.926766\t Test accuracy: 63.2%\t Avg test loss: 1.038323\n"
     ]
    },
    {
     "name": "stderr",
     "output_type": "stream",
     "text": [
      " 80%|████████  | 8/10 [06:02<01:35, 47.80s/it]"
     ]
    },
    {
     "name": "stdout",
     "output_type": "stream",
     "text": [
      "Epoch 8:\t Train accuracy: 70.3%\t Avg train loss: 0.847436\t Test accuracy: 63.3%\t Avg test loss: 1.043813\n"
     ]
    },
    {
     "name": "stderr",
     "output_type": "stream",
     "text": [
      " 90%|█████████ | 9/10 [06:46<00:46, 46.70s/it]"
     ]
    },
    {
     "name": "stdout",
     "output_type": "stream",
     "text": [
      "Epoch 9:\t Train accuracy: 73.0%\t Avg train loss: 0.773258\t Test accuracy: 64.5%\t Avg test loss: 1.015095\n"
     ]
    },
    {
     "name": "stderr",
     "output_type": "stream",
     "text": [
      "100%|██████████| 10/10 [07:29<00:00, 44.93s/it]"
     ]
    },
    {
     "name": "stdout",
     "output_type": "stream",
     "text": [
      "Epoch 10:\t Train accuracy: 75.8%\t Avg train loss: 0.696856\t Test accuracy: 65.4%\t Avg test loss: 0.995650\n"
     ]
    },
    {
     "name": "stderr",
     "output_type": "stream",
     "text": [
      "\n"
     ]
    }
   ],
   "source": [
    "#Sigmoid\n",
    "epochs = 10\n",
    "all_train_accuracies_sigmoid = []\n",
    "all_test_accuracies_sigmoid = []\n",
    "for t in tqdm(range(epochs)):\n",
    "    \n",
    "    # train\n",
    "    train_accuracy, average_train_loss = train(train_dataloader, model_sigmoid, loss_fn, optimizer)\n",
    "    all_train_accuracies_sigmoid += [train_accuracy]\n",
    "    \n",
    "    #test\n",
    "    test_accuracy, average_test_loss = test(test_dataloader, model_sigmoid, loss_fn)\n",
    "    all_test_accuracies_sigmoid += [test_accuracy]\n",
    "    \n",
    "    print(f\"Epoch {t+1}:\\t Train accuracy: {100*train_accuracy:0.1f}%\\t Avg train loss: {average_train_loss:>6f}\\t Test accuracy: {100*test_accuracy:0.1f}%\\t Avg test loss: {average_test_loss:>6f}\")"
   ]
  },
  {
   "cell_type": "markdown",
   "metadata": {
    "id": "GEha_4b3E7kZ"
   },
   "source": [
    "## **Part 3 training process**"
   ]
  },
  {
   "cell_type": "code",
   "execution_count": 68,
   "metadata": {
    "id": "IH9mo0Hkvoii"
   },
   "outputs": [
    {
     "name": "stderr",
     "output_type": "stream",
     "text": [
      "  5%|▌         | 1/20 [00:45<14:19, 45.24s/it]"
     ]
    },
    {
     "name": "stdout",
     "output_type": "stream",
     "text": [
      "Epoch 1:\t Train accuracy: 44.9%\t Avg train loss: 1.525690\t Test accuracy: 57.4%\t Avg test loss: 1.184874\n"
     ]
    },
    {
     "name": "stderr",
     "output_type": "stream",
     "text": [
      " 10%|█         | 2/20 [01:30<13:34, 45.23s/it]"
     ]
    },
    {
     "name": "stdout",
     "output_type": "stream",
     "text": [
      "Epoch 2:\t Train accuracy: 57.4%\t Avg train loss: 1.204690\t Test accuracy: 64.2%\t Avg test loss: 1.028187\n"
     ]
    },
    {
     "name": "stderr",
     "output_type": "stream",
     "text": [
      " 15%|█▌        | 3/20 [02:15<12:45, 45.02s/it]"
     ]
    },
    {
     "name": "stdout",
     "output_type": "stream",
     "text": [
      "Epoch 3:\t Train accuracy: 61.9%\t Avg train loss: 1.083198\t Test accuracy: 66.8%\t Avg test loss: 0.941173\n"
     ]
    },
    {
     "name": "stderr",
     "output_type": "stream",
     "text": [
      " 20%|██        | 4/20 [03:00<12:02, 45.18s/it]"
     ]
    },
    {
     "name": "stdout",
     "output_type": "stream",
     "text": [
      "Epoch 4:\t Train accuracy: 64.7%\t Avg train loss: 1.001809\t Test accuracy: 68.7%\t Avg test loss: 0.908513\n"
     ]
    },
    {
     "name": "stderr",
     "output_type": "stream",
     "text": [
      " 25%|██▌       | 5/20 [03:45<11:16, 45.07s/it]"
     ]
    },
    {
     "name": "stdout",
     "output_type": "stream",
     "text": [
      "Epoch 5:\t Train accuracy: 66.8%\t Avg train loss: 0.943369\t Test accuracy: 70.2%\t Avg test loss: 0.857376\n"
     ]
    },
    {
     "name": "stderr",
     "output_type": "stream",
     "text": [
      " 30%|███       | 6/20 [04:30<10:30, 45.02s/it]"
     ]
    },
    {
     "name": "stdout",
     "output_type": "stream",
     "text": [
      "Epoch 6:\t Train accuracy: 68.6%\t Avg train loss: 0.893134\t Test accuracy: 69.8%\t Avg test loss: 0.865973\n"
     ]
    },
    {
     "name": "stderr",
     "output_type": "stream",
     "text": [
      " 35%|███▌      | 7/20 [05:15<09:45, 45.01s/it]"
     ]
    },
    {
     "name": "stdout",
     "output_type": "stream",
     "text": [
      "Epoch 7:\t Train accuracy: 69.9%\t Avg train loss: 0.857385\t Test accuracy: 70.1%\t Avg test loss: 0.855862\n"
     ]
    },
    {
     "name": "stderr",
     "output_type": "stream",
     "text": [
      " 40%|████      | 8/20 [06:00<09:01, 45.11s/it]"
     ]
    },
    {
     "name": "stdout",
     "output_type": "stream",
     "text": [
      "Epoch 8:\t Train accuracy: 70.9%\t Avg train loss: 0.834077\t Test accuracy: 72.0%\t Avg test loss: 0.802411\n"
     ]
    },
    {
     "name": "stderr",
     "output_type": "stream",
     "text": [
      " 45%|████▌     | 9/20 [06:45<08:16, 45.11s/it]"
     ]
    },
    {
     "name": "stdout",
     "output_type": "stream",
     "text": [
      "Epoch 9:\t Train accuracy: 71.7%\t Avg train loss: 0.803496\t Test accuracy: 72.7%\t Avg test loss: 0.800683\n"
     ]
    },
    {
     "name": "stderr",
     "output_type": "stream",
     "text": [
      " 50%|█████     | 10/20 [07:30<07:30, 45.01s/it]"
     ]
    },
    {
     "name": "stdout",
     "output_type": "stream",
     "text": [
      "Epoch 10:\t Train accuracy: 72.8%\t Avg train loss: 0.776567\t Test accuracy: 73.8%\t Avg test loss: 0.758061\n"
     ]
    },
    {
     "name": "stderr",
     "output_type": "stream",
     "text": [
      " 55%|█████▌    | 11/20 [08:16<06:45, 45.11s/it]"
     ]
    },
    {
     "name": "stdout",
     "output_type": "stream",
     "text": [
      "Epoch 11:\t Train accuracy: 73.2%\t Avg train loss: 0.760537\t Test accuracy: 72.8%\t Avg test loss: 0.781502\n"
     ]
    },
    {
     "name": "stderr",
     "output_type": "stream",
     "text": [
      " 60%|██████    | 12/20 [09:00<06:00, 45.04s/it]"
     ]
    },
    {
     "name": "stdout",
     "output_type": "stream",
     "text": [
      "Epoch 12:\t Train accuracy: 74.0%\t Avg train loss: 0.741525\t Test accuracy: 73.8%\t Avg test loss: 0.765522\n"
     ]
    },
    {
     "name": "stderr",
     "output_type": "stream",
     "text": [
      " 65%|██████▌   | 13/20 [09:45<05:15, 45.04s/it]"
     ]
    },
    {
     "name": "stdout",
     "output_type": "stream",
     "text": [
      "Epoch 13:\t Train accuracy: 74.2%\t Avg train loss: 0.724787\t Test accuracy: 74.3%\t Avg test loss: 0.749736\n"
     ]
    },
    {
     "name": "stderr",
     "output_type": "stream",
     "text": [
      " 70%|███████   | 14/20 [10:30<04:30, 45.05s/it]"
     ]
    },
    {
     "name": "stdout",
     "output_type": "stream",
     "text": [
      "Epoch 14:\t Train accuracy: 74.8%\t Avg train loss: 0.716051\t Test accuracy: 74.4%\t Avg test loss: 0.740074\n"
     ]
    },
    {
     "name": "stderr",
     "output_type": "stream",
     "text": [
      " 75%|███████▌  | 15/20 [11:15<03:44, 44.98s/it]"
     ]
    },
    {
     "name": "stdout",
     "output_type": "stream",
     "text": [
      "Epoch 15:\t Train accuracy: 75.5%\t Avg train loss: 0.691333\t Test accuracy: 74.5%\t Avg test loss: 0.744694\n"
     ]
    },
    {
     "name": "stderr",
     "output_type": "stream",
     "text": [
      " 80%|████████  | 16/20 [12:01<03:00, 45.13s/it]"
     ]
    },
    {
     "name": "stdout",
     "output_type": "stream",
     "text": [
      "Epoch 16:\t Train accuracy: 75.8%\t Avg train loss: 0.685381\t Test accuracy: 74.4%\t Avg test loss: 0.752006\n"
     ]
    },
    {
     "name": "stderr",
     "output_type": "stream",
     "text": [
      " 85%|████████▌ | 17/20 [12:46<02:15, 45.11s/it]"
     ]
    },
    {
     "name": "stdout",
     "output_type": "stream",
     "text": [
      "Epoch 17:\t Train accuracy: 76.5%\t Avg train loss: 0.666837\t Test accuracy: 74.4%\t Avg test loss: 0.749102\n"
     ]
    },
    {
     "name": "stderr",
     "output_type": "stream",
     "text": [
      " 90%|█████████ | 18/20 [13:31<01:30, 45.07s/it]"
     ]
    },
    {
     "name": "stdout",
     "output_type": "stream",
     "text": [
      "Epoch 18:\t Train accuracy: 76.6%\t Avg train loss: 0.660081\t Test accuracy: 75.5%\t Avg test loss: 0.718469\n"
     ]
    },
    {
     "name": "stderr",
     "output_type": "stream",
     "text": [
      " 95%|█████████▌| 19/20 [14:16<00:45, 45.07s/it]"
     ]
    },
    {
     "name": "stdout",
     "output_type": "stream",
     "text": [
      "Epoch 19:\t Train accuracy: 77.1%\t Avg train loss: 0.651689\t Test accuracy: 75.0%\t Avg test loss: 0.742421\n"
     ]
    },
    {
     "name": "stderr",
     "output_type": "stream",
     "text": [
      "100%|██████████| 20/20 [15:01<00:00, 45.06s/it]"
     ]
    },
    {
     "name": "stdout",
     "output_type": "stream",
     "text": [
      "Epoch 20:\t Train accuracy: 77.5%\t Avg train loss: 0.638575\t Test accuracy: 75.2%\t Avg test loss: 0.729272\n"
     ]
    },
    {
     "name": "stderr",
     "output_type": "stream",
     "text": [
      "\n"
     ]
    }
   ],
   "source": [
    "#Dropout\n",
    "epochs = 20\n",
    "all_train_accuracies_dropout = []\n",
    "all_test_accuracies_dropout = []\n",
    "for t in tqdm(range(epochs)):\n",
    "    \n",
    "    # train\n",
    "    train_accuracy, average_train_loss = train(train_dataloader, model_dropout, loss_fn, optimizer)\n",
    "    all_train_accuracies_dropout += [train_accuracy]\n",
    "    \n",
    "    #test\n",
    "    test_accuracy, average_test_loss = test(test_dataloader, model_dropout, loss_fn)\n",
    "    all_test_accuracies_dropout += [test_accuracy]\n",
    "    \n",
    "    print(f\"Epoch {t+1}:\\t Train accuracy: {100*train_accuracy:0.1f}%\\t Avg train loss: {average_train_loss:>6f}\\t Test accuracy: {100*test_accuracy:0.1f}%\\t Avg test loss: {average_test_loss:>6f}\")"
   ]
  },
  {
   "cell_type": "markdown",
   "metadata": {
    "id": "MRc0uVxcUFh4"
   },
   "source": [
    "## **Part 4 training process**"
   ]
  },
  {
   "cell_type": "code",
   "execution_count": 19,
   "metadata": {
    "id": "EmmSu2ayUL6e"
   },
   "outputs": [
    {
     "name": "stderr",
     "output_type": "stream",
     "text": [
      " 10%|█         | 1/10 [00:43<06:29, 43.28s/it]"
     ]
    },
    {
     "name": "stdout",
     "output_type": "stream",
     "text": [
      "Epoch 1:\t Train accuracy: 50.8%\t Avg train loss: 1.362228\t Test accuracy: 60.2%\t Avg test loss: 1.109109\n"
     ]
    },
    {
     "name": "stderr",
     "output_type": "stream",
     "text": [
      " 20%|██        | 2/10 [01:24<05:34, 41.83s/it]"
     ]
    },
    {
     "name": "stdout",
     "output_type": "stream",
     "text": [
      "Epoch 2:\t Train accuracy: 65.3%\t Avg train loss: 0.976781\t Test accuracy: 67.5%\t Avg test loss: 0.940628\n"
     ]
    },
    {
     "name": "stderr",
     "output_type": "stream",
     "text": [
      " 30%|███       | 3/10 [02:04<04:48, 41.20s/it]"
     ]
    },
    {
     "name": "stdout",
     "output_type": "stream",
     "text": [
      "Epoch 3:\t Train accuracy: 72.2%\t Avg train loss: 0.789950\t Test accuracy: 68.7%\t Avg test loss: 0.907576\n"
     ]
    },
    {
     "name": "stderr",
     "output_type": "stream",
     "text": [
      " 40%|████      | 4/10 [02:45<04:05, 40.96s/it]"
     ]
    },
    {
     "name": "stdout",
     "output_type": "stream",
     "text": [
      "Epoch 4:\t Train accuracy: 77.1%\t Avg train loss: 0.650628\t Test accuracy: 71.1%\t Avg test loss: 0.843812\n"
     ]
    },
    {
     "name": "stderr",
     "output_type": "stream",
     "text": [
      " 50%|█████     | 5/10 [03:25<03:24, 40.81s/it]"
     ]
    },
    {
     "name": "stdout",
     "output_type": "stream",
     "text": [
      "Epoch 5:\t Train accuracy: 81.9%\t Avg train loss: 0.515050\t Test accuracy: 71.0%\t Avg test loss: 0.861648\n"
     ]
    },
    {
     "name": "stderr",
     "output_type": "stream",
     "text": [
      " 60%|██████    | 6/10 [04:06<02:42, 40.73s/it]"
     ]
    },
    {
     "name": "stdout",
     "output_type": "stream",
     "text": [
      "Epoch 6:\t Train accuracy: 86.4%\t Avg train loss: 0.392546\t Test accuracy: 70.7%\t Avg test loss: 0.977886\n"
     ]
    },
    {
     "name": "stderr",
     "output_type": "stream",
     "text": [
      " 70%|███████   | 7/10 [04:46<02:02, 40.71s/it]"
     ]
    },
    {
     "name": "stdout",
     "output_type": "stream",
     "text": [
      "Epoch 7:\t Train accuracy: 90.6%\t Avg train loss: 0.275785\t Test accuracy: 70.5%\t Avg test loss: 1.070281\n"
     ]
    },
    {
     "name": "stderr",
     "output_type": "stream",
     "text": [
      " 80%|████████  | 8/10 [05:27<01:21, 40.71s/it]"
     ]
    },
    {
     "name": "stdout",
     "output_type": "stream",
     "text": [
      "Epoch 8:\t Train accuracy: 93.5%\t Avg train loss: 0.191408\t Test accuracy: 71.2%\t Avg test loss: 1.211214\n"
     ]
    },
    {
     "name": "stderr",
     "output_type": "stream",
     "text": [
      " 90%|█████████ | 9/10 [06:08<00:40, 40.72s/it]"
     ]
    },
    {
     "name": "stdout",
     "output_type": "stream",
     "text": [
      "Epoch 9:\t Train accuracy: 95.3%\t Avg train loss: 0.135838\t Test accuracy: 70.2%\t Avg test loss: 1.401530\n"
     ]
    },
    {
     "name": "stderr",
     "output_type": "stream",
     "text": [
      "100%|██████████| 10/10 [06:49<00:00, 40.92s/it]"
     ]
    },
    {
     "name": "stdout",
     "output_type": "stream",
     "text": [
      "Epoch 10:\t Train accuracy: 96.4%\t Avg train loss: 0.106800\t Test accuracy: 69.7%\t Avg test loss: 1.635115\n"
     ]
    },
    {
     "name": "stderr",
     "output_type": "stream",
     "text": [
      "\n"
     ]
    }
   ],
   "source": [
    "#Adam\n",
    "epochs = 10\n",
    "all_train_accuracies_ADAM = []\n",
    "all_test_accuracies_ADAM = []\n",
    "for t in tqdm(range(epochs)):\n",
    "    \n",
    "    # train\n",
    "    train_accuracy, average_train_loss = train(train_dataloader, model, loss_fn, optimizer)\n",
    "    all_train_accuracies_ADAM += [train_accuracy]\n",
    "    \n",
    "    #test\n",
    "    test_accuracy, average_test_loss = test(test_dataloader, model, loss_fn)\n",
    "    all_test_accuracies_ADAM += [test_accuracy]\n",
    "    \n",
    "    print(f\"Epoch {t+1}:\\t Train accuracy: {100*train_accuracy:0.1f}%\\t Avg train loss: {average_train_loss:>6f}\\t Test accuracy: {100*test_accuracy:0.1f}%\\t Avg test loss: {average_test_loss:>6f}\")"
   ]
  },
  {
   "cell_type": "code",
   "execution_count": 82,
   "metadata": {
    "id": "jB5bw0x5UV_a"
   },
   "outputs": [
    {
     "name": "stderr",
     "output_type": "stream",
     "text": [
      " 10%|█         | 1/10 [00:37<05:35, 37.29s/it]"
     ]
    },
    {
     "name": "stdout",
     "output_type": "stream",
     "text": [
      "Epoch 1:\t Train accuracy: 13.0%\t Avg train loss: 2.297855\t Test accuracy: 15.6%\t Avg test loss: 2.291933\n"
     ]
    },
    {
     "name": "stderr",
     "output_type": "stream",
     "text": [
      " 20%|██        | 2/10 [01:14<04:57, 37.14s/it]"
     ]
    },
    {
     "name": "stdout",
     "output_type": "stream",
     "text": [
      "Epoch 2:\t Train accuracy: 15.4%\t Avg train loss: 2.284399\t Test accuracy: 16.7%\t Avg test loss: 2.273483\n"
     ]
    },
    {
     "name": "stderr",
     "output_type": "stream",
     "text": [
      " 30%|███       | 3/10 [01:51<04:19, 37.07s/it]"
     ]
    },
    {
     "name": "stdout",
     "output_type": "stream",
     "text": [
      "Epoch 3:\t Train accuracy: 20.9%\t Avg train loss: 2.253687\t Test accuracy: 25.8%\t Avg test loss: 2.222509\n"
     ]
    },
    {
     "name": "stderr",
     "output_type": "stream",
     "text": [
      " 40%|████      | 4/10 [02:28<03:42, 37.03s/it]"
     ]
    },
    {
     "name": "stdout",
     "output_type": "stream",
     "text": [
      "Epoch 4:\t Train accuracy: 26.8%\t Avg train loss: 2.171300\t Test accuracy: 27.9%\t Avg test loss: 2.104454\n"
     ]
    },
    {
     "name": "stderr",
     "output_type": "stream",
     "text": [
      " 50%|█████     | 5/10 [03:05<03:05, 37.01s/it]"
     ]
    },
    {
     "name": "stdout",
     "output_type": "stream",
     "text": [
      "Epoch 5:\t Train accuracy: 28.0%\t Avg train loss: 2.053100\t Test accuracy: 30.2%\t Avg test loss: 1.991484\n"
     ]
    },
    {
     "name": "stderr",
     "output_type": "stream",
     "text": [
      " 60%|██████    | 6/10 [03:42<02:27, 36.99s/it]"
     ]
    },
    {
     "name": "stdout",
     "output_type": "stream",
     "text": [
      "Epoch 6:\t Train accuracy: 30.4%\t Avg train loss: 1.960259\t Test accuracy: 32.3%\t Avg test loss: 1.913521\n"
     ]
    },
    {
     "name": "stderr",
     "output_type": "stream",
     "text": [
      " 70%|███████   | 7/10 [04:19<01:51, 37.04s/it]"
     ]
    },
    {
     "name": "stdout",
     "output_type": "stream",
     "text": [
      "Epoch 7:\t Train accuracy: 32.4%\t Avg train loss: 1.897447\t Test accuracy: 34.1%\t Avg test loss: 1.861770\n"
     ]
    },
    {
     "name": "stderr",
     "output_type": "stream",
     "text": [
      " 80%|████████  | 8/10 [04:56<01:14, 37.10s/it]"
     ]
    },
    {
     "name": "stdout",
     "output_type": "stream",
     "text": [
      "Epoch 8:\t Train accuracy: 34.2%\t Avg train loss: 1.849347\t Test accuracy: 35.0%\t Avg test loss: 1.817692\n"
     ]
    },
    {
     "name": "stderr",
     "output_type": "stream",
     "text": [
      " 90%|█████████ | 9/10 [05:33<00:37, 37.10s/it]"
     ]
    },
    {
     "name": "stdout",
     "output_type": "stream",
     "text": [
      "Epoch 9:\t Train accuracy: 35.9%\t Avg train loss: 1.805325\t Test accuracy: 37.2%\t Avg test loss: 1.774528\n"
     ]
    },
    {
     "name": "stderr",
     "output_type": "stream",
     "text": [
      "100%|██████████| 10/10 [06:11<00:00, 37.10s/it]"
     ]
    },
    {
     "name": "stdout",
     "output_type": "stream",
     "text": [
      "Epoch 10:\t Train accuracy: 37.5%\t Avg train loss: 1.762366\t Test accuracy: 38.3%\t Avg test loss: 1.731710\n"
     ]
    },
    {
     "name": "stderr",
     "output_type": "stream",
     "text": [
      "\n"
     ]
    }
   ],
   "source": [
    "#SGD\n",
    "epochs = 10\n",
    "all_train_accuracies_SGD = []\n",
    "all_test_accuracies_SGD = []\n",
    "for t in tqdm(range(epochs)):\n",
    "    \n",
    "    # train\n",
    "    train_accuracy, average_train_loss = train(train_dataloader, model, loss_fn, optimizer_SGD)\n",
    "    all_train_accuracies_SGD += [train_accuracy]\n",
    "    \n",
    "    #test\n",
    "    test_accuracy, average_test_loss = test(test_dataloader, model, loss_fn)\n",
    "    all_test_accuracies_SGD += [test_accuracy]\n",
    "    \n",
    "    print(f\"Epoch {t+1}:\\t Train accuracy: {100*train_accuracy:0.1f}%\\t Avg train loss: {average_train_loss:>6f}\\t Test accuracy: {100*test_accuracy:0.1f}%\\t Avg test loss: {average_test_loss:>6f}\")"
   ]
  },
  {
   "cell_type": "code",
   "execution_count": 86,
   "metadata": {
    "id": "6ag0XAy2UWF1"
   },
   "outputs": [
    {
     "name": "stderr",
     "output_type": "stream",
     "text": [
      " 10%|█         | 1/10 [00:38<05:47, 38.64s/it]"
     ]
    },
    {
     "name": "stdout",
     "output_type": "stream",
     "text": [
      "Epoch 1:\t Train accuracy: 44.0%\t Avg train loss: 1.578628\t Test accuracy: 48.9%\t Avg test loss: 1.437366\n"
     ]
    },
    {
     "name": "stderr",
     "output_type": "stream",
     "text": [
      " 20%|██        | 2/10 [01:17<05:08, 38.59s/it]"
     ]
    },
    {
     "name": "stdout",
     "output_type": "stream",
     "text": [
      "Epoch 2:\t Train accuracy: 50.8%\t Avg train loss: 1.377112\t Test accuracy: 49.3%\t Avg test loss: 1.411443\n"
     ]
    },
    {
     "name": "stderr",
     "output_type": "stream",
     "text": [
      " 30%|███       | 3/10 [01:55<04:30, 38.58s/it]"
     ]
    },
    {
     "name": "stdout",
     "output_type": "stream",
     "text": [
      "Epoch 3:\t Train accuracy: 55.3%\t Avg train loss: 1.265125\t Test accuracy: 53.2%\t Avg test loss: 1.291614\n"
     ]
    },
    {
     "name": "stderr",
     "output_type": "stream",
     "text": [
      " 40%|████      | 4/10 [02:34<03:51, 38.61s/it]"
     ]
    },
    {
     "name": "stdout",
     "output_type": "stream",
     "text": [
      "Epoch 4:\t Train accuracy: 58.7%\t Avg train loss: 1.178644\t Test accuracy: 58.8%\t Avg test loss: 1.178430\n"
     ]
    },
    {
     "name": "stderr",
     "output_type": "stream",
     "text": [
      " 50%|█████     | 5/10 [03:12<03:12, 38.58s/it]"
     ]
    },
    {
     "name": "stdout",
     "output_type": "stream",
     "text": [
      "Epoch 5:\t Train accuracy: 61.0%\t Avg train loss: 1.110619\t Test accuracy: 58.0%\t Avg test loss: 1.188012\n"
     ]
    },
    {
     "name": "stderr",
     "output_type": "stream",
     "text": [
      " 60%|██████    | 6/10 [03:51<02:34, 38.53s/it]"
     ]
    },
    {
     "name": "stdout",
     "output_type": "stream",
     "text": [
      "Epoch 6:\t Train accuracy: 63.2%\t Avg train loss: 1.052470\t Test accuracy: 59.7%\t Avg test loss: 1.140970\n"
     ]
    },
    {
     "name": "stderr",
     "output_type": "stream",
     "text": [
      " 70%|███████   | 7/10 [04:30<01:55, 38.63s/it]"
     ]
    },
    {
     "name": "stdout",
     "output_type": "stream",
     "text": [
      "Epoch 7:\t Train accuracy: 65.2%\t Avg train loss: 1.000293\t Test accuracy: 61.1%\t Avg test loss: 1.094048\n"
     ]
    },
    {
     "name": "stderr",
     "output_type": "stream",
     "text": [
      " 80%|████████  | 8/10 [05:08<01:17, 38.66s/it]"
     ]
    },
    {
     "name": "stdout",
     "output_type": "stream",
     "text": [
      "Epoch 8:\t Train accuracy: 66.8%\t Avg train loss: 0.955777\t Test accuracy: 63.3%\t Avg test loss: 1.053515\n"
     ]
    },
    {
     "name": "stderr",
     "output_type": "stream",
     "text": [
      " 90%|█████████ | 9/10 [05:47<00:38, 38.77s/it]"
     ]
    },
    {
     "name": "stdout",
     "output_type": "stream",
     "text": [
      "Epoch 9:\t Train accuracy: 68.4%\t Avg train loss: 0.911221\t Test accuracy: 61.9%\t Avg test loss: 1.082854\n"
     ]
    },
    {
     "name": "stderr",
     "output_type": "stream",
     "text": [
      "100%|██████████| 10/10 [06:27<00:00, 38.74s/it]"
     ]
    },
    {
     "name": "stdout",
     "output_type": "stream",
     "text": [
      "Epoch 10:\t Train accuracy: 69.8%\t Avg train loss: 0.872460\t Test accuracy: 61.7%\t Avg test loss: 1.095364\n"
     ]
    },
    {
     "name": "stderr",
     "output_type": "stream",
     "text": [
      "\n"
     ]
    }
   ],
   "source": [
    "#RMSprop\n",
    "epochs = 10\n",
    "all_train_accuracies_RMS = []\n",
    "all_test_accuracies_RMS = []\n",
    "for t in tqdm(range(epochs)):\n",
    "    \n",
    "    # train\n",
    "    train_accuracy, average_train_loss = train(train_dataloader, model, loss_fn, optimizer_RMS)\n",
    "    all_train_accuracies_RMS += [train_accuracy]\n",
    "    \n",
    "    #test\n",
    "    test_accuracy, average_test_loss = test(test_dataloader, model, loss_fn)\n",
    "    all_test_accuracies_RMS += [test_accuracy]\n",
    "    \n",
    "    print(f\"Epoch {t+1}:\\t Train accuracy: {100*train_accuracy:0.1f}%\\t Avg train loss: {average_train_loss:>6f}\\t Test accuracy: {100*test_accuracy:0.1f}%\\t Avg test loss: {average_test_loss:>6f}\")"
   ]
  },
  {
   "cell_type": "code",
   "execution_count": 90,
   "metadata": {
    "id": "OiwgDa-5UWZp"
   },
   "outputs": [
    {
     "name": "stderr",
     "output_type": "stream",
     "text": [
      " 10%|█         | 1/10 [00:38<05:49, 38.85s/it]"
     ]
    },
    {
     "name": "stdout",
     "output_type": "stream",
     "text": [
      "Epoch 1:\t Train accuracy: 60.4%\t Avg train loss: 1.241222\t Test accuracy: 63.6%\t Avg test loss: 1.049869\n"
     ]
    },
    {
     "name": "stderr",
     "output_type": "stream",
     "text": [
      " 20%|██        | 2/10 [01:17<05:09, 38.71s/it]"
     ]
    },
    {
     "name": "stdout",
     "output_type": "stream",
     "text": [
      "Epoch 2:\t Train accuracy: 69.2%\t Avg train loss: 0.882742\t Test accuracy: 64.5%\t Avg test loss: 1.018444\n"
     ]
    },
    {
     "name": "stderr",
     "output_type": "stream",
     "text": [
      " 30%|███       | 3/10 [01:56<04:30, 38.67s/it]"
     ]
    },
    {
     "name": "stdout",
     "output_type": "stream",
     "text": [
      "Epoch 3:\t Train accuracy: 72.8%\t Avg train loss: 0.783866\t Test accuracy: 68.3%\t Avg test loss: 0.929059\n"
     ]
    },
    {
     "name": "stderr",
     "output_type": "stream",
     "text": [
      " 40%|████      | 4/10 [02:34<03:52, 38.73s/it]"
     ]
    },
    {
     "name": "stdout",
     "output_type": "stream",
     "text": [
      "Epoch 4:\t Train accuracy: 75.4%\t Avg train loss: 0.709231\t Test accuracy: 66.8%\t Avg test loss: 0.977652\n"
     ]
    },
    {
     "name": "stderr",
     "output_type": "stream",
     "text": [
      " 50%|█████     | 5/10 [03:13<03:13, 38.74s/it]"
     ]
    },
    {
     "name": "stdout",
     "output_type": "stream",
     "text": [
      "Epoch 5:\t Train accuracy: 77.9%\t Avg train loss: 0.643565\t Test accuracy: 68.5%\t Avg test loss: 0.921865\n"
     ]
    },
    {
     "name": "stderr",
     "output_type": "stream",
     "text": [
      " 60%|██████    | 6/10 [03:52<02:35, 38.76s/it]"
     ]
    },
    {
     "name": "stdout",
     "output_type": "stream",
     "text": [
      "Epoch 6:\t Train accuracy: 80.1%\t Avg train loss: 0.586668\t Test accuracy: 69.7%\t Avg test loss: 0.903911\n"
     ]
    },
    {
     "name": "stderr",
     "output_type": "stream",
     "text": [
      " 70%|███████   | 7/10 [04:31<01:56, 38.81s/it]"
     ]
    },
    {
     "name": "stdout",
     "output_type": "stream",
     "text": [
      "Epoch 7:\t Train accuracy: 81.9%\t Avg train loss: 0.532404\t Test accuracy: 68.2%\t Avg test loss: 0.978097\n"
     ]
    },
    {
     "name": "stderr",
     "output_type": "stream",
     "text": [
      " 80%|████████  | 8/10 [05:10<01:17, 38.82s/it]"
     ]
    },
    {
     "name": "stdout",
     "output_type": "stream",
     "text": [
      "Epoch 8:\t Train accuracy: 83.8%\t Avg train loss: 0.483203\t Test accuracy: 70.6%\t Avg test loss: 0.902700\n"
     ]
    },
    {
     "name": "stderr",
     "output_type": "stream",
     "text": [
      " 90%|█████████ | 9/10 [05:49<00:38, 38.96s/it]"
     ]
    },
    {
     "name": "stdout",
     "output_type": "stream",
     "text": [
      "Epoch 9:\t Train accuracy: 85.7%\t Avg train loss: 0.437095\t Test accuracy: 69.0%\t Avg test loss: 0.970022\n"
     ]
    },
    {
     "name": "stderr",
     "output_type": "stream",
     "text": [
      "100%|██████████| 10/10 [06:28<00:00, 38.84s/it]"
     ]
    },
    {
     "name": "stdout",
     "output_type": "stream",
     "text": [
      "Epoch 10:\t Train accuracy: 87.2%\t Avg train loss: 0.392073\t Test accuracy: 68.2%\t Avg test loss: 1.020081\n"
     ]
    },
    {
     "name": "stderr",
     "output_type": "stream",
     "text": [
      "\n"
     ]
    }
   ],
   "source": [
    "#Adagrad\n",
    "epochs = 10\n",
    "all_train_accuracies_ADA = []\n",
    "all_test_accuracies_ADA = []\n",
    "for t in tqdm(range(epochs)):\n",
    "    \n",
    "    # train\n",
    "    train_accuracy, average_train_loss = train(train_dataloader, model, loss_fn, optimizer_ADA)\n",
    "    all_train_accuracies_ADA += [train_accuracy]\n",
    "    \n",
    "    #test\n",
    "    test_accuracy, average_test_loss = test(test_dataloader, model, loss_fn)\n",
    "    all_test_accuracies_ADA += [test_accuracy]\n",
    "    \n",
    "    print(f\"Epoch {t+1}:\\t Train accuracy: {100*train_accuracy:0.1f}%\\t Avg train loss: {average_train_loss:>6f}\\t Test accuracy: {100*test_accuracy:0.1f}%\\t Avg test loss: {average_test_loss:>6f}\")"
   ]
  },
  {
   "attachments": {},
   "cell_type": "markdown",
   "metadata": {},
   "source": [
    "## **Part 5 training process**"
   ]
  },
  {
   "cell_type": "code",
   "execution_count": 133,
   "metadata": {},
   "outputs": [
    {
     "name": "stderr",
     "output_type": "stream",
     "text": [
      " 10%|█         | 1/10 [00:57<08:36, 57.41s/it]"
     ]
    },
    {
     "name": "stdout",
     "output_type": "stream",
     "text": [
      "Epoch 1:\t Train accuracy: 47.4%\t Avg train loss: 1.450863\t Test accuracy: 58.1%\t Avg test loss: 1.157048\n"
     ]
    },
    {
     "name": "stderr",
     "output_type": "stream",
     "text": [
      " 20%|██        | 2/10 [01:54<07:37, 57.18s/it]"
     ]
    },
    {
     "name": "stdout",
     "output_type": "stream",
     "text": [
      "Epoch 2:\t Train accuracy: 64.0%\t Avg train loss: 1.019376\t Test accuracy: 65.6%\t Avg test loss: 0.964090\n"
     ]
    },
    {
     "name": "stderr",
     "output_type": "stream",
     "text": [
      " 30%|███       | 3/10 [02:51<06:40, 57.15s/it]"
     ]
    },
    {
     "name": "stdout",
     "output_type": "stream",
     "text": [
      "Epoch 3:\t Train accuracy: 71.7%\t Avg train loss: 0.806337\t Test accuracy: 71.1%\t Avg test loss: 0.832114\n"
     ]
    },
    {
     "name": "stderr",
     "output_type": "stream",
     "text": [
      " 40%|████      | 4/10 [03:48<05:42, 57.03s/it]"
     ]
    },
    {
     "name": "stdout",
     "output_type": "stream",
     "text": [
      "Epoch 4:\t Train accuracy: 77.3%\t Avg train loss: 0.649548\t Test accuracy: 71.7%\t Avg test loss: 0.840580\n"
     ]
    },
    {
     "name": "stderr",
     "output_type": "stream",
     "text": [
      " 50%|█████     | 5/10 [04:46<04:46, 57.33s/it]"
     ]
    },
    {
     "name": "stdout",
     "output_type": "stream",
     "text": [
      "Epoch 5:\t Train accuracy: 82.2%\t Avg train loss: 0.506787\t Test accuracy: 71.8%\t Avg test loss: 0.858561\n"
     ]
    },
    {
     "name": "stderr",
     "output_type": "stream",
     "text": [
      " 60%|██████    | 6/10 [05:44<03:50, 57.51s/it]"
     ]
    },
    {
     "name": "stdout",
     "output_type": "stream",
     "text": [
      "Epoch 6:\t Train accuracy: 87.1%\t Avg train loss: 0.369910\t Test accuracy: 71.9%\t Avg test loss: 0.926163\n"
     ]
    },
    {
     "name": "stderr",
     "output_type": "stream",
     "text": [
      " 70%|███████   | 7/10 [06:42<02:53, 57.78s/it]"
     ]
    },
    {
     "name": "stdout",
     "output_type": "stream",
     "text": [
      "Epoch 7:\t Train accuracy: 91.5%\t Avg train loss: 0.247296\t Test accuracy: 70.3%\t Avg test loss: 1.182846\n"
     ]
    },
    {
     "name": "stderr",
     "output_type": "stream",
     "text": [
      " 80%|████████  | 8/10 [07:40<01:55, 57.73s/it]"
     ]
    },
    {
     "name": "stdout",
     "output_type": "stream",
     "text": [
      "Epoch 8:\t Train accuracy: 94.1%\t Avg train loss: 0.171785\t Test accuracy: 71.4%\t Avg test loss: 1.270145\n"
     ]
    },
    {
     "name": "stderr",
     "output_type": "stream",
     "text": [
      " 90%|█████████ | 9/10 [08:35<00:56, 57.00s/it]"
     ]
    },
    {
     "name": "stdout",
     "output_type": "stream",
     "text": [
      "Epoch 9:\t Train accuracy: 95.9%\t Avg train loss: 0.119055\t Test accuracy: 70.8%\t Avg test loss: 1.541173\n"
     ]
    },
    {
     "name": "stderr",
     "output_type": "stream",
     "text": [
      "100%|██████████| 10/10 [09:30<00:00, 57.09s/it]"
     ]
    },
    {
     "name": "stdout",
     "output_type": "stream",
     "text": [
      "Epoch 10:\t Train accuracy: 96.5%\t Avg train loss: 0.098757\t Test accuracy: 70.5%\t Avg test loss: 1.661921\n"
     ]
    },
    {
     "name": "stderr",
     "output_type": "stream",
     "text": [
      "\n"
     ]
    }
   ],
   "source": [
    "#3 times 3 filters\n",
    "epochs = 10\n",
    "all_train_accuracies_3times3 = []\n",
    "all_test_accuracies_3times3 = []\n",
    "for t in tqdm(range(epochs)):\n",
    "    \n",
    "    # train\n",
    "    train_accuracy, average_train_loss = train(train_dataloader, model_3times3, loss_fn, optimizer)\n",
    "    all_train_accuracies_3times3 += [train_accuracy]\n",
    "    \n",
    "    #test\n",
    "    test_accuracy, average_test_loss = test(test_dataloader, model_3times3, loss_fn)\n",
    "    all_test_accuracies_3times3 += [test_accuracy]\n",
    "    \n",
    "    print(f\"Epoch {t+1}:\\t Train accuracy: {100*train_accuracy:0.1f}%\\t Avg train loss: {average_train_loss:>6f}\\t Test accuracy: {100*test_accuracy:0.1f}%\\t Avg test loss: {average_test_loss:>6f}\")"
   ]
  },
  {
   "cell_type": "markdown",
   "metadata": {
    "id": "EX3lpjAm8HsP"
   },
   "source": [
    "## Plot Results\n",
    "\n",
    "Display the training and testing accuracy as a function of the number of epochs\n",
    "\n"
   ]
  },
  {
   "cell_type": "code",
   "execution_count": null,
   "metadata": {
    "id": "vPizhJp58HsP"
   },
   "outputs": [],
   "source": [
    "plt.plot(all_train_accuracies, label=\"CNN\",)\n",
    "plt.title('training accuracy')\n",
    "plt.ylabel('training accuracy')\n",
    "plt.xlabel('epoch')\n",
    "plt.legend(['Conv'], loc='lower right')\n",
    "plt.show()\n",
    "\n",
    "plt.plot(all_test_accuracies, label=\"CNN\")\n",
    "plt.title('testing accuracy')\n",
    "plt.ylabel('testing accuracy')\n",
    "plt.xlabel('epoch')\n",
    "plt.legend(['Conv'], loc='lower right')\n",
    "plt.show()\n"
   ]
  },
  {
   "attachments": {},
   "cell_type": "markdown",
   "metadata": {
    "id": "wjm3nnTWFTzx"
   },
   "source": [
    "## **Part 1 results**\n",
    "\n",
    "The depth of the networks can affect its performance. Generally depper networks can learn more complex representations and may have better performance, up to a certain point but deeper networks can also be difficult to train and can suffer from vanishing gradients. Hence why it began to under perform at layer 3."
   ]
  },
  {
   "cell_type": "code",
   "execution_count": 55,
   "metadata": {
    "id": "Q5l4behPFcz1"
   },
   "outputs": [
    {
     "data": {
      "image/png": "[encoded data removed]",
      "text/plain": [
       "<Figure size 640x480 with 1 Axes>"
      ]
     },
     "metadata": {},
     "output_type": "display_data"
    },
    {
     "data": {
      "image/png": "[encoded data removed]",
      "text/plain": [
       "<Figure size 640x480 with 1 Axes>"
      ]
     },
     "metadata": {},
     "output_type": "display_data"
    }
   ],
   "source": [
    "plt.plot(all_train_accuracies, label=\"CNN\", color=\"red\")\n",
    "plt.plot(all_train_accuracies_layer0, label=\"0\", color=\"blue\")\n",
    "plt.plot(all_train_accuracies_layer1, label=\"1\",color=\"green\")\n",
    "plt.plot(all_train_accuracies_layer2, label=\"2\",color=\"yellow\")\n",
    "plt.plot(all_train_accuracies_layer3, label=\"3\",color=\"purple\")\n",
    "plt.title('training accuracy')\n",
    "plt.ylabel('training accuracy')\n",
    "plt.xlabel('epoch')\n",
    "plt.legend(['Conv'], loc='lower right')\n",
    "plt.show()\n",
    "\n",
    "plt.plot(all_test_accuracies, label=\"CNN\", color=\"red\")\n",
    "plt.plot(all_test_accuracies_layer0, label=\"0\", color=\"blue\")\n",
    "plt.plot(all_test_accuracies_layer1, label=\"1\", color=\"green\")\n",
    "plt.plot(all_test_accuracies_layer2, label=\"2\", color=\"yellow\")\n",
    "plt.plot(all_test_accuracies_layer3, label=\"3\", color=\"purple\")\n",
    "plt.title('testing accuracy')\n",
    "plt.ylabel('testing accuracy')\n",
    "plt.xlabel('epoch')\n",
    "plt.legend(['Conv'], loc='lower right')\n",
    "plt.show()"
   ]
  },
  {
   "attachments": {},
   "cell_type": "markdown",
   "metadata": {
    "id": "MEY8JeOGGv1a"
   },
   "source": [
    "## **Part 2 results**\n",
    "\n",
    "The CNN(sigmoid) model might perform differenlty from the CNN(relu) model due the chractersitics of the activitation function. Sigmoid has a smooth curve and outputs values between 1 and 0 which can be good for probability output but it can also suffer from vanishing gradients making it slower and difficult to compute.\n",
    "ReLU is faster and simpiler to compute than sigmoid because it produces sparse activitation which can help to prevent overfitting and improve generalization"
   ]
  },
  {
   "cell_type": "code",
   "execution_count": 62,
   "metadata": {
    "id": "n0VTlbrFG_Tt"
   },
   "outputs": [
    {
     "data": {
      "image/png": "[encoded data removed]",
      "text/plain": [
       "<Figure size 640x480 with 1 Axes>"
      ]
     },
     "metadata": {},
     "output_type": "display_data"
    },
    {
     "data": {
      "image/png": "[encoded data removed]",
      "text/plain": [
       "<Figure size 640x480 with 1 Axes>"
      ]
     },
     "metadata": {},
     "output_type": "display_data"
    }
   ],
   "source": [
    "plt.plot(all_train_accuracies, label=\"ReLU\", color=\"red\")\n",
    "plt.plot(all_train_accuracies_sigmoid, label=\"Sigmoid\", color=\"blue\")\n",
    "plt.title('training accuracy')\n",
    "plt.ylabel('training accuracy')\n",
    "plt.xlabel('epoch')\n",
    "plt.legend(['Conv'], loc='lower right')\n",
    "plt.show()\n",
    "\n",
    "plt.plot(all_test_accuracies, label=\"ReLU\", color=\"red\")\n",
    "plt.plot(all_test_accuracies_sigmoid, label=\"Sigmoid\", color=\"blue\")\n",
    "plt.title('testing accuracy')\n",
    "plt.ylabel('testing accuracy')\n",
    "plt.xlabel('epoch')\n",
    "plt.legend(['Conv'], loc='lower right')\n",
    "plt.show()"
   ]
  },
  {
   "attachments": {},
   "cell_type": "markdown",
   "metadata": {
    "id": "27juhG9qHyFN"
   },
   "source": [
    "## **Part 3 results**\n",
    "The dropout model might perform better due its regularization effect. The dropout can prevent overfitting by randomly dropping some of the nuerons during training which prevents them from becoming too dependent on eachother and incourage independence and rubustness."
   ]
  },
  {
   "cell_type": "code",
   "execution_count": 75,
   "metadata": {
    "id": "a_909Cd1H_Hm"
   },
   "outputs": [
    {
     "data": {
      "image/png": "[encoded data removed]",
      "text/plain": [
       "<Figure size 640x480 with 1 Axes>"
      ]
     },
     "metadata": {},
     "output_type": "display_data"
    },
    {
     "data": {
      "image/png": "[encoded data removed]",
      "text/plain": [
       "<Figure size 640x480 with 1 Axes>"
      ]
     },
     "metadata": {},
     "output_type": "display_data"
    }
   ],
   "source": [
    "plt.plot(all_train_accuracies, label=\"Without Dropout\", color=\"red\")\n",
    "plt.plot(all_train_accuracies_dropout, label=\"With Dropout\",color=\"blue\")\n",
    "plt.title('training accuracy')\n",
    "plt.ylabel('training accuracy')\n",
    "plt.xlabel('epoch')\n",
    "plt.legend(['Conv'], loc='lower right')\n",
    "plt.show()\n",
    "\n",
    "plt.plot(all_test_accuracies, label=\"Without Dropout\", color=\"red\")\n",
    "plt.plot(all_test_accuracies_dropout, label=\"With Dropout\", color=\"blue\")\n",
    "plt.title('testing accuracy')\n",
    "plt.ylabel('testing accuracy')\n",
    "plt.xlabel('epoch')\n",
    "plt.legend(['Conv'], loc='lower right')\n",
    "plt.show()"
   ]
  },
  {
   "attachments": {},
   "cell_type": "markdown",
   "metadata": {
    "id": "GE0_iF_wVZ65"
   },
   "source": [
    "## **Part 4 results**\n",
    "\n",
    "Different optimization algorithms can affect model performance in different ways. Adam is generally preferred for its adaptive learning rate and momentum, while SGD can be effective with a well-tuned learning rate and momentum. RMSprop is useful in scenarios where gradients can vary widely, and Adagrad is useful for sparse data scenarios.\n",
    "\n",
    "Adam and Adagrad are two adaptive learning rate optimization algorithms that can perform similarly in practice, especially for deep neural networks with dense data. Adagrad adapts the learning rate of each weight by dividing the current learning rate by the square root of the sum of the squared gradients of that weight, while Adam calculates a moving average of both the first and second moments of the gradients to adapt the learning rate for each weight. Which is why they're performance is so similar.\n",
    "\n",
    "The key difference between these RSMprop and Adagrad is the way they adapt the learning rate. RMSprop adapts the learning rate based on the recent history of gradients, while SGD simply adjusts the learning rate based on the gradient at the current iteration. Which is why the performance is so different."
   ]
  },
  {
   "cell_type": "code",
   "execution_count": 91,
   "metadata": {
    "id": "yfbnw7xEVevQ"
   },
   "outputs": [
    {
     "data": {
      "image/png": "[encoded data removed]",
      "text/plain": [
       "<Figure size 640x480 with 1 Axes>"
      ]
     },
     "metadata": {},
     "output_type": "display_data"
    },
    {
     "data": {
      "image/png": "[encoded data removed]",
      "text/plain": [
       "<Figure size 640x480 with 1 Axes>"
      ]
     },
     "metadata": {},
     "output_type": "display_data"
    }
   ],
   "source": [
    "plt.plot(all_train_accuracies_ADAM, label=\"Adam\", color=\"red\")\n",
    "plt.plot(all_train_accuracies_SGD, label=\"SGD\", color=\"blue\")\n",
    "plt.plot(all_train_accuracies_RMS, label=\"RMSprop\", color=\"green\")\n",
    "plt.plot(all_train_accuracies_ADA, label=\"Adagrad\",color=\"yellow\")\n",
    "plt.title('training accuracy')\n",
    "plt.ylabel('training accuracy')\n",
    "plt.xlabel('epoch')\n",
    "plt.legend(['Conv'], loc='lower right')\n",
    "plt.show()\n",
    "\n",
    "plt.plot(all_test_accuracies_ADAM, label=\"Adam\", color=\"red\")\n",
    "plt.plot(all_test_accuracies_SGD, label=\"SGD\", color=\"blue\")\n",
    "plt.plot(all_test_accuracies_RMS, label=\"RMSprop\", color=\"green\")\n",
    "plt.plot(all_test_accuracies_ADA, label=\"Adagrad\", color=\"yellow\")\n",
    "plt.title('testing accuracy')\n",
    "plt.ylabel('testing accuracy')\n",
    "plt.xlabel('epoch')\n",
    "plt.legend(['Conv'], loc='lower right')\n",
    "plt.show()"
   ]
  },
  {
   "attachments": {},
   "cell_type": "markdown",
   "metadata": {},
   "source": [
    "## **Part 5 results**\n",
    "\n",
    "They perform fairly similar because both models have a similar depth of convolutional layers, use the same number of filters in each layer, and have similar max pooling and fully connected layers"
   ]
  },
  {
   "cell_type": "code",
   "execution_count": 134,
   "metadata": {},
   "outputs": [
    {
     "data": {
      "image/png": "[encoded data removed]",
      "text/plain": [
       "<Figure size 640x480 with 1 Axes>"
      ]
     },
     "metadata": {},
     "output_type": "display_data"
    },
    {
     "data": {
      "image/png": "[encoded data removed]",
      "text/plain": [
       "<Figure size 640x480 with 1 Axes>"
      ]
     },
     "metadata": {},
     "output_type": "display_data"
    }
   ],
   "source": [
    "plt.plot(all_train_accuracies, label=\"5*5\", color=\"red\")\n",
    "plt.plot(all_train_accuracies_3times3, label=\"3*3\", color=\"blue\")\n",
    "plt.title('training accuracy')\n",
    "plt.ylabel('training accuracy')\n",
    "plt.xlabel('epoch')\n",
    "plt.legend(['Conv'], loc='lower right')\n",
    "plt.show()\n",
    "\n",
    "plt.plot(all_test_accuracies, label=\"5*5\", color=\"red\")\n",
    "plt.plot(all_test_accuracies_3times3, label=\"3*3\", color=\"blue\")\n",
    "plt.title('testing accuracy')\n",
    "plt.ylabel('testing accuracy')\n",
    "plt.xlabel('epoch')\n",
    "plt.legend(['Conv'], loc='lower right')\n",
    "plt.show()"
   ]
  },
  {
   "attachments": {},
   "cell_type": "markdown",
   "metadata": {},
   "source": [
    "## **Part 6**\n",
    "\n",
    "We can find weights and biases for a neural network that use the sigmoid activation function to produce the same output as a neural network that uses the tanh activation function for any input x. \n",
    "\n",
    "By using the identity **tanh(x) = 2sigmoid(2x) - 1**, \n",
    "we can rewrite the tanh network as: \n",
    "**f(x) = W(1) [2sigmoid(2(W(2)x + b(2))) - 1] + b(1) = (2W(1))sigmoid(2(W(2)x + b(2))) + (b(1) - W(1))** \n",
    "\n",
    "Then, construct a new network g(x) with sigmoid activation functions that is mathematically equivalent \n",
    "to **f(x) by setting W'(1) = 2W(1), W'(2) = 2W(2), b'(1) = b(1) - W(1), and b'(2) = b(2)**\n",
    "\n",
    "The output of g(x) is given by **g(x) = W'(1) sigmoid(W'(2) x + b'(2)) + b'(1) = 2W(1) sigmoid(2W(2) x + b(2)) + (b(1) - W(1)) = f(x)**\n",
    "\n",
    "Therefore, the neural network g(x) with sigmoid activation functions is mathematically equivalent to the neural network f(x) with tanh activation functions and can represent the same space of functions."
   ]
  }
 ],
 "metadata": {
  "accelerator": "GPU",
  "colab": {
   "collapsed_sections": [
    "Tizfk0ON9sgV",
    "0nepySEK9sgX",
    "xb4nxsj09sgb",
    "g52WryT7PSLn",
    "cGV48CKmPKX7",
    "w4aYHC40uHFV",
    "ZfM14VqI9sgc",
    "mjQISadYC6sT",
    "rzLeBxnsDCK_",
    "a5ogw6xPDIM4",
    "mvmlIxNV9sgc",
    "8T0jbRxIPCJS",
    "YqWkWSVy9sgd",
    "Avpcl-Wi9sgd",
    "XwqRo-i3Erd0",
    "Je9JF-EvEzmg",
    "GEha_4b3E7kZ",
    "MRc0uVxcUFh4",
    "EX3lpjAm8HsP",
    "wjm3nnTWFTzx",
    "MEY8JeOGGv1a",
    "27juhG9qHyFN"
   ],
   "provenance": []
  },
  "gpuClass": "standard",
  "kernelspec": {
   "display_name": "Python 3",
   "language": "python",
   "name": "python3"
  },
  "language_info": {
   "codemirror_mode": {
    "name": "ipython",
    "version": 3
   },
   "file_extension": ".py",
   "mimetype": "text/x-python",
   "name": "python",
   "nbconvert_exporter": "python",
   "pygments_lexer": "ipython3",
   "version": "3.10.5"
  },
  "vscode": {
   "interpreter": {
    "hash": "1552ef4e7e7637db7278f6b5fb8d0e08efb2f00e7fe4bccd1989544b0a004380"
   }
  },
  "widgets": {
   "application/vnd.jupyter.widget-state+json": {
    "0cbe71f79fc647cba097c905cfaf1f9e": {
     "model_module": "@jupyter-widgets/base",
     "model_module_version": "1.2.0",
     "model_name": "LayoutModel",
     "state": {
      "_model_module": "@jupyter-widgets/base",
      "_model_module_version": "1.2.0",
      "_model_name": "LayoutModel",
      "_view_count": null,
      "_view_module": "@jupyter-widgets/base",
      "_view_module_version": "1.2.0",
      "_view_name": "LayoutView",
      "align_content": null,
      "align_items": null,
      "align_self": null,
      "border": null,
      "bottom": null,
      "display": null,
      "flex": null,
      "flex_flow": null,
      "grid_area": null,
      "grid_auto_columns": null,
      "grid_auto_flow": null,
      "grid_auto_rows": null,
      "grid_column": null,
      "grid_gap": null,
      "grid_row": null,
      "grid_template_areas": null,
      "grid_template_columns": null,
      "grid_template_rows": null,
      "height": null,
      "justify_content": null,
      "justify_items": null,
      "left": null,
      "margin": null,
      "max_height": null,
      "max_width": null,
      "min_height": null,
      "min_width": null,
      "object_fit": null,
      "object_position": null,
      "order": null,
      "overflow": null,
      "overflow_x": null,
      "overflow_y": null,
      "padding": null,
      "right": null,
      "top": null,
      "visibility": null,
      "width": null
     }
    },
    "2d66bd15b2e44dfb9ebcc28c53d940bf": {
     "model_module": "@jupyter-widgets/controls",
     "model_module_version": "1.5.0",
     "model_name": "HBoxModel",
     "state": {
      "_dom_classes": [],
      "_model_module": "@jupyter-widgets/controls",
      "_model_module_version": "1.5.0",
      "_model_name": "HBoxModel",
      "_view_count": null,
      "_view_module": "@jupyter-widgets/controls",
      "_view_module_version": "1.5.0",
      "_view_name": "HBoxView",
      "box_style": "",
      "children": [
       "IPY_MODEL_c66e06c89acf4f1c93d866db9fa1343f",
       "IPY_MODEL_ba7e0a650eb04052b89934a596c2063d",
       "IPY_MODEL_dbbf002ae9d94b189ab688ccc58f584f"
      ],
      "layout": "IPY_MODEL_9aaf24b21ea74598a5f9c102735dde2c"
     }
    },
    "4ffab6f2d5d14f73862cfd8ecd6fe70d": {
     "model_module": "@jupyter-widgets/controls",
     "model_module_version": "1.5.0",
     "model_name": "ProgressStyleModel",
     "state": {
      "_model_module": "@jupyter-widgets/controls",
      "_model_module_version": "1.5.0",
      "_model_name": "ProgressStyleModel",
      "_view_count": null,
      "_view_module": "@jupyter-widgets/base",
      "_view_module_version": "1.2.0",
      "_view_name": "StyleView",
      "bar_color": null,
      "description_width": ""
     }
    },
    "9aaf24b21ea74598a5f9c102735dde2c": {
     "model_module": "@jupyter-widgets/base",
     "model_module_version": "1.2.0",
     "model_name": "LayoutModel",
     "state": {
      "_model_module": "@jupyter-widgets/base",
      "_model_module_version": "1.2.0",
      "_model_name": "LayoutModel",
      "_view_count": null,
      "_view_module": "@jupyter-widgets/base",
      "_view_module_version": "1.2.0",
      "_view_name": "LayoutView",
      "align_content": null,
      "align_items": null,
      "align_self": null,
      "border": null,
      "bottom": null,
      "display": null,
      "flex": null,
      "flex_flow": null,
      "grid_area": null,
      "grid_auto_columns": null,
      "grid_auto_flow": null,
      "grid_auto_rows": null,
      "grid_column": null,
      "grid_gap": null,
      "grid_row": null,
      "grid_template_areas": null,
      "grid_template_columns": null,
      "grid_template_rows": null,
      "height": null,
      "justify_content": null,
      "justify_items": null,
      "left": null,
      "margin": null,
      "max_height": null,
      "max_width": null,
      "min_height": null,
      "min_width": null,
      "object_fit": null,
      "object_position": null,
      "order": null,
      "overflow": null,
      "overflow_x": null,
      "overflow_y": null,
      "padding": null,
      "right": null,
      "top": null,
      "visibility": null,
      "width": null
     }
    },
    "ba7e0a650eb04052b89934a596c2063d": {
     "model_module": "@jupyter-widgets/controls",
     "model_module_version": "1.5.0",
     "model_name": "FloatProgressModel",
     "state": {
      "_dom_classes": [],
      "_model_module": "@jupyter-widgets/controls",
      "_model_module_version": "1.5.0",
      "_model_name": "FloatProgressModel",
      "_view_count": null,
      "_view_module": "@jupyter-widgets/controls",
      "_view_module_version": "1.5.0",
      "_view_name": "ProgressView",
      "bar_style": "success",
      "description": "",
      "description_tooltip": null,
      "layout": "IPY_MODEL_ed96b7e4f914491d997dde0a17b95c53",
      "max": 170498071,
      "min": 0,
      "orientation": "horizontal",
      "style": "IPY_MODEL_4ffab6f2d5d14f73862cfd8ecd6fe70d",
      "value": 170498071
     }
    },
    "c66e06c89acf4f1c93d866db9fa1343f": {
     "model_module": "@jupyter-widgets/controls",
     "model_module_version": "1.5.0",
     "model_name": "HTMLModel",
     "state": {
      "_dom_classes": [],
      "_model_module": "@jupyter-widgets/controls",
      "_model_module_version": "1.5.0",
      "_model_name": "HTMLModel",
      "_view_count": null,
      "_view_module": "@jupyter-widgets/controls",
      "_view_module_version": "1.5.0",
      "_view_name": "HTMLView",
      "description": "",
      "description_tooltip": null,
      "layout": "IPY_MODEL_0cbe71f79fc647cba097c905cfaf1f9e",
      "placeholder": "​",
      "style": "IPY_MODEL_e98252b031934fa4818356cdcb890a22",
      "value": "100%"
     }
    },
    "d15a889fa11f4d07a4759b1f4602635d": {
     "model_module": "@jupyter-widgets/controls",
     "model_module_version": "1.5.0",
     "model_name": "DescriptionStyleModel",
     "state": {
      "_model_module": "@jupyter-widgets/controls",
      "_model_module_version": "1.5.0",
      "_model_name": "DescriptionStyleModel",
      "_view_count": null,
      "_view_module": "@jupyter-widgets/base",
      "_view_module_version": "1.2.0",
      "_view_name": "StyleView",
      "description_width": ""
     }
    },
    "d8227bae2e474199a254b0cbdb68b99f": {
     "model_module": "@jupyter-widgets/base",
     "model_module_version": "1.2.0",
     "model_name": "LayoutModel",
     "state": {
      "_model_module": "@jupyter-widgets/base",
      "_model_module_version": "1.2.0",
      "_model_name": "LayoutModel",
      "_view_count": null,
      "_view_module": "@jupyter-widgets/base",
      "_view_module_version": "1.2.0",
      "_view_name": "LayoutView",
      "align_content": null,
      "align_items": null,
      "align_self": null,
      "border": null,
      "bottom": null,
      "display": null,
      "flex": null,
      "flex_flow": null,
      "grid_area": null,
      "grid_auto_columns": null,
      "grid_auto_flow": null,
      "grid_auto_rows": null,
      "grid_column": null,
      "grid_gap": null,
      "grid_row": null,
      "grid_template_areas": null,
      "grid_template_columns": null,
      "grid_template_rows": null,
      "height": null,
      "justify_content": null,
      "justify_items": null,
      "left": null,
      "margin": null,
      "max_height": null,
      "max_width": null,
      "min_height": null,
      "min_width": null,
      "object_fit": null,
      "object_position": null,
      "order": null,
      "overflow": null,
      "overflow_x": null,
      "overflow_y": null,
      "padding": null,
      "right": null,
      "top": null,
      "visibility": null,
      "width": null
     }
    },
    "dbbf002ae9d94b189ab688ccc58f584f": {
     "model_module": "@jupyter-widgets/controls",
     "model_module_version": "1.5.0",
     "model_name": "HTMLModel",
     "state": {
      "_dom_classes": [],
      "_model_module": "@jupyter-widgets/controls",
      "_model_module_version": "1.5.0",
      "_model_name": "HTMLModel",
      "_view_count": null,
      "_view_module": "@jupyter-widgets/controls",
      "_view_module_version": "1.5.0",
      "_view_name": "HTMLView",
      "description": "",
      "description_tooltip": null,
      "layout": "IPY_MODEL_d8227bae2e474199a254b0cbdb68b99f",
      "placeholder": "​",
      "style": "IPY_MODEL_d15a889fa11f4d07a4759b1f4602635d",
      "value": " 170498071/170498071 [00:16&lt;00:00, 6895728.78it/s]"
     }
    },
    "e98252b031934fa4818356cdcb890a22": {
     "model_module": "@jupyter-widgets/controls",
     "model_module_version": "1.5.0",
     "model_name": "DescriptionStyleModel",
     "state": {
      "_model_module": "@jupyter-widgets/controls",
      "_model_module_version": "1.5.0",
      "_model_name": "DescriptionStyleModel",
      "_view_count": null,
      "_view_module": "@jupyter-widgets/base",
      "_view_module_version": "1.2.0",
      "_view_name": "StyleView",
      "description_width": ""
     }
    },
    "ed96b7e4f914491d997dde0a17b95c53": {
     "model_module": "@jupyter-widgets/base",
     "model_module_version": "1.2.0",
     "model_name": "LayoutModel",
     "state": {
      "_model_module": "@jupyter-widgets/base",
      "_model_module_version": "1.2.0",
      "_model_name": "LayoutModel",
      "_view_count": null,
      "_view_module": "@jupyter-widgets/base",
      "_view_module_version": "1.2.0",
      "_view_name": "LayoutView",
      "align_content": null,
      "align_items": null,
      "align_self": null,
      "border": null,
      "bottom": null,
      "display": null,
      "flex": null,
      "flex_flow": null,
      "grid_area": null,
      "grid_auto_columns": null,
      "grid_auto_flow": null,
      "grid_auto_rows": null,
      "grid_column": null,
      "grid_gap": null,
      "grid_row": null,
      "grid_template_areas": null,
      "grid_template_columns": null,
      "grid_template_rows": null,
      "height": null,
      "justify_content": null,
      "justify_items": null,
      "left": null,
      "margin": null,
      "max_height": null,
      "max_width": null,
      "min_height": null,
      "min_width": null,
      "object_fit": null,
      "object_position": null,
      "order": null,
      "overflow": null,
      "overflow_x": null,
      "overflow_y": null,
      "padding": null,
      "right": null,
      "top": null,
      "visibility": null,
      "width": null
     }
    }
   }
  }
 },
 "nbformat": 4,
 "nbformat_minor": 0
}
