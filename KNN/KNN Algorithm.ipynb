{
  "nbformat": 4,
  "nbformat_minor": 0,
  "metadata": {
    "colab": {
      "provenance": []
    },
    "kernelspec": {
      "name": "python3",
      "display_name": "Python 3"
    }
  },
  "cells": [
    {
      "cell_type": "markdown",
      "metadata": {
        "id": "JFXZug066bJX"
      },
      "source": [
        "# Upload files in Google Colab\n",
        "If you are running this Jupyter Notebook on Google Colab, run this cell to upload the data files (train_inputs.csv, train_labels.csv, test_inputs.csv, test_labels.csv) in the Colab virtual machine.  You will be prompted to select files that you would like to upload. \n",
        "\n",
        "If you are running this Jupyter Notebook on your computer, you do not need to run this cell."
      ]
    },
    {
      "cell_type": "code",
      "metadata": {
        "id": "dqBJV_Br4XeI",
        "colab": {
          "base_uri": "https://localhost:8080/",
          "height": 212
        },
        "outputId": "900da628-b0f7-4019-f0c8-5101c4681c97"
      },
      "source": [
        "from google.colab import files\n",
        "uploaded = files.upload()\n",
        "%ls"
      ],
      "execution_count": 9,
      "outputs": [
        {
          "output_type": "display_data",
          "data": {
            "text/plain": [
              "<IPython.core.display.HTML object>"
            ],
            "text/html": [
              "\n",
              "     <input type=\"file\" id=\"files-d51ff42d-615f-4961-bf33-b0007823404a\" name=\"files[]\" multiple disabled\n",
              "        style=\"border:none\" />\n",
              "     <output id=\"result-d51ff42d-615f-4961-bf33-b0007823404a\">\n",
              "      Upload widget is only available when the cell has been executed in the\n",
              "      current browser session. Please rerun this cell to enable.\n",
              "      </output>\n",
              "      <script>// Copyright 2017 Google LLC\n",
              "//\n",
              "// Licensed under the Apache License, Version 2.0 (the \"License\");\n",
              "// you may not use this file except in compliance with the License.\n",
              "// You may obtain a copy of the License at\n",
              "//\n",
              "//      http://www.apache.org/licenses/LICENSE-2.0\n",
              "//\n",
              "// Unless required by applicable law or agreed to in writing, software\n",
              "// distributed under the License is distributed on an \"AS IS\" BASIS,\n",
              "// WITHOUT WARRANTIES OR CONDITIONS OF ANY KIND, either express or implied.\n",
              "// See the License for the specific language governing permissions and\n",
              "// limitations under the License.\n",
              "\n",
              "/**\n",
              " * @fileoverview Helpers for google.colab Python module.\n",
              " */\n",
              "(function(scope) {\n",
              "function span(text, styleAttributes = {}) {\n",
              "  const element = document.createElement('span');\n",
              "  element.textContent = text;\n",
              "  for (const key of Object.keys(styleAttributes)) {\n",
              "    element.style[key] = styleAttributes[key];\n",
              "  }\n",
              "  return element;\n",
              "}\n",
              "\n",
              "// Max number of bytes which will be uploaded at a time.\n",
              "const MAX_PAYLOAD_SIZE = 100 * 1024;\n",
              "\n",
              "function _uploadFiles(inputId, outputId) {\n",
              "  const steps = uploadFilesStep(inputId, outputId);\n",
              "  const outputElement = document.getElementById(outputId);\n",
              "  // Cache steps on the outputElement to make it available for the next call\n",
              "  // to uploadFilesContinue from Python.\n",
              "  outputElement.steps = steps;\n",
              "\n",
              "  return _uploadFilesContinue(outputId);\n",
              "}\n",
              "\n",
              "// This is roughly an async generator (not supported in the browser yet),\n",
              "// where there are multiple asynchronous steps and the Python side is going\n",
              "// to poll for completion of each step.\n",
              "// This uses a Promise to block the python side on completion of each step,\n",
              "// then passes the result of the previous step as the input to the next step.\n",
              "function _uploadFilesContinue(outputId) {\n",
              "  const outputElement = document.getElementById(outputId);\n",
              "  const steps = outputElement.steps;\n",
              "\n",
              "  const next = steps.next(outputElement.lastPromiseValue);\n",
              "  return Promise.resolve(next.value.promise).then((value) => {\n",
              "    // Cache the last promise value to make it available to the next\n",
              "    // step of the generator.\n",
              "    outputElement.lastPromiseValue = value;\n",
              "    return next.value.response;\n",
              "  });\n",
              "}\n",
              "\n",
              "/**\n",
              " * Generator function which is called between each async step of the upload\n",
              " * process.\n",
              " * @param {string} inputId Element ID of the input file picker element.\n",
              " * @param {string} outputId Element ID of the output display.\n",
              " * @return {!Iterable<!Object>} Iterable of next steps.\n",
              " */\n",
              "function* uploadFilesStep(inputId, outputId) {\n",
              "  const inputElement = document.getElementById(inputId);\n",
              "  inputElement.disabled = false;\n",
              "\n",
              "  const outputElement = document.getElementById(outputId);\n",
              "  outputElement.innerHTML = '';\n",
              "\n",
              "  const pickedPromise = new Promise((resolve) => {\n",
              "    inputElement.addEventListener('change', (e) => {\n",
              "      resolve(e.target.files);\n",
              "    });\n",
              "  });\n",
              "\n",
              "  const cancel = document.createElement('button');\n",
              "  inputElement.parentElement.appendChild(cancel);\n",
              "  cancel.textContent = 'Cancel upload';\n",
              "  const cancelPromise = new Promise((resolve) => {\n",
              "    cancel.onclick = () => {\n",
              "      resolve(null);\n",
              "    };\n",
              "  });\n",
              "\n",
              "  // Wait for the user to pick the files.\n",
              "  const files = yield {\n",
              "    promise: Promise.race([pickedPromise, cancelPromise]),\n",
              "    response: {\n",
              "      action: 'starting',\n",
              "    }\n",
              "  };\n",
              "\n",
              "  cancel.remove();\n",
              "\n",
              "  // Disable the input element since further picks are not allowed.\n",
              "  inputElement.disabled = true;\n",
              "\n",
              "  if (!files) {\n",
              "    return {\n",
              "      response: {\n",
              "        action: 'complete',\n",
              "      }\n",
              "    };\n",
              "  }\n",
              "\n",
              "  for (const file of files) {\n",
              "    const li = document.createElement('li');\n",
              "    li.append(span(file.name, {fontWeight: 'bold'}));\n",
              "    li.append(span(\n",
              "        `(${file.type || 'n/a'}) - ${file.size} bytes, ` +\n",
              "        `last modified: ${\n",
              "            file.lastModifiedDate ? file.lastModifiedDate.toLocaleDateString() :\n",
              "                                    'n/a'} - `));\n",
              "    const percent = span('0% done');\n",
              "    li.appendChild(percent);\n",
              "\n",
              "    outputElement.appendChild(li);\n",
              "\n",
              "    const fileDataPromise = new Promise((resolve) => {\n",
              "      const reader = new FileReader();\n",
              "      reader.onload = (e) => {\n",
              "        resolve(e.target.result);\n",
              "      };\n",
              "      reader.readAsArrayBuffer(file);\n",
              "    });\n",
              "    // Wait for the data to be ready.\n",
              "    let fileData = yield {\n",
              "      promise: fileDataPromise,\n",
              "      response: {\n",
              "        action: 'continue',\n",
              "      }\n",
              "    };\n",
              "\n",
              "    // Use a chunked sending to avoid message size limits. See b/62115660.\n",
              "    let position = 0;\n",
              "    do {\n",
              "      const length = Math.min(fileData.byteLength - position, MAX_PAYLOAD_SIZE);\n",
              "      const chunk = new Uint8Array(fileData, position, length);\n",
              "      position += length;\n",
              "\n",
              "      const base64 = btoa(String.fromCharCode.apply(null, chunk));\n",
              "      yield {\n",
              "        response: {\n",
              "          action: 'append',\n",
              "          file: file.name,\n",
              "          data: base64,\n",
              "        },\n",
              "      };\n",
              "\n",
              "      let percentDone = fileData.byteLength === 0 ?\n",
              "          100 :\n",
              "          Math.round((position / fileData.byteLength) * 100);\n",
              "      percent.textContent = `${percentDone}% done`;\n",
              "\n",
              "    } while (position < fileData.byteLength);\n",
              "  }\n",
              "\n",
              "  // All done.\n",
              "  yield {\n",
              "    response: {\n",
              "      action: 'complete',\n",
              "    }\n",
              "  };\n",
              "}\n",
              "\n",
              "scope.google = scope.google || {};\n",
              "scope.google.colab = scope.google.colab || {};\n",
              "scope.google.colab._files = {\n",
              "  _uploadFiles,\n",
              "  _uploadFilesContinue,\n",
              "};\n",
              "})(self);\n",
              "</script> "
            ]
          },
          "metadata": {}
        },
        {
          "output_type": "stream",
          "name": "stdout",
          "text": [
            "Saving test_inputs.csv to test_inputs.csv\n",
            "Saving test_labels.csv to test_labels.csv\n",
            "Saving train_inputs.csv to train_inputs.csv\n",
            "Saving train_labels.csv to train_labels.csv\n",
            "\u001b[0m\u001b[01;34msample_data\u001b[0m/     test_labels.csv   train_labels.csv\n",
            "test_inputs.csv  train_inputs.csv\n"
          ]
        }
      ]
    },
    {
      "cell_type": "markdown",
      "metadata": {
        "id": "LZDpxE4jmFwA"
      },
      "source": [
        "# Import libraries \n",
        "Do not use any other Python library."
      ]
    },
    {
      "cell_type": "code",
      "metadata": {
        "id": "m_1d0BPfmacB"
      },
      "source": [
        "import numpy as np\n",
        "import matplotlib.pyplot as plt"
      ],
      "execution_count": 3,
      "outputs": []
    },
    {
      "cell_type": "markdown",
      "metadata": {
        "id": "NYesJygrmgHM"
      },
      "source": [
        "# Function: load_knn_data\n",
        "\n",
        "This function loads the data for KNN from a local drive into RAM\n",
        "\n",
        "Outputs:\n",
        "\n",
        "*   **train_inputs**: numpy array of N training data points x M features\n",
        "*   **train_labels**: numpy array of N training labels\n",
        "*   **test_inputs**: numpy array of N' test data points x M features\n",
        "*   **test_labels**: numpy array of N' test labels\n",
        "\n",
        "\n",
        "\n",
        "\n",
        "  \n",
        "\n"
      ]
    },
    {
      "cell_type": "code",
      "metadata": {
        "id": "7goFIgwnomoo"
      },
      "source": [
        "def load_knn_data():\n",
        "  test_inputs = np.genfromtxt('test_inputs.csv', delimiter=',')\n",
        "  test_labels = np.genfromtxt('test_labels.csv', delimiter=',')\n",
        "  train_inputs = np.genfromtxt('train_inputs.csv', delimiter=',')\n",
        "  train_labels = np.genfromtxt('train_labels.csv', delimiter=',')\n",
        "  return train_inputs, train_labels, test_inputs, test_labels\n"
      ],
      "execution_count": 2,
      "outputs": []
    },
    {
      "cell_type": "markdown",
      "metadata": {
        "id": "Y87Mnf21owf0"
      },
      "source": [
        "# Function: predict_knn\n",
        "\n",
        "This function implements the KNN classifier to predict the label of a data point.  Measure distances with the Euclidean norm (L2 norm).  When there is a tie between two (or more) labels, break the tie by choosing any label. \n",
        "\n",
        "Inputs:\n",
        "*   **x**: input data point for which we want to predict the label (numpy array of M features)\n",
        "*   **inputs**: matrix of data points in which neighbours will be found (numpy array of N data points x M features)\n",
        "*   **labels**: vector of labels associated with the data points  (numpy array of N labels)\n",
        "*   **k_neighbours**: # of nearest neighbours that will be used\n",
        "\n",
        "Output:\n",
        "*   **predicted_label**: predicted label (integer)\n",
        "\n",
        "\n"
      ]
    },
    {
      "cell_type": "code",
      "metadata": {
        "id": "MNXK7L5wpOEa"
      },
      "source": [
        "def predict_knn(x, inputs, labels, k_neighbours):\n",
        "    neighbours = []\n",
        "    distances = np.linalg.norm(inputs - x, axis=1)\n",
        "    distance_sorted = np.argsort(distances)[:k_neighbours]\n",
        "\n",
        "    for i in distance_sorted:\n",
        "        neighbours.append(labels[i])\n",
        "\n",
        "    predicted_label = max(neighbours, key= neighbours.count)\n",
        "    return predicted_label"
      ],
      "execution_count": 31,
      "outputs": []
    },
    {
      "cell_type": "markdown",
      "metadata": {
        "id": "I7bIamtprLxK"
      },
      "source": [
        "# Function: eval_knn\n",
        "\n",
        "Function that evaluates the accuracy of the KNN classifier on a dataset.  The dataset to be evaluated consists of (inputs, labels).  The dataset used to find nearest neighbours consists of (train_inputs, train_labels).\n",
        "\n",
        "Inputs:\n",
        "*   **inputs**: matrix of input data points to be evaluated (numpy array of N data points x M features)\n",
        "*   **labels**: vector of target labels for the inputs (numpy array of N labels)\n",
        "*   **train_inputs**: matrix of input data points in which neighbours will be found (numpy array of N' data points x M features)\n",
        "*   **train_labels**: vector of labels for the training inputs (numpy array of N' labels)\n",
        "*   **k_neighbours**: # of nearest neighbours to be used (integer)\n",
        "\n",
        "Outputs:\n",
        "*   **accuracy**: percentage of correctly labeled data points (float)\n",
        "\n",
        "\n"
      ]
    },
    {
      "cell_type": "code",
      "metadata": {
        "id": "MCQe7L8XrjdI"
      },
      "source": [
        "def eval_knn(inputs, labels, train_inputs, train_labels, k_neighbours):\n",
        "\n",
        "  # dummy assignment until the function is filled in\n",
        "  results = []\n",
        "  for i in range(len(inputs)):\n",
        "    predicted_label = predict_knn(\n",
        "        inputs[i],\n",
        "        train_inputs,\n",
        "        train_labels,\n",
        "        k_neighbours\n",
        "      )\n",
        "    results += [labels[i]==predicted_label]\n",
        "  return np.sum(results)/len(results)*100"
      ],
      "execution_count": 27,
      "outputs": []
    },
    {
      "cell_type": "markdown",
      "metadata": {
        "id": "rXNO9nXb1beV"
      },
      "source": [
        "# Function: cross_validation_knn\n",
        "\n",
        "This function performs k-fold cross validation to determine the best number of neighbours for KNN.\n",
        "\n",
        "Inputs:\n",
        "*   **k_folds**: # of folds in cross-validation (integer)\n",
        "*   **hyperparameters**: list of hyperparameters where each hyperparameter is a different # of neighbours (list of integers)\n",
        "*   **inputs**: matrix of data points to be used when searching for neighbours (numpy array of N data points by M features)\n",
        "*   **labels**: vector of labels associated with the inputs (numpy array of N labels)\n",
        "\n",
        "Outputs:\n",
        "*   **best_hyperparam**: best # of neighbours for KNN (integer)\n",
        "*   **best_accuracy**: accuracy achieved with best_hyperparam (float)\n",
        "*   **accuracies**: vector of accuracies for the corresponding hyperparameters (numpy array of floats)\n",
        "\n",
        "\n",
        "\n"
      ]
    },
    {
      "cell_type": "code",
      "metadata": {
        "id": "VpHnYR3x1mFZ"
      },
      "source": [
        "def cross_validation_knn(k_folds, hyperparameters, inputs, labels):\n",
        "  \n",
        "  data_length = len(inputs)\n",
        "  data_folds = int(len(inputs) / k_folds)\n",
        "  average_accuracies = []\n",
        "  \n",
        "  for j in hyperparameters:\n",
        "        accuracy = []\n",
        "        for i in range(0, data_length, data_folds):\n",
        "            train_inputs = inputs[i:i+data_folds]\n",
        "            train_labels = labels[i:i+data_folds]\n",
        "            test_inputs = np.concatenate((inputs[:i], inputs[i+data_folds:]))\n",
        "            test_labels = np.concatenate((labels[:i], labels[i+data_folds:]), axis=0)\n",
        "            accuracy.append(eval_knn(test_inputs, test_labels, train_inputs, train_labels, j))\n",
        "        average_accuracies.append(np.average(accuracy))\n",
        "  \n",
        "  best_hyperparam = hyperparameters[np.argmax(average_accuracies)]\n",
        "  best_accuracy = max(average_accuracies)\n",
        "  return best_hyperparam, best_accuracy, np.array(average_accuracies)"
      ],
      "execution_count": 36,
      "outputs": []
    },
    {
      "cell_type": "markdown",
      "metadata": {
        "id": "qb31YTWg4rSm"
      },
      "source": [
        "# Function: plot_knn_accuracies\n",
        "\n",
        "Function that plots the KNN accuracies for different # of neighbours (hyperparameters) based on cross validation\n",
        "\n",
        "Inputs:\n",
        "*   **accuracies**: vector of accuracies for the corresponding hyperparameters (numpy array of floats)\n",
        "*   **hyperparams**: list of hyperparameters where each hyperparameter is a different # of neighbours (list of integers)\n"
      ]
    },
    {
      "cell_type": "code",
      "metadata": {
        "id": "MpbE_-Yt5HiI"
      },
      "source": [
        "def plot_knn_accuracies(accuracies,hyperparams):\n",
        "  plt.plot(hyperparams,accuracies)\n",
        "  plt.ylabel('accuracy')\n",
        "  plt.xlabel('k neighbours')\n",
        "  plt.show()  "
      ],
      "execution_count": 7,
      "outputs": []
    },
    {
      "cell_type": "markdown",
      "metadata": {
        "id": "iF2YiZnMaws8"
      },
      "source": [
        "# Main KNN code\n",
        "\n",
        "Load data.\n",
        "Use k-fold cross validation to find the best # of neighbours for KNN.\n",
        "Plot accuracies for different # of neighbours.\n",
        "Test KNN with the best # of neighbours."
      ]
    },
    {
      "cell_type": "code",
      "metadata": {
        "id": "Qw6MLmQ8bpA1",
        "colab": {
          "base_uri": "https://localhost:8080/",
          "height": 331
        },
        "outputId": "d8cbe9bd-285f-4f37-c5c8-0d91c02f631c"
      },
      "source": [
        "# load data\n",
        "train_inputs, train_labels, test_inputs, test_labels = load_knn_data()\n",
        "\n",
        "# number of neighbours to be evaluated by cross validation\n",
        "hyperparams = range(1,31)\n",
        "k_folds = 10\n",
        "best_k_neighbours, best_accuracy, accuracies = cross_validation_knn(k_folds, hyperparams, train_inputs, train_labels)\n",
        "\n",
        "# plot results\n",
        "plot_knn_accuracies(accuracies, hyperparams)\n",
        "print('Best # of neighbours k: ' + str(best_k_neighbours))\n",
        "print('Best cross validation accuracy: ' + str(best_accuracy))\n",
        "\n",
        "# evaluate with best # of neighbours\n",
        "accuracy = eval_knn(test_inputs, test_labels, train_inputs, train_labels, best_k_neighbours)\n",
        "print('Best accuracy: '+ str(accuracy))"
      ],
      "execution_count": 37,
      "outputs": [
        {
          "output_type": "display_data",
          "data": {
            "text/plain": [
              "<Figure size 432x288 with 1 Axes>"
            ],
            "image/png": "[encoded data removed]"
          },
          "metadata": {
            "needs_background": "light"
          }
        },
        {
          "output_type": "stream",
          "name": "stdout",
          "text": [
            "Best # of neighbours k: 9\n",
            "Best cross validation accuracy: 69.96666666666667\n",
            "Best accuracy: 78.18181818181819\n"
          ]
        }
      ]
    }
  ]
}